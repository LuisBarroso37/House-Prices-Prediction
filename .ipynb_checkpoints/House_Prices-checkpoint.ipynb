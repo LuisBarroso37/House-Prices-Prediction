{
 "cells": [
  {
   "cell_type": "markdown",
   "metadata": {},
   "source": [
    "## Predicting House Prices\n",
    "\n",
    "In this project I will try to predict the sale price of houses. Since I am trying to predict a continuous value (sale price) then it means that I am working on a regression problem.\n",
    "\n",
    "### Dataset\n",
    "\n",
    "For this Kaggle challenge we have a dataset split into two groups: training set and test set. These sets contain information about the houses but only the training set has the sale price for the houses. The training set has 1460 examples and the test set has 1459 examples.\n",
    "\n",
    "In total, there are 80 features and the target variable `SalePrice`. In the `Data` folder, we can find a data dictionary for this dataset in the file `data_description.txt`.\n",
    "\n",
    "### Evaluation metric\n",
    "\n",
    "The evaluation metric defined by [Kaggle](https://www.kaggle.com/c/house-prices-advanced-regression-techniques/overview/evaluation) in this competition is the Root Mean Squared Error (RMSE) between the logarithm of the predicted value and the logarithm of the observed sales price. Taking the logarithms means that errors in predicting expensive houses and cheap houses will affect the result equally.\n",
    "\n",
    "#### Importing libraries"
   ]
  },
  {
   "cell_type": "code",
   "execution_count": 1,
   "metadata": {},
   "outputs": [],
   "source": [
    "# Exploratory Data Analysis\n",
    "import pandas as pd\n",
    "import numpy as np\n",
    "import matplotlib.pyplot as plt\n",
    "import seaborn as sns\n",
    "%matplotlib inline\n",
    "\n",
    "# Fill missing values\n",
    "from sklearn.impute import SimpleImputer\n",
    "from sklearn.compose import ColumnTransformer\n",
    "\n",
    "# Label Encoding\n",
    "from sklearn.preprocessing import LabelEncoder\n",
    "\n",
    "# Box cox transformation\n",
    "from scipy.special import boxcox1p\n",
    "from scipy.stats import boxcox_normmax\n",
    "\n",
    "# Regression algorithms\n",
    "from sklearn.ensemble import RandomForestRegressor\n",
    "from sklearn.svm import SVR\n",
    "from sklearn.linear_model import SGDRegressor, LinearRegression, Ridge, Lasso, ElasticNet\n",
    "\n",
    "# Hyperparameter tuning\n",
    "from sklearn.model_selection import RandomizedSearchCV, GridSearchCV\n",
    "\n",
    "# Evaluation metrics\n",
    "from sklearn.model_selection import cross_val_score\n",
    "from sklearn.model_selection import learning_curve"
   ]
  },
  {
   "cell_type": "markdown",
   "metadata": {},
   "source": [
    "#### Load data"
   ]
  },
  {
   "cell_type": "code",
   "execution_count": 2,
   "metadata": {},
   "outputs": [
    {
     "data": {
      "text/plain": [
       "(1460, 81)"
      ]
     },
     "execution_count": 2,
     "metadata": {},
     "output_type": "execute_result"
    }
   ],
   "source": [
    "# Import training set\n",
    "df_train = pd.read_csv('Data/train.csv')\n",
    "\n",
    "# Check dimensions \n",
    "df_train.shape"
   ]
  },
  {
   "cell_type": "code",
   "execution_count": 3,
   "metadata": {},
   "outputs": [
    {
     "data": {
      "text/plain": [
       "(1459, 80)"
      ]
     },
     "execution_count": 3,
     "metadata": {},
     "output_type": "execute_result"
    }
   ],
   "source": [
    "# Import test set\n",
    "df_test = pd.read_csv('Data/test.csv')\n",
    "\n",
    "# Check dimensions \n",
    "df_test.shape"
   ]
  },
  {
   "cell_type": "code",
   "execution_count": 4,
   "metadata": {},
   "outputs": [
    {
     "data": {
      "text/html": [
       "<div>\n",
       "<style scoped>\n",
       "    .dataframe tbody tr th:only-of-type {\n",
       "        vertical-align: middle;\n",
       "    }\n",
       "\n",
       "    .dataframe tbody tr th {\n",
       "        vertical-align: top;\n",
       "    }\n",
       "\n",
       "    .dataframe thead th {\n",
       "        text-align: right;\n",
       "    }\n",
       "</style>\n",
       "<table border=\"1\" class=\"dataframe\">\n",
       "  <thead>\n",
       "    <tr style=\"text-align: right;\">\n",
       "      <th></th>\n",
       "      <th>Id</th>\n",
       "      <th>MSSubClass</th>\n",
       "      <th>MSZoning</th>\n",
       "      <th>LotFrontage</th>\n",
       "      <th>LotArea</th>\n",
       "      <th>Street</th>\n",
       "      <th>Alley</th>\n",
       "      <th>LotShape</th>\n",
       "      <th>LandContour</th>\n",
       "      <th>Utilities</th>\n",
       "      <th>...</th>\n",
       "      <th>PoolArea</th>\n",
       "      <th>PoolQC</th>\n",
       "      <th>Fence</th>\n",
       "      <th>MiscFeature</th>\n",
       "      <th>MiscVal</th>\n",
       "      <th>MoSold</th>\n",
       "      <th>YrSold</th>\n",
       "      <th>SaleType</th>\n",
       "      <th>SaleCondition</th>\n",
       "      <th>SalePrice</th>\n",
       "    </tr>\n",
       "  </thead>\n",
       "  <tbody>\n",
       "    <tr>\n",
       "      <th>0</th>\n",
       "      <td>1</td>\n",
       "      <td>60</td>\n",
       "      <td>RL</td>\n",
       "      <td>65.0</td>\n",
       "      <td>8450</td>\n",
       "      <td>Pave</td>\n",
       "      <td>NaN</td>\n",
       "      <td>Reg</td>\n",
       "      <td>Lvl</td>\n",
       "      <td>AllPub</td>\n",
       "      <td>...</td>\n",
       "      <td>0</td>\n",
       "      <td>NaN</td>\n",
       "      <td>NaN</td>\n",
       "      <td>NaN</td>\n",
       "      <td>0</td>\n",
       "      <td>2</td>\n",
       "      <td>2008</td>\n",
       "      <td>WD</td>\n",
       "      <td>Normal</td>\n",
       "      <td>208500</td>\n",
       "    </tr>\n",
       "    <tr>\n",
       "      <th>1</th>\n",
       "      <td>2</td>\n",
       "      <td>20</td>\n",
       "      <td>RL</td>\n",
       "      <td>80.0</td>\n",
       "      <td>9600</td>\n",
       "      <td>Pave</td>\n",
       "      <td>NaN</td>\n",
       "      <td>Reg</td>\n",
       "      <td>Lvl</td>\n",
       "      <td>AllPub</td>\n",
       "      <td>...</td>\n",
       "      <td>0</td>\n",
       "      <td>NaN</td>\n",
       "      <td>NaN</td>\n",
       "      <td>NaN</td>\n",
       "      <td>0</td>\n",
       "      <td>5</td>\n",
       "      <td>2007</td>\n",
       "      <td>WD</td>\n",
       "      <td>Normal</td>\n",
       "      <td>181500</td>\n",
       "    </tr>\n",
       "    <tr>\n",
       "      <th>2</th>\n",
       "      <td>3</td>\n",
       "      <td>60</td>\n",
       "      <td>RL</td>\n",
       "      <td>68.0</td>\n",
       "      <td>11250</td>\n",
       "      <td>Pave</td>\n",
       "      <td>NaN</td>\n",
       "      <td>IR1</td>\n",
       "      <td>Lvl</td>\n",
       "      <td>AllPub</td>\n",
       "      <td>...</td>\n",
       "      <td>0</td>\n",
       "      <td>NaN</td>\n",
       "      <td>NaN</td>\n",
       "      <td>NaN</td>\n",
       "      <td>0</td>\n",
       "      <td>9</td>\n",
       "      <td>2008</td>\n",
       "      <td>WD</td>\n",
       "      <td>Normal</td>\n",
       "      <td>223500</td>\n",
       "    </tr>\n",
       "    <tr>\n",
       "      <th>3</th>\n",
       "      <td>4</td>\n",
       "      <td>70</td>\n",
       "      <td>RL</td>\n",
       "      <td>60.0</td>\n",
       "      <td>9550</td>\n",
       "      <td>Pave</td>\n",
       "      <td>NaN</td>\n",
       "      <td>IR1</td>\n",
       "      <td>Lvl</td>\n",
       "      <td>AllPub</td>\n",
       "      <td>...</td>\n",
       "      <td>0</td>\n",
       "      <td>NaN</td>\n",
       "      <td>NaN</td>\n",
       "      <td>NaN</td>\n",
       "      <td>0</td>\n",
       "      <td>2</td>\n",
       "      <td>2006</td>\n",
       "      <td>WD</td>\n",
       "      <td>Abnorml</td>\n",
       "      <td>140000</td>\n",
       "    </tr>\n",
       "    <tr>\n",
       "      <th>4</th>\n",
       "      <td>5</td>\n",
       "      <td>60</td>\n",
       "      <td>RL</td>\n",
       "      <td>84.0</td>\n",
       "      <td>14260</td>\n",
       "      <td>Pave</td>\n",
       "      <td>NaN</td>\n",
       "      <td>IR1</td>\n",
       "      <td>Lvl</td>\n",
       "      <td>AllPub</td>\n",
       "      <td>...</td>\n",
       "      <td>0</td>\n",
       "      <td>NaN</td>\n",
       "      <td>NaN</td>\n",
       "      <td>NaN</td>\n",
       "      <td>0</td>\n",
       "      <td>12</td>\n",
       "      <td>2008</td>\n",
       "      <td>WD</td>\n",
       "      <td>Normal</td>\n",
       "      <td>250000</td>\n",
       "    </tr>\n",
       "  </tbody>\n",
       "</table>\n",
       "<p>5 rows × 81 columns</p>\n",
       "</div>"
      ],
      "text/plain": [
       "   Id  MSSubClass MSZoning  LotFrontage  LotArea Street Alley LotShape  \\\n",
       "0   1          60       RL         65.0     8450   Pave   NaN      Reg   \n",
       "1   2          20       RL         80.0     9600   Pave   NaN      Reg   \n",
       "2   3          60       RL         68.0    11250   Pave   NaN      IR1   \n",
       "3   4          70       RL         60.0     9550   Pave   NaN      IR1   \n",
       "4   5          60       RL         84.0    14260   Pave   NaN      IR1   \n",
       "\n",
       "  LandContour Utilities  ... PoolArea PoolQC Fence MiscFeature MiscVal MoSold  \\\n",
       "0         Lvl    AllPub  ...        0    NaN   NaN         NaN       0      2   \n",
       "1         Lvl    AllPub  ...        0    NaN   NaN         NaN       0      5   \n",
       "2         Lvl    AllPub  ...        0    NaN   NaN         NaN       0      9   \n",
       "3         Lvl    AllPub  ...        0    NaN   NaN         NaN       0      2   \n",
       "4         Lvl    AllPub  ...        0    NaN   NaN         NaN       0     12   \n",
       "\n",
       "  YrSold  SaleType  SaleCondition  SalePrice  \n",
       "0   2008        WD         Normal     208500  \n",
       "1   2007        WD         Normal     181500  \n",
       "2   2008        WD         Normal     223500  \n",
       "3   2006        WD        Abnorml     140000  \n",
       "4   2008        WD         Normal     250000  \n",
       "\n",
       "[5 rows x 81 columns]"
      ]
     },
     "execution_count": 4,
     "metadata": {},
     "output_type": "execute_result"
    }
   ],
   "source": [
    "# View data\n",
    "df_train.head()"
   ]
  },
  {
   "cell_type": "code",
   "execution_count": 5,
   "metadata": {
    "scrolled": true
   },
   "outputs": [
    {
     "name": "stdout",
     "output_type": "stream",
     "text": [
      "<class 'pandas.core.frame.DataFrame'>\n",
      "RangeIndex: 1460 entries, 0 to 1459\n",
      "Data columns (total 81 columns):\n",
      " #   Column         Non-Null Count  Dtype  \n",
      "---  ------         --------------  -----  \n",
      " 0   Id             1460 non-null   int64  \n",
      " 1   MSSubClass     1460 non-null   int64  \n",
      " 2   MSZoning       1460 non-null   object \n",
      " 3   LotFrontage    1201 non-null   float64\n",
      " 4   LotArea        1460 non-null   int64  \n",
      " 5   Street         1460 non-null   object \n",
      " 6   Alley          91 non-null     object \n",
      " 7   LotShape       1460 non-null   object \n",
      " 8   LandContour    1460 non-null   object \n",
      " 9   Utilities      1460 non-null   object \n",
      " 10  LotConfig      1460 non-null   object \n",
      " 11  LandSlope      1460 non-null   object \n",
      " 12  Neighborhood   1460 non-null   object \n",
      " 13  Condition1     1460 non-null   object \n",
      " 14  Condition2     1460 non-null   object \n",
      " 15  BldgType       1460 non-null   object \n",
      " 16  HouseStyle     1460 non-null   object \n",
      " 17  OverallQual    1460 non-null   int64  \n",
      " 18  OverallCond    1460 non-null   int64  \n",
      " 19  YearBuilt      1460 non-null   int64  \n",
      " 20  YearRemodAdd   1460 non-null   int64  \n",
      " 21  RoofStyle      1460 non-null   object \n",
      " 22  RoofMatl       1460 non-null   object \n",
      " 23  Exterior1st    1460 non-null   object \n",
      " 24  Exterior2nd    1460 non-null   object \n",
      " 25  MasVnrType     1452 non-null   object \n",
      " 26  MasVnrArea     1452 non-null   float64\n",
      " 27  ExterQual      1460 non-null   object \n",
      " 28  ExterCond      1460 non-null   object \n",
      " 29  Foundation     1460 non-null   object \n",
      " 30  BsmtQual       1423 non-null   object \n",
      " 31  BsmtCond       1423 non-null   object \n",
      " 32  BsmtExposure   1422 non-null   object \n",
      " 33  BsmtFinType1   1423 non-null   object \n",
      " 34  BsmtFinSF1     1460 non-null   int64  \n",
      " 35  BsmtFinType2   1422 non-null   object \n",
      " 36  BsmtFinSF2     1460 non-null   int64  \n",
      " 37  BsmtUnfSF      1460 non-null   int64  \n",
      " 38  TotalBsmtSF    1460 non-null   int64  \n",
      " 39  Heating        1460 non-null   object \n",
      " 40  HeatingQC      1460 non-null   object \n",
      " 41  CentralAir     1460 non-null   object \n",
      " 42  Electrical     1459 non-null   object \n",
      " 43  1stFlrSF       1460 non-null   int64  \n",
      " 44  2ndFlrSF       1460 non-null   int64  \n",
      " 45  LowQualFinSF   1460 non-null   int64  \n",
      " 46  GrLivArea      1460 non-null   int64  \n",
      " 47  BsmtFullBath   1460 non-null   int64  \n",
      " 48  BsmtHalfBath   1460 non-null   int64  \n",
      " 49  FullBath       1460 non-null   int64  \n",
      " 50  HalfBath       1460 non-null   int64  \n",
      " 51  BedroomAbvGr   1460 non-null   int64  \n",
      " 52  KitchenAbvGr   1460 non-null   int64  \n",
      " 53  KitchenQual    1460 non-null   object \n",
      " 54  TotRmsAbvGrd   1460 non-null   int64  \n",
      " 55  Functional     1460 non-null   object \n",
      " 56  Fireplaces     1460 non-null   int64  \n",
      " 57  FireplaceQu    770 non-null    object \n",
      " 58  GarageType     1379 non-null   object \n",
      " 59  GarageYrBlt    1379 non-null   float64\n",
      " 60  GarageFinish   1379 non-null   object \n",
      " 61  GarageCars     1460 non-null   int64  \n",
      " 62  GarageArea     1460 non-null   int64  \n",
      " 63  GarageQual     1379 non-null   object \n",
      " 64  GarageCond     1379 non-null   object \n",
      " 65  PavedDrive     1460 non-null   object \n",
      " 66  WoodDeckSF     1460 non-null   int64  \n",
      " 67  OpenPorchSF    1460 non-null   int64  \n",
      " 68  EnclosedPorch  1460 non-null   int64  \n",
      " 69  3SsnPorch      1460 non-null   int64  \n",
      " 70  ScreenPorch    1460 non-null   int64  \n",
      " 71  PoolArea       1460 non-null   int64  \n",
      " 72  PoolQC         7 non-null      object \n",
      " 73  Fence          281 non-null    object \n",
      " 74  MiscFeature    54 non-null     object \n",
      " 75  MiscVal        1460 non-null   int64  \n",
      " 76  MoSold         1460 non-null   int64  \n",
      " 77  YrSold         1460 non-null   int64  \n",
      " 78  SaleType       1460 non-null   object \n",
      " 79  SaleCondition  1460 non-null   object \n",
      " 80  SalePrice      1460 non-null   int64  \n",
      "dtypes: float64(3), int64(35), object(43)\n",
      "memory usage: 924.0+ KB\n"
     ]
    }
   ],
   "source": [
    "# Information about the training set\n",
    "df_train.info()"
   ]
  },
  {
   "cell_type": "code",
   "execution_count": 6,
   "metadata": {
    "scrolled": true
   },
   "outputs": [
    {
     "name": "stdout",
     "output_type": "stream",
     "text": [
      "<class 'pandas.core.frame.DataFrame'>\n",
      "RangeIndex: 1459 entries, 0 to 1458\n",
      "Data columns (total 80 columns):\n",
      " #   Column         Non-Null Count  Dtype  \n",
      "---  ------         --------------  -----  \n",
      " 0   Id             1459 non-null   int64  \n",
      " 1   MSSubClass     1459 non-null   int64  \n",
      " 2   MSZoning       1455 non-null   object \n",
      " 3   LotFrontage    1232 non-null   float64\n",
      " 4   LotArea        1459 non-null   int64  \n",
      " 5   Street         1459 non-null   object \n",
      " 6   Alley          107 non-null    object \n",
      " 7   LotShape       1459 non-null   object \n",
      " 8   LandContour    1459 non-null   object \n",
      " 9   Utilities      1457 non-null   object \n",
      " 10  LotConfig      1459 non-null   object \n",
      " 11  LandSlope      1459 non-null   object \n",
      " 12  Neighborhood   1459 non-null   object \n",
      " 13  Condition1     1459 non-null   object \n",
      " 14  Condition2     1459 non-null   object \n",
      " 15  BldgType       1459 non-null   object \n",
      " 16  HouseStyle     1459 non-null   object \n",
      " 17  OverallQual    1459 non-null   int64  \n",
      " 18  OverallCond    1459 non-null   int64  \n",
      " 19  YearBuilt      1459 non-null   int64  \n",
      " 20  YearRemodAdd   1459 non-null   int64  \n",
      " 21  RoofStyle      1459 non-null   object \n",
      " 22  RoofMatl       1459 non-null   object \n",
      " 23  Exterior1st    1458 non-null   object \n",
      " 24  Exterior2nd    1458 non-null   object \n",
      " 25  MasVnrType     1443 non-null   object \n",
      " 26  MasVnrArea     1444 non-null   float64\n",
      " 27  ExterQual      1459 non-null   object \n",
      " 28  ExterCond      1459 non-null   object \n",
      " 29  Foundation     1459 non-null   object \n",
      " 30  BsmtQual       1415 non-null   object \n",
      " 31  BsmtCond       1414 non-null   object \n",
      " 32  BsmtExposure   1415 non-null   object \n",
      " 33  BsmtFinType1   1417 non-null   object \n",
      " 34  BsmtFinSF1     1458 non-null   float64\n",
      " 35  BsmtFinType2   1417 non-null   object \n",
      " 36  BsmtFinSF2     1458 non-null   float64\n",
      " 37  BsmtUnfSF      1458 non-null   float64\n",
      " 38  TotalBsmtSF    1458 non-null   float64\n",
      " 39  Heating        1459 non-null   object \n",
      " 40  HeatingQC      1459 non-null   object \n",
      " 41  CentralAir     1459 non-null   object \n",
      " 42  Electrical     1459 non-null   object \n",
      " 43  1stFlrSF       1459 non-null   int64  \n",
      " 44  2ndFlrSF       1459 non-null   int64  \n",
      " 45  LowQualFinSF   1459 non-null   int64  \n",
      " 46  GrLivArea      1459 non-null   int64  \n",
      " 47  BsmtFullBath   1457 non-null   float64\n",
      " 48  BsmtHalfBath   1457 non-null   float64\n",
      " 49  FullBath       1459 non-null   int64  \n",
      " 50  HalfBath       1459 non-null   int64  \n",
      " 51  BedroomAbvGr   1459 non-null   int64  \n",
      " 52  KitchenAbvGr   1459 non-null   int64  \n",
      " 53  KitchenQual    1458 non-null   object \n",
      " 54  TotRmsAbvGrd   1459 non-null   int64  \n",
      " 55  Functional     1457 non-null   object \n",
      " 56  Fireplaces     1459 non-null   int64  \n",
      " 57  FireplaceQu    729 non-null    object \n",
      " 58  GarageType     1383 non-null   object \n",
      " 59  GarageYrBlt    1381 non-null   float64\n",
      " 60  GarageFinish   1381 non-null   object \n",
      " 61  GarageCars     1458 non-null   float64\n",
      " 62  GarageArea     1458 non-null   float64\n",
      " 63  GarageQual     1381 non-null   object \n",
      " 64  GarageCond     1381 non-null   object \n",
      " 65  PavedDrive     1459 non-null   object \n",
      " 66  WoodDeckSF     1459 non-null   int64  \n",
      " 67  OpenPorchSF    1459 non-null   int64  \n",
      " 68  EnclosedPorch  1459 non-null   int64  \n",
      " 69  3SsnPorch      1459 non-null   int64  \n",
      " 70  ScreenPorch    1459 non-null   int64  \n",
      " 71  PoolArea       1459 non-null   int64  \n",
      " 72  PoolQC         3 non-null      object \n",
      " 73  Fence          290 non-null    object \n",
      " 74  MiscFeature    51 non-null     object \n",
      " 75  MiscVal        1459 non-null   int64  \n",
      " 76  MoSold         1459 non-null   int64  \n",
      " 77  YrSold         1459 non-null   int64  \n",
      " 78  SaleType       1458 non-null   object \n",
      " 79  SaleCondition  1459 non-null   object \n",
      "dtypes: float64(11), int64(26), object(43)\n",
      "memory usage: 912.0+ KB\n"
     ]
    }
   ],
   "source": [
    "# Information about the test set\n",
    "df_test.info()"
   ]
  },
  {
   "cell_type": "markdown",
   "metadata": {},
   "source": [
    "### 1. Exploratory Data Analysis\n",
    "\n",
    "#### 1.1 Target variable and correlations\n",
    "\n",
    "I will start by checking the correlation of the target variable `SalePrice` with the features."
   ]
  },
  {
   "cell_type": "code",
   "execution_count": 7,
   "metadata": {},
   "outputs": [
    {
     "data": {
      "text/plain": [
       "SalePrice       1.000000\n",
       "OverallQual     0.790982\n",
       "GrLivArea       0.708624\n",
       "GarageCars      0.640409\n",
       "GarageArea      0.623431\n",
       "TotalBsmtSF     0.613581\n",
       "1stFlrSF        0.605852\n",
       "FullBath        0.560664\n",
       "TotRmsAbvGrd    0.533723\n",
       "YearBuilt       0.522897\n",
       "Name: SalePrice, dtype: float64"
      ]
     },
     "execution_count": 7,
     "metadata": {},
     "output_type": "execute_result"
    }
   ],
   "source": [
    "# Correlations\n",
    "corr = df_train.corr()\n",
    "\n",
    "# View features with biggest correlation with 'SalePrice' \n",
    "corr['SalePrice'].sort_values(ascending=False)[:10]"
   ]
  },
  {
   "cell_type": "markdown",
   "metadata": {},
   "source": [
    "I will check the relationship of the variables `OverallQual`, `GrLivArea`, `TotalBsmtSF` and `YearBuilt` with `SalePrice`. These seem the most interesting for me to explore.\n",
    "\n",
    "**SalePrice and OverallQual**\n",
    "\n",
    "`OverallQual` rates the overall material and finish of the house."
   ]
  },
  {
   "cell_type": "code",
   "execution_count": 8,
   "metadata": {},
   "outputs": [
    {
     "data": {
      "image/png": "[encoded data removed]",
      "text/plain": [
       "<Figure size 432x288 with 1 Axes>"
      ]
     },
     "metadata": {
      "needs_background": "light"
     },
     "output_type": "display_data"
    }
   ],
   "source": [
    "sns.boxplot(df_train['OverallQual'], df_train['SalePrice'])\n",
    "plt.xlabel('Overall Quality', fontsize=14)\n",
    "plt.ylabel('Sale Price', fontsize=14);"
   ]
  },
  {
   "cell_type": "markdown",
   "metadata": {},
   "source": [
    "**SalePrice and GrLivArea**\n",
    "\n",
    "`GrLivArea` measures the square feet of living area above ground (not counting the basement)."
   ]
  },
  {
   "cell_type": "code",
   "execution_count": 9,
   "metadata": {},
   "outputs": [
    {
     "data": {
      "image/png": "[encoded data removed]",
      "text/plain": [
       "<Figure size 432x288 with 1 Axes>"
      ]
     },
     "metadata": {
      "needs_background": "light"
     },
     "output_type": "display_data"
    }
   ],
   "source": [
    "plt.scatter(df_train['GrLivArea'], df_train['SalePrice'])\n",
    "plt.xlabel('Living Area Above Ground (in square feet)', fontsize=14)\n",
    "plt.ylabel('Sale Price', fontsize=14);"
   ]
  },
  {
   "cell_type": "markdown",
   "metadata": {},
   "source": [
    "In the right corner of the plot, we can see two values with a quite high `GrLivArea` values but low `SalePrice` values which seems strange. These datapoints are not following the trend at all and so I will remove them given that they are very large outliers."
   ]
  },
  {
   "cell_type": "code",
   "execution_count": 10,
   "metadata": {},
   "outputs": [],
   "source": [
    "# Get indices of the two outliers\n",
    "df_train[df_train['GrLivArea'] > 4500].index\n",
    "\n",
    "df_train.drop([523, 1298], inplace=True)"
   ]
  },
  {
   "cell_type": "markdown",
   "metadata": {},
   "source": [
    "**SalePrice and TotalBsmtSF**\n",
    "\n",
    "`TotalBsmtSF` measures the total square feet of the basement."
   ]
  },
  {
   "cell_type": "code",
   "execution_count": 11,
   "metadata": {},
   "outputs": [
    {
     "data": {
      "image/png": "[encoded data removed]",
      "text/plain": [
       "<Figure size 432x288 with 1 Axes>"
      ]
     },
     "metadata": {
      "needs_background": "light"
     },
     "output_type": "display_data"
    }
   ],
   "source": [
    "plt.scatter(df_train['TotalBsmtSF'], df_train['SalePrice'])\n",
    "plt.xlabel('Area of basement (in square feet)', fontsize=14)\n",
    "plt.ylabel('Sale Price', fontsize=14);"
   ]
  },
  {
   "cell_type": "markdown",
   "metadata": {},
   "source": [
    "**SalePrice and YearBuilt**\n",
    "\n",
    "`YearBuilt` indicates the year that the house was built in."
   ]
  },
  {
   "cell_type": "code",
   "execution_count": 12,
   "metadata": {},
   "outputs": [
    {
     "data": {
      "image/png": "[encoded data removed]",
      "text/plain": [
       "<Figure size 1080x432 with 1 Axes>"
      ]
     },
     "metadata": {
      "needs_background": "light"
     },
     "output_type": "display_data"
    }
   ],
   "source": [
    "plt.figure(figsize=(15, 6))\n",
    "sns.boxplot(df_train['YearBuilt'], df_train['SalePrice'])\n",
    "plt.xticks(rotation=90)\n",
    "plt.xlabel('Year Built', fontsize=14)\n",
    "plt.ylabel('Sale Price', fontsize=14);"
   ]
  },
  {
   "cell_type": "markdown",
   "metadata": {},
   "source": [
    "The correlation here is definitely weaker than with the previous features but it is still noticeable. It makes sense that in general the more recent a house is, the more expensive it will be, given that as time passes by houses will be built with better materials and woth better characteristics.\n",
    "\n",
    "**Distribution of target variable**"
   ]
  },
  {
   "cell_type": "code",
   "execution_count": 13,
   "metadata": {},
   "outputs": [
    {
     "data": {
      "image/png": "[encoded data removed]",
      "text/plain": [
       "<Figure size 576x396 with 1 Axes>"
      ]
     },
     "metadata": {},
     "output_type": "display_data"
    }
   ],
   "source": [
    "plt.style.use('seaborn')\n",
    "sns.distplot(df_train['SalePrice'])\n",
    "plt.xlabel('SalePrice', fontsize=14)\n",
    "plt.ylabel('Frequency', fontsize=14)\n",
    "plt.title('Distribution of SalePrice', fontsize=16);"
   ]
  },
  {
   "cell_type": "markdown",
   "metadata": {},
   "source": [
    "The target variable is right skewed. As (linear) models work better with normally distributed data and the evaluation metric for this project is the RMSE between the logarithm of the predicted values and the actual values, I will transform this variable with log(1 + x) and make it more normally distributed.\n",
    "\n",
    "The reason for using log(1 + x) instead of log(x) is that it is accurate also for values x so small that 1 + x == 1 in floating-point accuracy. It also helps dodge errors if values for some columns are 0, as log(0) returns -inf."
   ]
  },
  {
   "cell_type": "code",
   "execution_count": 14,
   "metadata": {
    "scrolled": false
   },
   "outputs": [
    {
     "data": {
      "image/png": "[encoded data removed]",
      "text/plain": [
       "<Figure size 576x396 with 1 Axes>"
      ]
     },
     "metadata": {},
     "output_type": "display_data"
    }
   ],
   "source": [
    "# Apply log(1 + x) to every value of 'SalePrice'\n",
    "df_train['SalePrice'] = np.log1p(df_train['SalePrice'])\n",
    "\n",
    "# Plot distribution plot again\n",
    "plt.style.use('seaborn')\n",
    "sns.distplot(df_train['SalePrice'])\n",
    "plt.xlabel('SalePrice', fontsize=14)\n",
    "plt.ylabel('Frequency', fontsize=14)\n",
    "plt.title('Distribution of SalePrice', fontsize=16);"
   ]
  },
  {
   "cell_type": "markdown",
   "metadata": {},
   "source": [
    "Now that `SalePrice` is normally distributed, I will move on to deal with missing values.\n",
    "\n",
    "#### 1.2 Missing values\n",
    "\n",
    "I will check how many missing values we have in the training and test sets."
   ]
  },
  {
   "cell_type": "code",
   "execution_count": 15,
   "metadata": {},
   "outputs": [
    {
     "data": {
      "image/png": "[encoded data removed]",
      "text/plain": [
       "<Figure size 1080x576 with 1 Axes>"
      ]
     },
     "metadata": {},
     "output_type": "display_data"
    }
   ],
   "source": [
    "# Create function to plot missing values per feature\n",
    "def plot_missing_values(df, dataset, num_features):\n",
    "    plt.figure(figsize=(15, 8))\n",
    "    sorted_train = df.isna().sum().sort_values(ascending=False)[:num_features]\n",
    "    bars = plt.bar(sorted_train.index, sorted_train)\n",
    "    plt.xticks(rotation=90)\n",
    "    plt.ylabel('Number of missing values', fontsize=14)\n",
    "    plt.xlabel('Features', fontsize=14)\n",
    "    plt.title(f'Missing values per feature in {dataset} set', fontsize=16, y=1.03);\n",
    "\n",
    "    # Plot value for each bar\n",
    "    for bar in bars:\n",
    "        height = bar.get_height()\n",
    "        plt.text(bar.get_x() + bar.get_width() / 2,\n",
    "                 1.01 * height, \n",
    "                 '%d' % int(height),\n",
    "                 ha='center', \n",
    "                 va='bottom')\n",
    "\n",
    "# Plot missing values for training set\n",
    "plot_missing_values(df_train, 'training', 19)"
   ]
  },
  {
   "cell_type": "code",
   "execution_count": 16,
   "metadata": {
    "scrolled": false
   },
   "outputs": [
    {
     "data": {
      "image/png": "[encoded data removed]",
      "text/plain": [
       "<Figure size 1080x576 with 1 Axes>"
      ]
     },
     "metadata": {},
     "output_type": "display_data"
    }
   ],
   "source": [
    "# Plot missing values for test set\n",
    "pd.set_option('display.max_rows', None)\n",
    "plot_missing_values(df_test, 'test', 33)"
   ]
  },
  {
   "cell_type": "markdown",
   "metadata": {},
   "source": [
    "In both sets, `Alley`, `PoolQC`, `Fence` and `MiscFeature` have most of the values missing. `Lot frontage`, `FireplaceQu` also have a high number of missing values and then there are several variables with a small amount of missing values.\n",
    "\n",
    "#### 1.2.1 Values considered missing incorrectly \n",
    "\n",
    "The following variables have \"missing values\" in the training and test sets:\n",
    "   * Alley\n",
    "   * BsmtQual    \n",
    "   * BsmtCond\n",
    "   * BsmtExposure  \n",
    "   * BsmtFinType1  \n",
    "   * BsmtFinType2\n",
    "   * FireplaceQu\n",
    "   * GarageType\n",
    "   * GarageYrBlt\n",
    "   * GarageFinish\n",
    "   * GarageQual\n",
    "   * GarageCond\n",
    "   * PoolQc\n",
    "   * Fence\n",
    "   * MiscFeature    \n",
    "\n",
    "After checking the data dictionary and the csv files, I see that these variables have a value for when the characteristic in question doesn't exist, which is 'NA'.\n",
    "When importing the files, I believe Pandas has interpreted these values as NAN and that is why there are missing values in these variables.\n",
    "\n",
    "The 5 variables that refer to the garage have almost the same number of missing values but there are some slight differences. The same happens for the 5 variables that refer to the basement. I will check these 2 groups of 5 variables further to make sure that I fill some missing values with the proper value and then fill the rest with 'NA'.\n",
    "\n",
    "The other variables I will fill the missing values with the string 'NA'.\n",
    "\n",
    "**Alley**"
   ]
  },
  {
   "cell_type": "code",
   "execution_count": 17,
   "metadata": {},
   "outputs": [
    {
     "name": "stdout",
     "output_type": "stream",
     "text": [
      "Training set:\n",
      "Grvl    50\n",
      "Pave    41\n",
      "Name: Alley, dtype: int64\n",
      "\n",
      "Test set:\n",
      "Grvl    70\n",
      "Pave    37\n",
      "Name: Alley, dtype: int64\n"
     ]
    }
   ],
   "source": [
    "# Check how many unique values this variable has\n",
    "print('Training set:')\n",
    "print(df_train['Alley'].value_counts())\n",
    "print('\\nTest set:')\n",
    "print(df_test['Alley'].value_counts())"
   ]
  },
  {
   "cell_type": "markdown",
   "metadata": {},
   "source": [
    "**PoolQC**"
   ]
  },
  {
   "cell_type": "code",
   "execution_count": 18,
   "metadata": {},
   "outputs": [
    {
     "name": "stdout",
     "output_type": "stream",
     "text": [
      "Training set:\n",
      "\n",
      "0      1452\n",
      "738       1\n",
      "648       1\n",
      "576       1\n",
      "555       1\n",
      "519       1\n",
      "512       1\n",
      "Name: PoolArea, dtype: int64\n",
      "\n",
      "\n",
      "Fa    2\n",
      "Ex    2\n",
      "Gd    2\n",
      "Name: PoolQC, dtype: int64\n"
     ]
    }
   ],
   "source": [
    "# Check how many unique values this variable has compared to 'PoolArea' in training set\n",
    "print('Training set:\\n')\n",
    "print(df_train['PoolArea'].value_counts())\n",
    "print('\\n')\n",
    "print(df_train['PoolQC'].value_counts())"
   ]
  },
  {
   "cell_type": "code",
   "execution_count": 19,
   "metadata": {},
   "outputs": [
    {
     "name": "stdout",
     "output_type": "stream",
     "text": [
      "Test set:\n",
      "\n",
      "0      1453\n",
      "800       1\n",
      "561       1\n",
      "444       1\n",
      "368       1\n",
      "228       1\n",
      "144       1\n",
      "Name: PoolArea, dtype: int64\n",
      "\n",
      "\n",
      "Ex    2\n",
      "Gd    1\n",
      "Name: PoolQC, dtype: int64\n"
     ]
    }
   ],
   "source": [
    "# Check how many unique values this variable has compared to 'PoolArea' in test set\n",
    "print('Test set:\\n')\n",
    "print(df_test['PoolArea'].value_counts())\n",
    "print('\\n')\n",
    "print(df_test['PoolQC'].value_counts())"
   ]
  },
  {
   "cell_type": "markdown",
   "metadata": {},
   "source": [
    "For the training set, all the values of `PoolArea` above zero seem to have a corresponding value in the variable `PoolQc`. For the test set, `PoolArea` has some values that are above zero but for some of them `PoolQc` doesn't have a corresponding value so I will have to check these two variables further."
   ]
  },
  {
   "cell_type": "code",
   "execution_count": 20,
   "metadata": {},
   "outputs": [
    {
     "data": {
      "text/plain": [
       "PoolArea  PoolQC\n",
       "512       Ex        1\n",
       "519       Fa        1\n",
       "555       Ex        1\n",
       "576       Gd        1\n",
       "648       Fa        1\n",
       "738       Gd        1\n",
       "Name: PoolQC, dtype: int64"
      ]
     },
     "execution_count": 20,
     "metadata": {},
     "output_type": "execute_result"
    }
   ],
   "source": [
    "# Check correspondence between the values above zero in 'PoolArea' and 'PoolQC' in the training set\n",
    "df_train.groupby(['PoolArea'])['PoolQC'].value_counts()"
   ]
  },
  {
   "cell_type": "code",
   "execution_count": 21,
   "metadata": {},
   "outputs": [
    {
     "data": {
      "text/plain": [
       "PoolArea  PoolQC\n",
       "144       Ex        1\n",
       "228       Ex        1\n",
       "800       Gd        1\n",
       "Name: PoolQC, dtype: int64"
      ]
     },
     "execution_count": 21,
     "metadata": {},
     "output_type": "execute_result"
    }
   ],
   "source": [
    "# Check correspondence between the values above zero in 'PoolArea' and 'PoolQC' in the test set\n",
    "df_test.groupby(['PoolArea'])['PoolQC'].value_counts()"
   ]
  },
  {
   "cell_type": "markdown",
   "metadata": {},
   "source": [
    "I can clearly see that, in the test set, there are 3 values above zero of the `PoolArea` variable that don't have a corresponding value. To fill these missing values, I will take the following approach:\n",
    "* Compute the mean of the `PoolArea` variable under each category of `PoolQC`\n",
    "* Check the `PoolArea` value for the 3 missing values in `PoolQC`\n",
    "* Take the `PoolArea` values and compare them to the mean values for each category in `PoolQC`.\n",
    "* Replace missing values with category of `PoolQC` whose value of `PoolArea` is closest to the mean of that category"
   ]
  },
  {
   "cell_type": "code",
   "execution_count": 22,
   "metadata": {},
   "outputs": [
    {
     "data": {
      "text/plain": [
       "PoolQC\n",
       "Ex    359.750000\n",
       "Fa    583.500000\n",
       "Gd    704.666667\n",
       "Name: PoolArea, dtype: float64"
      ]
     },
     "execution_count": 22,
     "metadata": {},
     "output_type": "execute_result"
    }
   ],
   "source": [
    "# Join train and test sets so that I can consider all values of 'PoolArea' above zero, since they are so few\n",
    "joined_train_test = pd.concat([df_train, df_test], axis=0, ignore_index=True)\n",
    "\n",
    "# Group data by 'PoolQC' and take the mean of 'PoolArea' for each category\n",
    "mean_poolArea = joined_train_test.groupby(['PoolQC'])['PoolArea'].mean()\n",
    "mean_poolArea"
   ]
  },
  {
   "cell_type": "code",
   "execution_count": 23,
   "metadata": {},
   "outputs": [
    {
     "data": {
      "text/plain": [
       "{960, 1043, 1139}"
      ]
     },
     "execution_count": 23,
     "metadata": {},
     "output_type": "execute_result"
    }
   ],
   "source": [
    "# Get indices of the 3 missing values in 'PoolQC'\n",
    "set(df_test[df_test['PoolArea'] > 0].index) - set(df_test[df_test['PoolQC'].notnull()].index)"
   ]
  },
  {
   "cell_type": "code",
   "execution_count": 24,
   "metadata": {},
   "outputs": [
    {
     "data": {
      "text/plain": [
       "960     368\n",
       "1043    444\n",
       "1139    561\n",
       "Name: PoolArea, dtype: int64"
      ]
     },
     "execution_count": 24,
     "metadata": {},
     "output_type": "execute_result"
    }
   ],
   "source": [
    "# Check 'PoolArea' values for the 3 missing values\n",
    "df_test['PoolArea'][[960, 1043, 1139]]"
   ]
  },
  {
   "cell_type": "code",
   "execution_count": 25,
   "metadata": {},
   "outputs": [
    {
     "data": {
      "text/plain": [
       "Ex    4\n",
       "Fa    1\n",
       "Gd    1\n",
       "Name: PoolQC, dtype: int64"
      ]
     },
     "execution_count": 25,
     "metadata": {},
     "output_type": "execute_result"
    }
   ],
   "source": [
    "# Fill missing values\n",
    "df_test.loc[960, 'PoolQC'] = 'Ex'\n",
    "df_test.loc[1043, 'PoolQC'] = 'Ex'\n",
    "df_test.loc[1139, 'PoolQC'] = 'Fa'\n",
    "\n",
    "# Check if missing values were filled\n",
    "df_test['PoolQC'].value_counts()"
   ]
  },
  {
   "cell_type": "markdown",
   "metadata": {},
   "source": [
    "**Fence**"
   ]
  },
  {
   "cell_type": "code",
   "execution_count": 26,
   "metadata": {},
   "outputs": [
    {
     "name": "stdout",
     "output_type": "stream",
     "text": [
      "Training set:\n",
      "MnPrv    157\n",
      "GdPrv     59\n",
      "GdWo      54\n",
      "MnWw      11\n",
      "Name: Fence, dtype: int64\n",
      "\n",
      "Test set:\n",
      "MnPrv    172\n",
      "GdPrv     59\n",
      "GdWo      58\n",
      "MnWw       1\n",
      "Name: Fence, dtype: int64\n"
     ]
    }
   ],
   "source": [
    "# Check how many unique values this variable has\n",
    "print('Training set:')\n",
    "print(df_train['Fence'].value_counts())\n",
    "print('\\nTest set:')\n",
    "print(df_test['Fence'].value_counts())"
   ]
  },
  {
   "cell_type": "markdown",
   "metadata": {},
   "source": [
    "**MiscFeature**"
   ]
  },
  {
   "cell_type": "code",
   "execution_count": 27,
   "metadata": {},
   "outputs": [
    {
     "name": "stdout",
     "output_type": "stream",
     "text": [
      "Training set:\n",
      "Shed    49\n",
      "Othr     2\n",
      "Gar2     2\n",
      "TenC     1\n",
      "Name: MiscFeature, dtype: int64\n",
      "\n",
      "Test set:\n",
      "Shed    46\n",
      "Gar2     3\n",
      "Othr     2\n",
      "Name: MiscFeature, dtype: int64\n"
     ]
    }
   ],
   "source": [
    "# Check how many unique values this variable has\n",
    "print('Training set:')\n",
    "print(df_train['MiscFeature'].value_counts())\n",
    "print('\\nTest set:')\n",
    "print(df_test['MiscFeature'].value_counts())"
   ]
  },
  {
   "cell_type": "markdown",
   "metadata": {},
   "source": [
    "**FireplaceQu**"
   ]
  },
  {
   "cell_type": "code",
   "execution_count": 28,
   "metadata": {},
   "outputs": [
    {
     "name": "stdout",
     "output_type": "stream",
     "text": [
      "Training set:\n",
      "Gd    378\n",
      "TA    313\n",
      "Fa     33\n",
      "Ex     24\n",
      "Po     20\n",
      "Name: FireplaceQu, dtype: int64\n",
      "\n",
      "Test set:\n",
      "Gd    364\n",
      "TA    279\n",
      "Fa     41\n",
      "Po     26\n",
      "Ex     19\n",
      "Name: FireplaceQu, dtype: int64\n"
     ]
    }
   ],
   "source": [
    "# Check how many unique values this variable has\n",
    "print('Training set:')\n",
    "print(df_train['FireplaceQu'].value_counts())\n",
    "print('\\nTest set:')\n",
    "print(df_test['FireplaceQu'].value_counts())"
   ]
  },
  {
   "cell_type": "markdown",
   "metadata": {},
   "source": [
    "In the missing values plots, we saw that `FireplaceQu` had 690 missing values in the training set and 730 missing values in the test set. Since this variable is related to the variable `Fireplaces`, which indicates how many fireplaces there are in the house, I will check if the missing values in `FireplaceQu`correspond to the value zero in `Fireplaces`."
   ]
  },
  {
   "cell_type": "code",
   "execution_count": 29,
   "metadata": {},
   "outputs": [
    {
     "name": "stdout",
     "output_type": "stream",
     "text": [
      "Training set:\n",
      "0    690\n",
      "1    649\n",
      "2    115\n",
      "3      4\n",
      "Name: Fireplaces, dtype: int64\n",
      "\n",
      "Test set:\n",
      "0    730\n",
      "1    618\n",
      "2    104\n",
      "3      6\n",
      "4      1\n",
      "Name: Fireplaces, dtype: int64\n"
     ]
    }
   ],
   "source": [
    "print('Training set:')\n",
    "print(df_train['Fireplaces'].value_counts())\n",
    "print('\\nTest set:')\n",
    "print(df_test['Fireplaces'].value_counts())"
   ]
  },
  {
   "cell_type": "markdown",
   "metadata": {},
   "source": [
    "As we can see the missing values in `FireplaceQu` correspond to when the value of `Fireplace` is equal to 0.\n",
    "\n",
    "**Garage variables**"
   ]
  },
  {
   "cell_type": "code",
   "execution_count": 30,
   "metadata": {},
   "outputs": [
    {
     "data": {
      "text/html": [
       "<div>\n",
       "<style scoped>\n",
       "    .dataframe tbody tr th:only-of-type {\n",
       "        vertical-align: middle;\n",
       "    }\n",
       "\n",
       "    .dataframe tbody tr th {\n",
       "        vertical-align: top;\n",
       "    }\n",
       "\n",
       "    .dataframe thead th {\n",
       "        text-align: right;\n",
       "    }\n",
       "</style>\n",
       "<table border=\"1\" class=\"dataframe\">\n",
       "  <thead>\n",
       "    <tr style=\"text-align: right;\">\n",
       "      <th></th>\n",
       "      <th>GarageType</th>\n",
       "      <th>GarageYrBlt</th>\n",
       "      <th>GarageFinish</th>\n",
       "      <th>GarageQual</th>\n",
       "      <th>GarageCond</th>\n",
       "    </tr>\n",
       "  </thead>\n",
       "  <tbody>\n",
       "    <tr>\n",
       "      <th>39</th>\n",
       "      <td>NaN</td>\n",
       "      <td>NaN</td>\n",
       "      <td>NaN</td>\n",
       "      <td>NaN</td>\n",
       "      <td>NaN</td>\n",
       "    </tr>\n",
       "    <tr>\n",
       "      <th>48</th>\n",
       "      <td>NaN</td>\n",
       "      <td>NaN</td>\n",
       "      <td>NaN</td>\n",
       "      <td>NaN</td>\n",
       "      <td>NaN</td>\n",
       "    </tr>\n",
       "    <tr>\n",
       "      <th>78</th>\n",
       "      <td>NaN</td>\n",
       "      <td>NaN</td>\n",
       "      <td>NaN</td>\n",
       "      <td>NaN</td>\n",
       "      <td>NaN</td>\n",
       "    </tr>\n",
       "    <tr>\n",
       "      <th>88</th>\n",
       "      <td>NaN</td>\n",
       "      <td>NaN</td>\n",
       "      <td>NaN</td>\n",
       "      <td>NaN</td>\n",
       "      <td>NaN</td>\n",
       "    </tr>\n",
       "    <tr>\n",
       "      <th>89</th>\n",
       "      <td>NaN</td>\n",
       "      <td>NaN</td>\n",
       "      <td>NaN</td>\n",
       "      <td>NaN</td>\n",
       "      <td>NaN</td>\n",
       "    </tr>\n",
       "    <tr>\n",
       "      <th>99</th>\n",
       "      <td>NaN</td>\n",
       "      <td>NaN</td>\n",
       "      <td>NaN</td>\n",
       "      <td>NaN</td>\n",
       "      <td>NaN</td>\n",
       "    </tr>\n",
       "    <tr>\n",
       "      <th>108</th>\n",
       "      <td>NaN</td>\n",
       "      <td>NaN</td>\n",
       "      <td>NaN</td>\n",
       "      <td>NaN</td>\n",
       "      <td>NaN</td>\n",
       "    </tr>\n",
       "    <tr>\n",
       "      <th>125</th>\n",
       "      <td>NaN</td>\n",
       "      <td>NaN</td>\n",
       "      <td>NaN</td>\n",
       "      <td>NaN</td>\n",
       "      <td>NaN</td>\n",
       "    </tr>\n",
       "    <tr>\n",
       "      <th>127</th>\n",
       "      <td>NaN</td>\n",
       "      <td>NaN</td>\n",
       "      <td>NaN</td>\n",
       "      <td>NaN</td>\n",
       "      <td>NaN</td>\n",
       "    </tr>\n",
       "    <tr>\n",
       "      <th>140</th>\n",
       "      <td>NaN</td>\n",
       "      <td>NaN</td>\n",
       "      <td>NaN</td>\n",
       "      <td>NaN</td>\n",
       "      <td>NaN</td>\n",
       "    </tr>\n",
       "    <tr>\n",
       "      <th>148</th>\n",
       "      <td>NaN</td>\n",
       "      <td>NaN</td>\n",
       "      <td>NaN</td>\n",
       "      <td>NaN</td>\n",
       "      <td>NaN</td>\n",
       "    </tr>\n",
       "    <tr>\n",
       "      <th>155</th>\n",
       "      <td>NaN</td>\n",
       "      <td>NaN</td>\n",
       "      <td>NaN</td>\n",
       "      <td>NaN</td>\n",
       "      <td>NaN</td>\n",
       "    </tr>\n",
       "    <tr>\n",
       "      <th>163</th>\n",
       "      <td>NaN</td>\n",
       "      <td>NaN</td>\n",
       "      <td>NaN</td>\n",
       "      <td>NaN</td>\n",
       "      <td>NaN</td>\n",
       "    </tr>\n",
       "    <tr>\n",
       "      <th>165</th>\n",
       "      <td>NaN</td>\n",
       "      <td>NaN</td>\n",
       "      <td>NaN</td>\n",
       "      <td>NaN</td>\n",
       "      <td>NaN</td>\n",
       "    </tr>\n",
       "    <tr>\n",
       "      <th>198</th>\n",
       "      <td>NaN</td>\n",
       "      <td>NaN</td>\n",
       "      <td>NaN</td>\n",
       "      <td>NaN</td>\n",
       "      <td>NaN</td>\n",
       "    </tr>\n",
       "    <tr>\n",
       "      <th>210</th>\n",
       "      <td>NaN</td>\n",
       "      <td>NaN</td>\n",
       "      <td>NaN</td>\n",
       "      <td>NaN</td>\n",
       "      <td>NaN</td>\n",
       "    </tr>\n",
       "    <tr>\n",
       "      <th>241</th>\n",
       "      <td>NaN</td>\n",
       "      <td>NaN</td>\n",
       "      <td>NaN</td>\n",
       "      <td>NaN</td>\n",
       "      <td>NaN</td>\n",
       "    </tr>\n",
       "    <tr>\n",
       "      <th>250</th>\n",
       "      <td>NaN</td>\n",
       "      <td>NaN</td>\n",
       "      <td>NaN</td>\n",
       "      <td>NaN</td>\n",
       "      <td>NaN</td>\n",
       "    </tr>\n",
       "    <tr>\n",
       "      <th>287</th>\n",
       "      <td>NaN</td>\n",
       "      <td>NaN</td>\n",
       "      <td>NaN</td>\n",
       "      <td>NaN</td>\n",
       "      <td>NaN</td>\n",
       "    </tr>\n",
       "    <tr>\n",
       "      <th>291</th>\n",
       "      <td>NaN</td>\n",
       "      <td>NaN</td>\n",
       "      <td>NaN</td>\n",
       "      <td>NaN</td>\n",
       "      <td>NaN</td>\n",
       "    </tr>\n",
       "    <tr>\n",
       "      <th>307</th>\n",
       "      <td>NaN</td>\n",
       "      <td>NaN</td>\n",
       "      <td>NaN</td>\n",
       "      <td>NaN</td>\n",
       "      <td>NaN</td>\n",
       "    </tr>\n",
       "    <tr>\n",
       "      <th>375</th>\n",
       "      <td>NaN</td>\n",
       "      <td>NaN</td>\n",
       "      <td>NaN</td>\n",
       "      <td>NaN</td>\n",
       "      <td>NaN</td>\n",
       "    </tr>\n",
       "    <tr>\n",
       "      <th>386</th>\n",
       "      <td>NaN</td>\n",
       "      <td>NaN</td>\n",
       "      <td>NaN</td>\n",
       "      <td>NaN</td>\n",
       "      <td>NaN</td>\n",
       "    </tr>\n",
       "    <tr>\n",
       "      <th>393</th>\n",
       "      <td>NaN</td>\n",
       "      <td>NaN</td>\n",
       "      <td>NaN</td>\n",
       "      <td>NaN</td>\n",
       "      <td>NaN</td>\n",
       "    </tr>\n",
       "    <tr>\n",
       "      <th>431</th>\n",
       "      <td>NaN</td>\n",
       "      <td>NaN</td>\n",
       "      <td>NaN</td>\n",
       "      <td>NaN</td>\n",
       "      <td>NaN</td>\n",
       "    </tr>\n",
       "    <tr>\n",
       "      <th>434</th>\n",
       "      <td>NaN</td>\n",
       "      <td>NaN</td>\n",
       "      <td>NaN</td>\n",
       "      <td>NaN</td>\n",
       "      <td>NaN</td>\n",
       "    </tr>\n",
       "    <tr>\n",
       "      <th>441</th>\n",
       "      <td>NaN</td>\n",
       "      <td>NaN</td>\n",
       "      <td>NaN</td>\n",
       "      <td>NaN</td>\n",
       "      <td>NaN</td>\n",
       "    </tr>\n",
       "    <tr>\n",
       "      <th>464</th>\n",
       "      <td>NaN</td>\n",
       "      <td>NaN</td>\n",
       "      <td>NaN</td>\n",
       "      <td>NaN</td>\n",
       "      <td>NaN</td>\n",
       "    </tr>\n",
       "    <tr>\n",
       "      <th>495</th>\n",
       "      <td>NaN</td>\n",
       "      <td>NaN</td>\n",
       "      <td>NaN</td>\n",
       "      <td>NaN</td>\n",
       "      <td>NaN</td>\n",
       "    </tr>\n",
       "    <tr>\n",
       "      <th>520</th>\n",
       "      <td>NaN</td>\n",
       "      <td>NaN</td>\n",
       "      <td>NaN</td>\n",
       "      <td>NaN</td>\n",
       "      <td>NaN</td>\n",
       "    </tr>\n",
       "    <tr>\n",
       "      <th>528</th>\n",
       "      <td>NaN</td>\n",
       "      <td>NaN</td>\n",
       "      <td>NaN</td>\n",
       "      <td>NaN</td>\n",
       "      <td>NaN</td>\n",
       "    </tr>\n",
       "    <tr>\n",
       "      <th>533</th>\n",
       "      <td>NaN</td>\n",
       "      <td>NaN</td>\n",
       "      <td>NaN</td>\n",
       "      <td>NaN</td>\n",
       "      <td>NaN</td>\n",
       "    </tr>\n",
       "    <tr>\n",
       "      <th>535</th>\n",
       "      <td>NaN</td>\n",
       "      <td>NaN</td>\n",
       "      <td>NaN</td>\n",
       "      <td>NaN</td>\n",
       "      <td>NaN</td>\n",
       "    </tr>\n",
       "    <tr>\n",
       "      <th>562</th>\n",
       "      <td>NaN</td>\n",
       "      <td>NaN</td>\n",
       "      <td>NaN</td>\n",
       "      <td>NaN</td>\n",
       "      <td>NaN</td>\n",
       "    </tr>\n",
       "    <tr>\n",
       "      <th>582</th>\n",
       "      <td>NaN</td>\n",
       "      <td>NaN</td>\n",
       "      <td>NaN</td>\n",
       "      <td>NaN</td>\n",
       "      <td>NaN</td>\n",
       "    </tr>\n",
       "    <tr>\n",
       "      <th>613</th>\n",
       "      <td>NaN</td>\n",
       "      <td>NaN</td>\n",
       "      <td>NaN</td>\n",
       "      <td>NaN</td>\n",
       "      <td>NaN</td>\n",
       "    </tr>\n",
       "    <tr>\n",
       "      <th>614</th>\n",
       "      <td>NaN</td>\n",
       "      <td>NaN</td>\n",
       "      <td>NaN</td>\n",
       "      <td>NaN</td>\n",
       "      <td>NaN</td>\n",
       "    </tr>\n",
       "    <tr>\n",
       "      <th>620</th>\n",
       "      <td>NaN</td>\n",
       "      <td>NaN</td>\n",
       "      <td>NaN</td>\n",
       "      <td>NaN</td>\n",
       "      <td>NaN</td>\n",
       "    </tr>\n",
       "    <tr>\n",
       "      <th>635</th>\n",
       "      <td>NaN</td>\n",
       "      <td>NaN</td>\n",
       "      <td>NaN</td>\n",
       "      <td>NaN</td>\n",
       "      <td>NaN</td>\n",
       "    </tr>\n",
       "    <tr>\n",
       "      <th>636</th>\n",
       "      <td>NaN</td>\n",
       "      <td>NaN</td>\n",
       "      <td>NaN</td>\n",
       "      <td>NaN</td>\n",
       "      <td>NaN</td>\n",
       "    </tr>\n",
       "    <tr>\n",
       "      <th>638</th>\n",
       "      <td>NaN</td>\n",
       "      <td>NaN</td>\n",
       "      <td>NaN</td>\n",
       "      <td>NaN</td>\n",
       "      <td>NaN</td>\n",
       "    </tr>\n",
       "    <tr>\n",
       "      <th>649</th>\n",
       "      <td>NaN</td>\n",
       "      <td>NaN</td>\n",
       "      <td>NaN</td>\n",
       "      <td>NaN</td>\n",
       "      <td>NaN</td>\n",
       "    </tr>\n",
       "    <tr>\n",
       "      <th>705</th>\n",
       "      <td>NaN</td>\n",
       "      <td>NaN</td>\n",
       "      <td>NaN</td>\n",
       "      <td>NaN</td>\n",
       "      <td>NaN</td>\n",
       "    </tr>\n",
       "    <tr>\n",
       "      <th>710</th>\n",
       "      <td>NaN</td>\n",
       "      <td>NaN</td>\n",
       "      <td>NaN</td>\n",
       "      <td>NaN</td>\n",
       "      <td>NaN</td>\n",
       "    </tr>\n",
       "    <tr>\n",
       "      <th>738</th>\n",
       "      <td>NaN</td>\n",
       "      <td>NaN</td>\n",
       "      <td>NaN</td>\n",
       "      <td>NaN</td>\n",
       "      <td>NaN</td>\n",
       "    </tr>\n",
       "    <tr>\n",
       "      <th>750</th>\n",
       "      <td>NaN</td>\n",
       "      <td>NaN</td>\n",
       "      <td>NaN</td>\n",
       "      <td>NaN</td>\n",
       "      <td>NaN</td>\n",
       "    </tr>\n",
       "    <tr>\n",
       "      <th>784</th>\n",
       "      <td>NaN</td>\n",
       "      <td>NaN</td>\n",
       "      <td>NaN</td>\n",
       "      <td>NaN</td>\n",
       "      <td>NaN</td>\n",
       "    </tr>\n",
       "    <tr>\n",
       "      <th>826</th>\n",
       "      <td>NaN</td>\n",
       "      <td>NaN</td>\n",
       "      <td>NaN</td>\n",
       "      <td>NaN</td>\n",
       "      <td>NaN</td>\n",
       "    </tr>\n",
       "    <tr>\n",
       "      <th>843</th>\n",
       "      <td>NaN</td>\n",
       "      <td>NaN</td>\n",
       "      <td>NaN</td>\n",
       "      <td>NaN</td>\n",
       "      <td>NaN</td>\n",
       "    </tr>\n",
       "    <tr>\n",
       "      <th>921</th>\n",
       "      <td>NaN</td>\n",
       "      <td>NaN</td>\n",
       "      <td>NaN</td>\n",
       "      <td>NaN</td>\n",
       "      <td>NaN</td>\n",
       "    </tr>\n",
       "    <tr>\n",
       "      <th>942</th>\n",
       "      <td>NaN</td>\n",
       "      <td>NaN</td>\n",
       "      <td>NaN</td>\n",
       "      <td>NaN</td>\n",
       "      <td>NaN</td>\n",
       "    </tr>\n",
       "    <tr>\n",
       "      <th>954</th>\n",
       "      <td>NaN</td>\n",
       "      <td>NaN</td>\n",
       "      <td>NaN</td>\n",
       "      <td>NaN</td>\n",
       "      <td>NaN</td>\n",
       "    </tr>\n",
       "    <tr>\n",
       "      <th>960</th>\n",
       "      <td>NaN</td>\n",
       "      <td>NaN</td>\n",
       "      <td>NaN</td>\n",
       "      <td>NaN</td>\n",
       "      <td>NaN</td>\n",
       "    </tr>\n",
       "    <tr>\n",
       "      <th>968</th>\n",
       "      <td>NaN</td>\n",
       "      <td>NaN</td>\n",
       "      <td>NaN</td>\n",
       "      <td>NaN</td>\n",
       "      <td>NaN</td>\n",
       "    </tr>\n",
       "    <tr>\n",
       "      <th>970</th>\n",
       "      <td>NaN</td>\n",
       "      <td>NaN</td>\n",
       "      <td>NaN</td>\n",
       "      <td>NaN</td>\n",
       "      <td>NaN</td>\n",
       "    </tr>\n",
       "    <tr>\n",
       "      <th>976</th>\n",
       "      <td>NaN</td>\n",
       "      <td>NaN</td>\n",
       "      <td>NaN</td>\n",
       "      <td>NaN</td>\n",
       "      <td>NaN</td>\n",
       "    </tr>\n",
       "    <tr>\n",
       "      <th>1009</th>\n",
       "      <td>NaN</td>\n",
       "      <td>NaN</td>\n",
       "      <td>NaN</td>\n",
       "      <td>NaN</td>\n",
       "      <td>NaN</td>\n",
       "    </tr>\n",
       "    <tr>\n",
       "      <th>1011</th>\n",
       "      <td>NaN</td>\n",
       "      <td>NaN</td>\n",
       "      <td>NaN</td>\n",
       "      <td>NaN</td>\n",
       "      <td>NaN</td>\n",
       "    </tr>\n",
       "    <tr>\n",
       "      <th>1030</th>\n",
       "      <td>NaN</td>\n",
       "      <td>NaN</td>\n",
       "      <td>NaN</td>\n",
       "      <td>NaN</td>\n",
       "      <td>NaN</td>\n",
       "    </tr>\n",
       "    <tr>\n",
       "      <th>1038</th>\n",
       "      <td>NaN</td>\n",
       "      <td>NaN</td>\n",
       "      <td>NaN</td>\n",
       "      <td>NaN</td>\n",
       "      <td>NaN</td>\n",
       "    </tr>\n",
       "    <tr>\n",
       "      <th>1096</th>\n",
       "      <td>NaN</td>\n",
       "      <td>NaN</td>\n",
       "      <td>NaN</td>\n",
       "      <td>NaN</td>\n",
       "      <td>NaN</td>\n",
       "    </tr>\n",
       "    <tr>\n",
       "      <th>1123</th>\n",
       "      <td>NaN</td>\n",
       "      <td>NaN</td>\n",
       "      <td>NaN</td>\n",
       "      <td>NaN</td>\n",
       "      <td>NaN</td>\n",
       "    </tr>\n",
       "    <tr>\n",
       "      <th>1131</th>\n",
       "      <td>NaN</td>\n",
       "      <td>NaN</td>\n",
       "      <td>NaN</td>\n",
       "      <td>NaN</td>\n",
       "      <td>NaN</td>\n",
       "    </tr>\n",
       "    <tr>\n",
       "      <th>1137</th>\n",
       "      <td>NaN</td>\n",
       "      <td>NaN</td>\n",
       "      <td>NaN</td>\n",
       "      <td>NaN</td>\n",
       "      <td>NaN</td>\n",
       "    </tr>\n",
       "    <tr>\n",
       "      <th>1143</th>\n",
       "      <td>NaN</td>\n",
       "      <td>NaN</td>\n",
       "      <td>NaN</td>\n",
       "      <td>NaN</td>\n",
       "      <td>NaN</td>\n",
       "    </tr>\n",
       "    <tr>\n",
       "      <th>1173</th>\n",
       "      <td>NaN</td>\n",
       "      <td>NaN</td>\n",
       "      <td>NaN</td>\n",
       "      <td>NaN</td>\n",
       "      <td>NaN</td>\n",
       "    </tr>\n",
       "    <tr>\n",
       "      <th>1179</th>\n",
       "      <td>NaN</td>\n",
       "      <td>NaN</td>\n",
       "      <td>NaN</td>\n",
       "      <td>NaN</td>\n",
       "      <td>NaN</td>\n",
       "    </tr>\n",
       "    <tr>\n",
       "      <th>1218</th>\n",
       "      <td>NaN</td>\n",
       "      <td>NaN</td>\n",
       "      <td>NaN</td>\n",
       "      <td>NaN</td>\n",
       "      <td>NaN</td>\n",
       "    </tr>\n",
       "    <tr>\n",
       "      <th>1219</th>\n",
       "      <td>NaN</td>\n",
       "      <td>NaN</td>\n",
       "      <td>NaN</td>\n",
       "      <td>NaN</td>\n",
       "      <td>NaN</td>\n",
       "    </tr>\n",
       "    <tr>\n",
       "      <th>1234</th>\n",
       "      <td>NaN</td>\n",
       "      <td>NaN</td>\n",
       "      <td>NaN</td>\n",
       "      <td>NaN</td>\n",
       "      <td>NaN</td>\n",
       "    </tr>\n",
       "    <tr>\n",
       "      <th>1257</th>\n",
       "      <td>NaN</td>\n",
       "      <td>NaN</td>\n",
       "      <td>NaN</td>\n",
       "      <td>NaN</td>\n",
       "      <td>NaN</td>\n",
       "    </tr>\n",
       "    <tr>\n",
       "      <th>1283</th>\n",
       "      <td>NaN</td>\n",
       "      <td>NaN</td>\n",
       "      <td>NaN</td>\n",
       "      <td>NaN</td>\n",
       "      <td>NaN</td>\n",
       "    </tr>\n",
       "    <tr>\n",
       "      <th>1323</th>\n",
       "      <td>NaN</td>\n",
       "      <td>NaN</td>\n",
       "      <td>NaN</td>\n",
       "      <td>NaN</td>\n",
       "      <td>NaN</td>\n",
       "    </tr>\n",
       "    <tr>\n",
       "      <th>1325</th>\n",
       "      <td>NaN</td>\n",
       "      <td>NaN</td>\n",
       "      <td>NaN</td>\n",
       "      <td>NaN</td>\n",
       "      <td>NaN</td>\n",
       "    </tr>\n",
       "    <tr>\n",
       "      <th>1326</th>\n",
       "      <td>NaN</td>\n",
       "      <td>NaN</td>\n",
       "      <td>NaN</td>\n",
       "      <td>NaN</td>\n",
       "      <td>NaN</td>\n",
       "    </tr>\n",
       "    <tr>\n",
       "      <th>1337</th>\n",
       "      <td>NaN</td>\n",
       "      <td>NaN</td>\n",
       "      <td>NaN</td>\n",
       "      <td>NaN</td>\n",
       "      <td>NaN</td>\n",
       "    </tr>\n",
       "    <tr>\n",
       "      <th>1349</th>\n",
       "      <td>NaN</td>\n",
       "      <td>NaN</td>\n",
       "      <td>NaN</td>\n",
       "      <td>NaN</td>\n",
       "      <td>NaN</td>\n",
       "    </tr>\n",
       "    <tr>\n",
       "      <th>1407</th>\n",
       "      <td>NaN</td>\n",
       "      <td>NaN</td>\n",
       "      <td>NaN</td>\n",
       "      <td>NaN</td>\n",
       "      <td>NaN</td>\n",
       "    </tr>\n",
       "    <tr>\n",
       "      <th>1449</th>\n",
       "      <td>NaN</td>\n",
       "      <td>NaN</td>\n",
       "      <td>NaN</td>\n",
       "      <td>NaN</td>\n",
       "      <td>NaN</td>\n",
       "    </tr>\n",
       "    <tr>\n",
       "      <th>1450</th>\n",
       "      <td>NaN</td>\n",
       "      <td>NaN</td>\n",
       "      <td>NaN</td>\n",
       "      <td>NaN</td>\n",
       "      <td>NaN</td>\n",
       "    </tr>\n",
       "    <tr>\n",
       "      <th>1453</th>\n",
       "      <td>NaN</td>\n",
       "      <td>NaN</td>\n",
       "      <td>NaN</td>\n",
       "      <td>NaN</td>\n",
       "      <td>NaN</td>\n",
       "    </tr>\n",
       "  </tbody>\n",
       "</table>\n",
       "</div>"
      ],
      "text/plain": [
       "     GarageType  GarageYrBlt GarageFinish GarageQual GarageCond\n",
       "39          NaN          NaN          NaN        NaN        NaN\n",
       "48          NaN          NaN          NaN        NaN        NaN\n",
       "78          NaN          NaN          NaN        NaN        NaN\n",
       "88          NaN          NaN          NaN        NaN        NaN\n",
       "89          NaN          NaN          NaN        NaN        NaN\n",
       "99          NaN          NaN          NaN        NaN        NaN\n",
       "108         NaN          NaN          NaN        NaN        NaN\n",
       "125         NaN          NaN          NaN        NaN        NaN\n",
       "127         NaN          NaN          NaN        NaN        NaN\n",
       "140         NaN          NaN          NaN        NaN        NaN\n",
       "148         NaN          NaN          NaN        NaN        NaN\n",
       "155         NaN          NaN          NaN        NaN        NaN\n",
       "163         NaN          NaN          NaN        NaN        NaN\n",
       "165         NaN          NaN          NaN        NaN        NaN\n",
       "198         NaN          NaN          NaN        NaN        NaN\n",
       "210         NaN          NaN          NaN        NaN        NaN\n",
       "241         NaN          NaN          NaN        NaN        NaN\n",
       "250         NaN          NaN          NaN        NaN        NaN\n",
       "287         NaN          NaN          NaN        NaN        NaN\n",
       "291         NaN          NaN          NaN        NaN        NaN\n",
       "307         NaN          NaN          NaN        NaN        NaN\n",
       "375         NaN          NaN          NaN        NaN        NaN\n",
       "386         NaN          NaN          NaN        NaN        NaN\n",
       "393         NaN          NaN          NaN        NaN        NaN\n",
       "431         NaN          NaN          NaN        NaN        NaN\n",
       "434         NaN          NaN          NaN        NaN        NaN\n",
       "441         NaN          NaN          NaN        NaN        NaN\n",
       "464         NaN          NaN          NaN        NaN        NaN\n",
       "495         NaN          NaN          NaN        NaN        NaN\n",
       "520         NaN          NaN          NaN        NaN        NaN\n",
       "528         NaN          NaN          NaN        NaN        NaN\n",
       "533         NaN          NaN          NaN        NaN        NaN\n",
       "535         NaN          NaN          NaN        NaN        NaN\n",
       "562         NaN          NaN          NaN        NaN        NaN\n",
       "582         NaN          NaN          NaN        NaN        NaN\n",
       "613         NaN          NaN          NaN        NaN        NaN\n",
       "614         NaN          NaN          NaN        NaN        NaN\n",
       "620         NaN          NaN          NaN        NaN        NaN\n",
       "635         NaN          NaN          NaN        NaN        NaN\n",
       "636         NaN          NaN          NaN        NaN        NaN\n",
       "638         NaN          NaN          NaN        NaN        NaN\n",
       "649         NaN          NaN          NaN        NaN        NaN\n",
       "705         NaN          NaN          NaN        NaN        NaN\n",
       "710         NaN          NaN          NaN        NaN        NaN\n",
       "738         NaN          NaN          NaN        NaN        NaN\n",
       "750         NaN          NaN          NaN        NaN        NaN\n",
       "784         NaN          NaN          NaN        NaN        NaN\n",
       "826         NaN          NaN          NaN        NaN        NaN\n",
       "843         NaN          NaN          NaN        NaN        NaN\n",
       "921         NaN          NaN          NaN        NaN        NaN\n",
       "942         NaN          NaN          NaN        NaN        NaN\n",
       "954         NaN          NaN          NaN        NaN        NaN\n",
       "960         NaN          NaN          NaN        NaN        NaN\n",
       "968         NaN          NaN          NaN        NaN        NaN\n",
       "970         NaN          NaN          NaN        NaN        NaN\n",
       "976         NaN          NaN          NaN        NaN        NaN\n",
       "1009        NaN          NaN          NaN        NaN        NaN\n",
       "1011        NaN          NaN          NaN        NaN        NaN\n",
       "1030        NaN          NaN          NaN        NaN        NaN\n",
       "1038        NaN          NaN          NaN        NaN        NaN\n",
       "1096        NaN          NaN          NaN        NaN        NaN\n",
       "1123        NaN          NaN          NaN        NaN        NaN\n",
       "1131        NaN          NaN          NaN        NaN        NaN\n",
       "1137        NaN          NaN          NaN        NaN        NaN\n",
       "1143        NaN          NaN          NaN        NaN        NaN\n",
       "1173        NaN          NaN          NaN        NaN        NaN\n",
       "1179        NaN          NaN          NaN        NaN        NaN\n",
       "1218        NaN          NaN          NaN        NaN        NaN\n",
       "1219        NaN          NaN          NaN        NaN        NaN\n",
       "1234        NaN          NaN          NaN        NaN        NaN\n",
       "1257        NaN          NaN          NaN        NaN        NaN\n",
       "1283        NaN          NaN          NaN        NaN        NaN\n",
       "1323        NaN          NaN          NaN        NaN        NaN\n",
       "1325        NaN          NaN          NaN        NaN        NaN\n",
       "1326        NaN          NaN          NaN        NaN        NaN\n",
       "1337        NaN          NaN          NaN        NaN        NaN\n",
       "1349        NaN          NaN          NaN        NaN        NaN\n",
       "1407        NaN          NaN          NaN        NaN        NaN\n",
       "1449        NaN          NaN          NaN        NaN        NaN\n",
       "1450        NaN          NaN          NaN        NaN        NaN\n",
       "1453        NaN          NaN          NaN        NaN        NaN"
      ]
     },
     "execution_count": 30,
     "metadata": {},
     "output_type": "execute_result"
    }
   ],
   "source": [
    "# Check if the 5 variables have missing values in the same indices for training set\n",
    "df_train[df_train['GarageType'].isnull()][['GarageType', 'GarageYrBlt', 'GarageFinish', 'GarageQual','GarageCond']]"
   ]
  },
  {
   "cell_type": "code",
   "execution_count": 31,
   "metadata": {},
   "outputs": [
    {
     "data": {
      "text/html": [
       "<div>\n",
       "<style scoped>\n",
       "    .dataframe tbody tr th:only-of-type {\n",
       "        vertical-align: middle;\n",
       "    }\n",
       "\n",
       "    .dataframe tbody tr th {\n",
       "        vertical-align: top;\n",
       "    }\n",
       "\n",
       "    .dataframe thead th {\n",
       "        text-align: right;\n",
       "    }\n",
       "</style>\n",
       "<table border=\"1\" class=\"dataframe\">\n",
       "  <thead>\n",
       "    <tr style=\"text-align: right;\">\n",
       "      <th></th>\n",
       "      <th>GarageType</th>\n",
       "      <th>GarageYrBlt</th>\n",
       "      <th>GarageFinish</th>\n",
       "      <th>GarageQual</th>\n",
       "      <th>GarageCond</th>\n",
       "    </tr>\n",
       "  </thead>\n",
       "  <tbody>\n",
       "    <tr>\n",
       "      <th>53</th>\n",
       "      <td>NaN</td>\n",
       "      <td>NaN</td>\n",
       "      <td>NaN</td>\n",
       "      <td>NaN</td>\n",
       "      <td>NaN</td>\n",
       "    </tr>\n",
       "    <tr>\n",
       "      <th>71</th>\n",
       "      <td>NaN</td>\n",
       "      <td>NaN</td>\n",
       "      <td>NaN</td>\n",
       "      <td>NaN</td>\n",
       "      <td>NaN</td>\n",
       "    </tr>\n",
       "    <tr>\n",
       "      <th>79</th>\n",
       "      <td>NaN</td>\n",
       "      <td>NaN</td>\n",
       "      <td>NaN</td>\n",
       "      <td>NaN</td>\n",
       "      <td>NaN</td>\n",
       "    </tr>\n",
       "    <tr>\n",
       "      <th>92</th>\n",
       "      <td>NaN</td>\n",
       "      <td>NaN</td>\n",
       "      <td>NaN</td>\n",
       "      <td>NaN</td>\n",
       "      <td>NaN</td>\n",
       "    </tr>\n",
       "    <tr>\n",
       "      <th>96</th>\n",
       "      <td>NaN</td>\n",
       "      <td>NaN</td>\n",
       "      <td>NaN</td>\n",
       "      <td>NaN</td>\n",
       "      <td>NaN</td>\n",
       "    </tr>\n",
       "    <tr>\n",
       "      <th>98</th>\n",
       "      <td>NaN</td>\n",
       "      <td>NaN</td>\n",
       "      <td>NaN</td>\n",
       "      <td>NaN</td>\n",
       "      <td>NaN</td>\n",
       "    </tr>\n",
       "    <tr>\n",
       "      <th>100</th>\n",
       "      <td>NaN</td>\n",
       "      <td>NaN</td>\n",
       "      <td>NaN</td>\n",
       "      <td>NaN</td>\n",
       "      <td>NaN</td>\n",
       "    </tr>\n",
       "    <tr>\n",
       "      <th>130</th>\n",
       "      <td>NaN</td>\n",
       "      <td>NaN</td>\n",
       "      <td>NaN</td>\n",
       "      <td>NaN</td>\n",
       "      <td>NaN</td>\n",
       "    </tr>\n",
       "    <tr>\n",
       "      <th>133</th>\n",
       "      <td>NaN</td>\n",
       "      <td>NaN</td>\n",
       "      <td>NaN</td>\n",
       "      <td>NaN</td>\n",
       "      <td>NaN</td>\n",
       "    </tr>\n",
       "    <tr>\n",
       "      <th>134</th>\n",
       "      <td>NaN</td>\n",
       "      <td>NaN</td>\n",
       "      <td>NaN</td>\n",
       "      <td>NaN</td>\n",
       "      <td>NaN</td>\n",
       "    </tr>\n",
       "    <tr>\n",
       "      <th>154</th>\n",
       "      <td>NaN</td>\n",
       "      <td>NaN</td>\n",
       "      <td>NaN</td>\n",
       "      <td>NaN</td>\n",
       "      <td>NaN</td>\n",
       "    </tr>\n",
       "    <tr>\n",
       "      <th>155</th>\n",
       "      <td>NaN</td>\n",
       "      <td>NaN</td>\n",
       "      <td>NaN</td>\n",
       "      <td>NaN</td>\n",
       "      <td>NaN</td>\n",
       "    </tr>\n",
       "    <tr>\n",
       "      <th>257</th>\n",
       "      <td>NaN</td>\n",
       "      <td>NaN</td>\n",
       "      <td>NaN</td>\n",
       "      <td>NaN</td>\n",
       "      <td>NaN</td>\n",
       "    </tr>\n",
       "    <tr>\n",
       "      <th>261</th>\n",
       "      <td>NaN</td>\n",
       "      <td>NaN</td>\n",
       "      <td>NaN</td>\n",
       "      <td>NaN</td>\n",
       "      <td>NaN</td>\n",
       "    </tr>\n",
       "    <tr>\n",
       "      <th>327</th>\n",
       "      <td>NaN</td>\n",
       "      <td>NaN</td>\n",
       "      <td>NaN</td>\n",
       "      <td>NaN</td>\n",
       "      <td>NaN</td>\n",
       "    </tr>\n",
       "    <tr>\n",
       "      <th>348</th>\n",
       "      <td>NaN</td>\n",
       "      <td>NaN</td>\n",
       "      <td>NaN</td>\n",
       "      <td>NaN</td>\n",
       "      <td>NaN</td>\n",
       "    </tr>\n",
       "    <tr>\n",
       "      <th>350</th>\n",
       "      <td>NaN</td>\n",
       "      <td>NaN</td>\n",
       "      <td>NaN</td>\n",
       "      <td>NaN</td>\n",
       "      <td>NaN</td>\n",
       "    </tr>\n",
       "    <tr>\n",
       "      <th>351</th>\n",
       "      <td>NaN</td>\n",
       "      <td>NaN</td>\n",
       "      <td>NaN</td>\n",
       "      <td>NaN</td>\n",
       "      <td>NaN</td>\n",
       "    </tr>\n",
       "    <tr>\n",
       "      <th>359</th>\n",
       "      <td>NaN</td>\n",
       "      <td>NaN</td>\n",
       "      <td>NaN</td>\n",
       "      <td>NaN</td>\n",
       "      <td>NaN</td>\n",
       "    </tr>\n",
       "    <tr>\n",
       "      <th>362</th>\n",
       "      <td>NaN</td>\n",
       "      <td>NaN</td>\n",
       "      <td>NaN</td>\n",
       "      <td>NaN</td>\n",
       "      <td>NaN</td>\n",
       "    </tr>\n",
       "    <tr>\n",
       "      <th>371</th>\n",
       "      <td>NaN</td>\n",
       "      <td>NaN</td>\n",
       "      <td>NaN</td>\n",
       "      <td>NaN</td>\n",
       "      <td>NaN</td>\n",
       "    </tr>\n",
       "    <tr>\n",
       "      <th>374</th>\n",
       "      <td>NaN</td>\n",
       "      <td>NaN</td>\n",
       "      <td>NaN</td>\n",
       "      <td>NaN</td>\n",
       "      <td>NaN</td>\n",
       "    </tr>\n",
       "    <tr>\n",
       "      <th>376</th>\n",
       "      <td>NaN</td>\n",
       "      <td>NaN</td>\n",
       "      <td>NaN</td>\n",
       "      <td>NaN</td>\n",
       "      <td>NaN</td>\n",
       "    </tr>\n",
       "    <tr>\n",
       "      <th>379</th>\n",
       "      <td>NaN</td>\n",
       "      <td>NaN</td>\n",
       "      <td>NaN</td>\n",
       "      <td>NaN</td>\n",
       "      <td>NaN</td>\n",
       "    </tr>\n",
       "    <tr>\n",
       "      <th>387</th>\n",
       "      <td>NaN</td>\n",
       "      <td>NaN</td>\n",
       "      <td>NaN</td>\n",
       "      <td>NaN</td>\n",
       "      <td>NaN</td>\n",
       "    </tr>\n",
       "    <tr>\n",
       "      <th>433</th>\n",
       "      <td>NaN</td>\n",
       "      <td>NaN</td>\n",
       "      <td>NaN</td>\n",
       "      <td>NaN</td>\n",
       "      <td>NaN</td>\n",
       "    </tr>\n",
       "    <tr>\n",
       "      <th>550</th>\n",
       "      <td>NaN</td>\n",
       "      <td>NaN</td>\n",
       "      <td>NaN</td>\n",
       "      <td>NaN</td>\n",
       "      <td>NaN</td>\n",
       "    </tr>\n",
       "    <tr>\n",
       "      <th>621</th>\n",
       "      <td>NaN</td>\n",
       "      <td>NaN</td>\n",
       "      <td>NaN</td>\n",
       "      <td>NaN</td>\n",
       "      <td>NaN</td>\n",
       "    </tr>\n",
       "    <tr>\n",
       "      <th>630</th>\n",
       "      <td>NaN</td>\n",
       "      <td>NaN</td>\n",
       "      <td>NaN</td>\n",
       "      <td>NaN</td>\n",
       "      <td>NaN</td>\n",
       "    </tr>\n",
       "    <tr>\n",
       "      <th>633</th>\n",
       "      <td>NaN</td>\n",
       "      <td>NaN</td>\n",
       "      <td>NaN</td>\n",
       "      <td>NaN</td>\n",
       "      <td>NaN</td>\n",
       "    </tr>\n",
       "    <tr>\n",
       "      <th>636</th>\n",
       "      <td>NaN</td>\n",
       "      <td>NaN</td>\n",
       "      <td>NaN</td>\n",
       "      <td>NaN</td>\n",
       "      <td>NaN</td>\n",
       "    </tr>\n",
       "    <tr>\n",
       "      <th>639</th>\n",
       "      <td>NaN</td>\n",
       "      <td>NaN</td>\n",
       "      <td>NaN</td>\n",
       "      <td>NaN</td>\n",
       "      <td>NaN</td>\n",
       "    </tr>\n",
       "    <tr>\n",
       "      <th>644</th>\n",
       "      <td>NaN</td>\n",
       "      <td>NaN</td>\n",
       "      <td>NaN</td>\n",
       "      <td>NaN</td>\n",
       "      <td>NaN</td>\n",
       "    </tr>\n",
       "    <tr>\n",
       "      <th>666</th>\n",
       "      <td>Detchd</td>\n",
       "      <td>NaN</td>\n",
       "      <td>NaN</td>\n",
       "      <td>NaN</td>\n",
       "      <td>NaN</td>\n",
       "    </tr>\n",
       "    <tr>\n",
       "      <th>675</th>\n",
       "      <td>NaN</td>\n",
       "      <td>NaN</td>\n",
       "      <td>NaN</td>\n",
       "      <td>NaN</td>\n",
       "      <td>NaN</td>\n",
       "    </tr>\n",
       "    <tr>\n",
       "      <th>691</th>\n",
       "      <td>NaN</td>\n",
       "      <td>NaN</td>\n",
       "      <td>NaN</td>\n",
       "      <td>NaN</td>\n",
       "      <td>NaN</td>\n",
       "    </tr>\n",
       "    <tr>\n",
       "      <th>693</th>\n",
       "      <td>NaN</td>\n",
       "      <td>NaN</td>\n",
       "      <td>NaN</td>\n",
       "      <td>NaN</td>\n",
       "      <td>NaN</td>\n",
       "    </tr>\n",
       "    <tr>\n",
       "      <th>729</th>\n",
       "      <td>NaN</td>\n",
       "      <td>NaN</td>\n",
       "      <td>NaN</td>\n",
       "      <td>NaN</td>\n",
       "      <td>NaN</td>\n",
       "    </tr>\n",
       "    <tr>\n",
       "      <th>730</th>\n",
       "      <td>NaN</td>\n",
       "      <td>NaN</td>\n",
       "      <td>NaN</td>\n",
       "      <td>NaN</td>\n",
       "      <td>NaN</td>\n",
       "    </tr>\n",
       "    <tr>\n",
       "      <th>731</th>\n",
       "      <td>NaN</td>\n",
       "      <td>NaN</td>\n",
       "      <td>NaN</td>\n",
       "      <td>NaN</td>\n",
       "      <td>NaN</td>\n",
       "    </tr>\n",
       "    <tr>\n",
       "      <th>732</th>\n",
       "      <td>NaN</td>\n",
       "      <td>NaN</td>\n",
       "      <td>NaN</td>\n",
       "      <td>NaN</td>\n",
       "      <td>NaN</td>\n",
       "    </tr>\n",
       "    <tr>\n",
       "      <th>733</th>\n",
       "      <td>NaN</td>\n",
       "      <td>NaN</td>\n",
       "      <td>NaN</td>\n",
       "      <td>NaN</td>\n",
       "      <td>NaN</td>\n",
       "    </tr>\n",
       "    <tr>\n",
       "      <th>752</th>\n",
       "      <td>NaN</td>\n",
       "      <td>NaN</td>\n",
       "      <td>NaN</td>\n",
       "      <td>NaN</td>\n",
       "      <td>NaN</td>\n",
       "    </tr>\n",
       "    <tr>\n",
       "      <th>778</th>\n",
       "      <td>NaN</td>\n",
       "      <td>NaN</td>\n",
       "      <td>NaN</td>\n",
       "      <td>NaN</td>\n",
       "      <td>NaN</td>\n",
       "    </tr>\n",
       "    <tr>\n",
       "      <th>786</th>\n",
       "      <td>NaN</td>\n",
       "      <td>NaN</td>\n",
       "      <td>NaN</td>\n",
       "      <td>NaN</td>\n",
       "      <td>NaN</td>\n",
       "    </tr>\n",
       "    <tr>\n",
       "      <th>893</th>\n",
       "      <td>NaN</td>\n",
       "      <td>NaN</td>\n",
       "      <td>NaN</td>\n",
       "      <td>NaN</td>\n",
       "      <td>NaN</td>\n",
       "    </tr>\n",
       "    <tr>\n",
       "      <th>894</th>\n",
       "      <td>NaN</td>\n",
       "      <td>NaN</td>\n",
       "      <td>NaN</td>\n",
       "      <td>NaN</td>\n",
       "      <td>NaN</td>\n",
       "    </tr>\n",
       "    <tr>\n",
       "      <th>938</th>\n",
       "      <td>NaN</td>\n",
       "      <td>NaN</td>\n",
       "      <td>NaN</td>\n",
       "      <td>NaN</td>\n",
       "      <td>NaN</td>\n",
       "    </tr>\n",
       "    <tr>\n",
       "      <th>939</th>\n",
       "      <td>NaN</td>\n",
       "      <td>NaN</td>\n",
       "      <td>NaN</td>\n",
       "      <td>NaN</td>\n",
       "      <td>NaN</td>\n",
       "    </tr>\n",
       "    <tr>\n",
       "      <th>962</th>\n",
       "      <td>NaN</td>\n",
       "      <td>NaN</td>\n",
       "      <td>NaN</td>\n",
       "      <td>NaN</td>\n",
       "      <td>NaN</td>\n",
       "    </tr>\n",
       "    <tr>\n",
       "      <th>966</th>\n",
       "      <td>NaN</td>\n",
       "      <td>NaN</td>\n",
       "      <td>NaN</td>\n",
       "      <td>NaN</td>\n",
       "      <td>NaN</td>\n",
       "    </tr>\n",
       "    <tr>\n",
       "      <th>1092</th>\n",
       "      <td>NaN</td>\n",
       "      <td>NaN</td>\n",
       "      <td>NaN</td>\n",
       "      <td>NaN</td>\n",
       "      <td>NaN</td>\n",
       "    </tr>\n",
       "    <tr>\n",
       "      <th>1093</th>\n",
       "      <td>NaN</td>\n",
       "      <td>NaN</td>\n",
       "      <td>NaN</td>\n",
       "      <td>NaN</td>\n",
       "      <td>NaN</td>\n",
       "    </tr>\n",
       "    <tr>\n",
       "      <th>1097</th>\n",
       "      <td>NaN</td>\n",
       "      <td>NaN</td>\n",
       "      <td>NaN</td>\n",
       "      <td>NaN</td>\n",
       "      <td>NaN</td>\n",
       "    </tr>\n",
       "    <tr>\n",
       "      <th>1115</th>\n",
       "      <td>NaN</td>\n",
       "      <td>NaN</td>\n",
       "      <td>NaN</td>\n",
       "      <td>NaN</td>\n",
       "      <td>NaN</td>\n",
       "    </tr>\n",
       "    <tr>\n",
       "      <th>1116</th>\n",
       "      <td>Detchd</td>\n",
       "      <td>NaN</td>\n",
       "      <td>NaN</td>\n",
       "      <td>NaN</td>\n",
       "      <td>NaN</td>\n",
       "    </tr>\n",
       "    <tr>\n",
       "      <th>1119</th>\n",
       "      <td>NaN</td>\n",
       "      <td>NaN</td>\n",
       "      <td>NaN</td>\n",
       "      <td>NaN</td>\n",
       "      <td>NaN</td>\n",
       "    </tr>\n",
       "    <tr>\n",
       "      <th>1143</th>\n",
       "      <td>NaN</td>\n",
       "      <td>NaN</td>\n",
       "      <td>NaN</td>\n",
       "      <td>NaN</td>\n",
       "      <td>NaN</td>\n",
       "    </tr>\n",
       "    <tr>\n",
       "      <th>1149</th>\n",
       "      <td>NaN</td>\n",
       "      <td>NaN</td>\n",
       "      <td>NaN</td>\n",
       "      <td>NaN</td>\n",
       "      <td>NaN</td>\n",
       "    </tr>\n",
       "    <tr>\n",
       "      <th>1231</th>\n",
       "      <td>NaN</td>\n",
       "      <td>NaN</td>\n",
       "      <td>NaN</td>\n",
       "      <td>NaN</td>\n",
       "      <td>NaN</td>\n",
       "    </tr>\n",
       "    <tr>\n",
       "      <th>1233</th>\n",
       "      <td>NaN</td>\n",
       "      <td>NaN</td>\n",
       "      <td>NaN</td>\n",
       "      <td>NaN</td>\n",
       "      <td>NaN</td>\n",
       "    </tr>\n",
       "    <tr>\n",
       "      <th>1248</th>\n",
       "      <td>NaN</td>\n",
       "      <td>NaN</td>\n",
       "      <td>NaN</td>\n",
       "      <td>NaN</td>\n",
       "      <td>NaN</td>\n",
       "    </tr>\n",
       "    <tr>\n",
       "      <th>1307</th>\n",
       "      <td>NaN</td>\n",
       "      <td>NaN</td>\n",
       "      <td>NaN</td>\n",
       "      <td>NaN</td>\n",
       "      <td>NaN</td>\n",
       "    </tr>\n",
       "    <tr>\n",
       "      <th>1311</th>\n",
       "      <td>NaN</td>\n",
       "      <td>NaN</td>\n",
       "      <td>NaN</td>\n",
       "      <td>NaN</td>\n",
       "      <td>NaN</td>\n",
       "    </tr>\n",
       "    <tr>\n",
       "      <th>1329</th>\n",
       "      <td>NaN</td>\n",
       "      <td>NaN</td>\n",
       "      <td>NaN</td>\n",
       "      <td>NaN</td>\n",
       "      <td>NaN</td>\n",
       "    </tr>\n",
       "    <tr>\n",
       "      <th>1331</th>\n",
       "      <td>NaN</td>\n",
       "      <td>NaN</td>\n",
       "      <td>NaN</td>\n",
       "      <td>NaN</td>\n",
       "      <td>NaN</td>\n",
       "    </tr>\n",
       "    <tr>\n",
       "      <th>1339</th>\n",
       "      <td>NaN</td>\n",
       "      <td>NaN</td>\n",
       "      <td>NaN</td>\n",
       "      <td>NaN</td>\n",
       "      <td>NaN</td>\n",
       "    </tr>\n",
       "    <tr>\n",
       "      <th>1399</th>\n",
       "      <td>NaN</td>\n",
       "      <td>NaN</td>\n",
       "      <td>NaN</td>\n",
       "      <td>NaN</td>\n",
       "      <td>NaN</td>\n",
       "    </tr>\n",
       "    <tr>\n",
       "      <th>1402</th>\n",
       "      <td>NaN</td>\n",
       "      <td>NaN</td>\n",
       "      <td>NaN</td>\n",
       "      <td>NaN</td>\n",
       "      <td>NaN</td>\n",
       "    </tr>\n",
       "    <tr>\n",
       "      <th>1410</th>\n",
       "      <td>NaN</td>\n",
       "      <td>NaN</td>\n",
       "      <td>NaN</td>\n",
       "      <td>NaN</td>\n",
       "      <td>NaN</td>\n",
       "    </tr>\n",
       "    <tr>\n",
       "      <th>1428</th>\n",
       "      <td>NaN</td>\n",
       "      <td>NaN</td>\n",
       "      <td>NaN</td>\n",
       "      <td>NaN</td>\n",
       "      <td>NaN</td>\n",
       "    </tr>\n",
       "    <tr>\n",
       "      <th>1431</th>\n",
       "      <td>NaN</td>\n",
       "      <td>NaN</td>\n",
       "      <td>NaN</td>\n",
       "      <td>NaN</td>\n",
       "      <td>NaN</td>\n",
       "    </tr>\n",
       "    <tr>\n",
       "      <th>1432</th>\n",
       "      <td>NaN</td>\n",
       "      <td>NaN</td>\n",
       "      <td>NaN</td>\n",
       "      <td>NaN</td>\n",
       "      <td>NaN</td>\n",
       "    </tr>\n",
       "    <tr>\n",
       "      <th>1433</th>\n",
       "      <td>NaN</td>\n",
       "      <td>NaN</td>\n",
       "      <td>NaN</td>\n",
       "      <td>NaN</td>\n",
       "      <td>NaN</td>\n",
       "    </tr>\n",
       "    <tr>\n",
       "      <th>1449</th>\n",
       "      <td>NaN</td>\n",
       "      <td>NaN</td>\n",
       "      <td>NaN</td>\n",
       "      <td>NaN</td>\n",
       "      <td>NaN</td>\n",
       "    </tr>\n",
       "    <tr>\n",
       "      <th>1453</th>\n",
       "      <td>NaN</td>\n",
       "      <td>NaN</td>\n",
       "      <td>NaN</td>\n",
       "      <td>NaN</td>\n",
       "      <td>NaN</td>\n",
       "    </tr>\n",
       "    <tr>\n",
       "      <th>1454</th>\n",
       "      <td>NaN</td>\n",
       "      <td>NaN</td>\n",
       "      <td>NaN</td>\n",
       "      <td>NaN</td>\n",
       "      <td>NaN</td>\n",
       "    </tr>\n",
       "    <tr>\n",
       "      <th>1457</th>\n",
       "      <td>NaN</td>\n",
       "      <td>NaN</td>\n",
       "      <td>NaN</td>\n",
       "      <td>NaN</td>\n",
       "      <td>NaN</td>\n",
       "    </tr>\n",
       "  </tbody>\n",
       "</table>\n",
       "</div>"
      ],
      "text/plain": [
       "     GarageType  GarageYrBlt GarageFinish GarageQual GarageCond\n",
       "53          NaN          NaN          NaN        NaN        NaN\n",
       "71          NaN          NaN          NaN        NaN        NaN\n",
       "79          NaN          NaN          NaN        NaN        NaN\n",
       "92          NaN          NaN          NaN        NaN        NaN\n",
       "96          NaN          NaN          NaN        NaN        NaN\n",
       "98          NaN          NaN          NaN        NaN        NaN\n",
       "100         NaN          NaN          NaN        NaN        NaN\n",
       "130         NaN          NaN          NaN        NaN        NaN\n",
       "133         NaN          NaN          NaN        NaN        NaN\n",
       "134         NaN          NaN          NaN        NaN        NaN\n",
       "154         NaN          NaN          NaN        NaN        NaN\n",
       "155         NaN          NaN          NaN        NaN        NaN\n",
       "257         NaN          NaN          NaN        NaN        NaN\n",
       "261         NaN          NaN          NaN        NaN        NaN\n",
       "327         NaN          NaN          NaN        NaN        NaN\n",
       "348         NaN          NaN          NaN        NaN        NaN\n",
       "350         NaN          NaN          NaN        NaN        NaN\n",
       "351         NaN          NaN          NaN        NaN        NaN\n",
       "359         NaN          NaN          NaN        NaN        NaN\n",
       "362         NaN          NaN          NaN        NaN        NaN\n",
       "371         NaN          NaN          NaN        NaN        NaN\n",
       "374         NaN          NaN          NaN        NaN        NaN\n",
       "376         NaN          NaN          NaN        NaN        NaN\n",
       "379         NaN          NaN          NaN        NaN        NaN\n",
       "387         NaN          NaN          NaN        NaN        NaN\n",
       "433         NaN          NaN          NaN        NaN        NaN\n",
       "550         NaN          NaN          NaN        NaN        NaN\n",
       "621         NaN          NaN          NaN        NaN        NaN\n",
       "630         NaN          NaN          NaN        NaN        NaN\n",
       "633         NaN          NaN          NaN        NaN        NaN\n",
       "636         NaN          NaN          NaN        NaN        NaN\n",
       "639         NaN          NaN          NaN        NaN        NaN\n",
       "644         NaN          NaN          NaN        NaN        NaN\n",
       "666      Detchd          NaN          NaN        NaN        NaN\n",
       "675         NaN          NaN          NaN        NaN        NaN\n",
       "691         NaN          NaN          NaN        NaN        NaN\n",
       "693         NaN          NaN          NaN        NaN        NaN\n",
       "729         NaN          NaN          NaN        NaN        NaN\n",
       "730         NaN          NaN          NaN        NaN        NaN\n",
       "731         NaN          NaN          NaN        NaN        NaN\n",
       "732         NaN          NaN          NaN        NaN        NaN\n",
       "733         NaN          NaN          NaN        NaN        NaN\n",
       "752         NaN          NaN          NaN        NaN        NaN\n",
       "778         NaN          NaN          NaN        NaN        NaN\n",
       "786         NaN          NaN          NaN        NaN        NaN\n",
       "893         NaN          NaN          NaN        NaN        NaN\n",
       "894         NaN          NaN          NaN        NaN        NaN\n",
       "938         NaN          NaN          NaN        NaN        NaN\n",
       "939         NaN          NaN          NaN        NaN        NaN\n",
       "962         NaN          NaN          NaN        NaN        NaN\n",
       "966         NaN          NaN          NaN        NaN        NaN\n",
       "1092        NaN          NaN          NaN        NaN        NaN\n",
       "1093        NaN          NaN          NaN        NaN        NaN\n",
       "1097        NaN          NaN          NaN        NaN        NaN\n",
       "1115        NaN          NaN          NaN        NaN        NaN\n",
       "1116     Detchd          NaN          NaN        NaN        NaN\n",
       "1119        NaN          NaN          NaN        NaN        NaN\n",
       "1143        NaN          NaN          NaN        NaN        NaN\n",
       "1149        NaN          NaN          NaN        NaN        NaN\n",
       "1231        NaN          NaN          NaN        NaN        NaN\n",
       "1233        NaN          NaN          NaN        NaN        NaN\n",
       "1248        NaN          NaN          NaN        NaN        NaN\n",
       "1307        NaN          NaN          NaN        NaN        NaN\n",
       "1311        NaN          NaN          NaN        NaN        NaN\n",
       "1329        NaN          NaN          NaN        NaN        NaN\n",
       "1331        NaN          NaN          NaN        NaN        NaN\n",
       "1339        NaN          NaN          NaN        NaN        NaN\n",
       "1399        NaN          NaN          NaN        NaN        NaN\n",
       "1402        NaN          NaN          NaN        NaN        NaN\n",
       "1410        NaN          NaN          NaN        NaN        NaN\n",
       "1428        NaN          NaN          NaN        NaN        NaN\n",
       "1431        NaN          NaN          NaN        NaN        NaN\n",
       "1432        NaN          NaN          NaN        NaN        NaN\n",
       "1433        NaN          NaN          NaN        NaN        NaN\n",
       "1449        NaN          NaN          NaN        NaN        NaN\n",
       "1453        NaN          NaN          NaN        NaN        NaN\n",
       "1454        NaN          NaN          NaN        NaN        NaN\n",
       "1457        NaN          NaN          NaN        NaN        NaN"
      ]
     },
     "execution_count": 31,
     "metadata": {},
     "output_type": "execute_result"
    }
   ],
   "source": [
    "# Check if the 5 variables have missing values in the same indices for test set\n",
    "df_test[df_test['GarageCond'].isnull()][['GarageType', 'GarageYrBlt', 'GarageFinish', 'GarageQual','GarageCond']]"
   ]
  },
  {
   "cell_type": "markdown",
   "metadata": {},
   "source": [
    "We can see that in the training set, the 5 variables have missing values in the same indices so I can fill the values with 'NA'. In the test set we see that `GarageType` has 2 values that are not missing but the other variables have a missing value in these indices. \n",
    "\n",
    "Given that for these 2 garages, there is no more information, it means that either the garage wasn't verified or a mistake was made and these houses don't have garages. I will consider the latter and set these 2 values to 'NA'."
   ]
  },
  {
   "cell_type": "code",
   "execution_count": 32,
   "metadata": {},
   "outputs": [],
   "source": [
    "# Set values to 'NA'\n",
    "df_test.loc[666, 'GarageType'] = 'NA'\n",
    "df_test.loc[1116, 'GarageType'] = 'NA'"
   ]
  },
  {
   "cell_type": "markdown",
   "metadata": {},
   "source": [
    "**Basement variables**\n",
    "\n",
    "*Training set:*\n",
    "\n",
    "After working with these variables for a bit, I verified that 2 of them have only 1 missing value that is unique to them. As such, I will apply this approach:\n",
    "* Find the indices for these missing values\n",
    "* Group the data by the 5 variables and check the mode value for each combination of values\n",
    "* Fill these missing values with the corresponding mode value"
   ]
  },
  {
   "cell_type": "code",
   "execution_count": 33,
   "metadata": {},
   "outputs": [
    {
     "data": {
      "text/plain": [
       "{948}"
      ]
     },
     "execution_count": 33,
     "metadata": {},
     "output_type": "execute_result"
    }
   ],
   "source": [
    "# Get indices of houses that have a missing value in 'BsmtExposure'\n",
    "set(df_train[df_train['BsmtExposure'].isnull()].index) - set(df_train[df_train['BsmtCond'].isnull()].index)"
   ]
  },
  {
   "cell_type": "code",
   "execution_count": 34,
   "metadata": {},
   "outputs": [
    {
     "data": {
      "text/plain": [
       "{332}"
      ]
     },
     "execution_count": 34,
     "metadata": {},
     "output_type": "execute_result"
    }
   ],
   "source": [
    "# Get indices of houses that have a missing value in 'BsmtFinType2'\n",
    "set(df_train[df_train['BsmtFinType2'].isnull()].index) - set(df_train[df_train['BsmtCond'].isnull()].index)"
   ]
  },
  {
   "cell_type": "code",
   "execution_count": 35,
   "metadata": {
    "scrolled": true
   },
   "outputs": [
    {
     "data": {
      "text/html": [
       "<div>\n",
       "<style scoped>\n",
       "    .dataframe tbody tr th:only-of-type {\n",
       "        vertical-align: middle;\n",
       "    }\n",
       "\n",
       "    .dataframe tbody tr th {\n",
       "        vertical-align: top;\n",
       "    }\n",
       "\n",
       "    .dataframe thead th {\n",
       "        text-align: right;\n",
       "    }\n",
       "</style>\n",
       "<table border=\"1\" class=\"dataframe\">\n",
       "  <thead>\n",
       "    <tr style=\"text-align: right;\">\n",
       "      <th></th>\n",
       "      <th>BsmtQual</th>\n",
       "      <th>BsmtCond</th>\n",
       "      <th>BsmtExposure</th>\n",
       "      <th>BsmtFinType1</th>\n",
       "      <th>BsmtFinType2</th>\n",
       "    </tr>\n",
       "  </thead>\n",
       "  <tbody>\n",
       "    <tr>\n",
       "      <th>332</th>\n",
       "      <td>Gd</td>\n",
       "      <td>TA</td>\n",
       "      <td>No</td>\n",
       "      <td>GLQ</td>\n",
       "      <td>NaN</td>\n",
       "    </tr>\n",
       "    <tr>\n",
       "      <th>948</th>\n",
       "      <td>Gd</td>\n",
       "      <td>TA</td>\n",
       "      <td>NaN</td>\n",
       "      <td>Unf</td>\n",
       "      <td>Unf</td>\n",
       "    </tr>\n",
       "  </tbody>\n",
       "</table>\n",
       "</div>"
      ],
      "text/plain": [
       "    BsmtQual BsmtCond BsmtExposure BsmtFinType1 BsmtFinType2\n",
       "332       Gd       TA           No          GLQ          NaN\n",
       "948       Gd       TA          NaN          Unf          Unf"
      ]
     },
     "execution_count": 35,
     "metadata": {},
     "output_type": "execute_result"
    }
   ],
   "source": [
    "# Check these indices for the 5 variables\n",
    "df_train.loc[[332, 948], ['BsmtQual', 'BsmtCond', 'BsmtExposure', 'BsmtFinType1','BsmtFinType2']]"
   ]
  },
  {
   "cell_type": "code",
   "execution_count": 36,
   "metadata": {},
   "outputs": [
    {
     "data": {
      "text/plain": [
       "Unf    126\n",
       "LwQ      1\n",
       "Rec      1\n",
       "Name: BsmtFinType2, dtype: int64"
      ]
     },
     "execution_count": 36,
     "metadata": {},
     "output_type": "execute_result"
    }
   ],
   "source": [
    "# Check how many unique values we have in 'BsmtFinType2' for this combination of values\n",
    "df_train[(df_train['BsmtQual'] == 'Gd') & (df_train['BsmtCond'] == 'TA') & (df_train['BsmtExposure'] == 'No')\n",
    "        & (df_train['BsmtFinType1'] == 'GLQ')]['BsmtFinType2'].value_counts()"
   ]
  },
  {
   "cell_type": "code",
   "execution_count": 37,
   "metadata": {},
   "outputs": [
    {
     "data": {
      "text/plain": [
       "No    136\n",
       "Av     26\n",
       "Mn     10\n",
       "Gd      5\n",
       "Name: BsmtExposure, dtype: int64"
      ]
     },
     "execution_count": 37,
     "metadata": {},
     "output_type": "execute_result"
    }
   ],
   "source": [
    "# Check how many unique values we have in 'BsmtExposure' for this combination of values\n",
    "df_train[(df_train['BsmtQual'] == 'Gd') & (df_train['BsmtCond'] == 'TA') & (df_train['BsmtFinType1'] == 'Unf')\n",
    "        & (df_train['BsmtFinType2'] == 'Unf')]['BsmtExposure'].value_counts()"
   ]
  },
  {
   "cell_type": "markdown",
   "metadata": {},
   "source": [
    "I will fill these two missing values with the corresponding mode value."
   ]
  },
  {
   "cell_type": "code",
   "execution_count": 38,
   "metadata": {},
   "outputs": [],
   "source": [
    "df_train.loc[332, 'BsmtFinType2'] = 'Unf'\n",
    "df_train.loc[948, 'BsmtExposure'] = 'No'"
   ]
  },
  {
   "cell_type": "markdown",
   "metadata": {},
   "source": [
    "*Test set:*\n",
    "\n",
    "After working with these variables for a bit, I verified that 3 of them have some missing values that are unique to them. As such, I will apply this approach:\n",
    "* Find the indices for these missing values\n",
    "* Group the data by the 5 variables and check the mode value for each combination of values\n",
    "* Fill these missing values with the corresponding mode value"
   ]
  },
  {
   "cell_type": "code",
   "execution_count": 39,
   "metadata": {},
   "outputs": [
    {
     "data": {
      "text/plain": [
       "{580, 725, 1064}"
      ]
     },
     "execution_count": 39,
     "metadata": {},
     "output_type": "execute_result"
    }
   ],
   "source": [
    "# Get indices of houses that have a missing value in 'BsmtCond'\n",
    "set(df_test[df_test['BsmtCond'].isnull()].index) - set(df_test[df_test['BsmtQual'].isnull()].index)"
   ]
  },
  {
   "cell_type": "code",
   "execution_count": 40,
   "metadata": {},
   "outputs": [
    {
     "data": {
      "text/plain": [
       "{757, 758}"
      ]
     },
     "execution_count": 40,
     "metadata": {},
     "output_type": "execute_result"
    }
   ],
   "source": [
    "# Get indices of houses that have a missing value in 'BsmtQual'\n",
    "set(df_test[df_test['BsmtQual'].isnull()].index) - set(df_test[df_test['BsmtCond'].isnull()].index)"
   ]
  },
  {
   "cell_type": "code",
   "execution_count": 41,
   "metadata": {},
   "outputs": [
    {
     "data": {
      "text/plain": [
       "{27, 888}"
      ]
     },
     "execution_count": 41,
     "metadata": {},
     "output_type": "execute_result"
    }
   ],
   "source": [
    "set(df_test[df_test['BsmtExposure'].isnull()].index) - set(df_test[df_test['BsmtCond'].isnull()].index)"
   ]
  },
  {
   "cell_type": "code",
   "execution_count": 42,
   "metadata": {},
   "outputs": [
    {
     "data": {
      "text/html": [
       "<div>\n",
       "<style scoped>\n",
       "    .dataframe tbody tr th:only-of-type {\n",
       "        vertical-align: middle;\n",
       "    }\n",
       "\n",
       "    .dataframe tbody tr th {\n",
       "        vertical-align: top;\n",
       "    }\n",
       "\n",
       "    .dataframe thead th {\n",
       "        text-align: right;\n",
       "    }\n",
       "</style>\n",
       "<table border=\"1\" class=\"dataframe\">\n",
       "  <thead>\n",
       "    <tr style=\"text-align: right;\">\n",
       "      <th></th>\n",
       "      <th>BsmtQual</th>\n",
       "      <th>BsmtCond</th>\n",
       "      <th>BsmtExposure</th>\n",
       "      <th>BsmtFinType1</th>\n",
       "      <th>BsmtFinType2</th>\n",
       "    </tr>\n",
       "  </thead>\n",
       "  <tbody>\n",
       "    <tr>\n",
       "      <th>27</th>\n",
       "      <td>Gd</td>\n",
       "      <td>TA</td>\n",
       "      <td>NaN</td>\n",
       "      <td>Unf</td>\n",
       "      <td>Unf</td>\n",
       "    </tr>\n",
       "    <tr>\n",
       "      <th>580</th>\n",
       "      <td>Gd</td>\n",
       "      <td>NaN</td>\n",
       "      <td>Mn</td>\n",
       "      <td>GLQ</td>\n",
       "      <td>Rec</td>\n",
       "    </tr>\n",
       "    <tr>\n",
       "      <th>725</th>\n",
       "      <td>TA</td>\n",
       "      <td>NaN</td>\n",
       "      <td>No</td>\n",
       "      <td>BLQ</td>\n",
       "      <td>Unf</td>\n",
       "    </tr>\n",
       "    <tr>\n",
       "      <th>757</th>\n",
       "      <td>NaN</td>\n",
       "      <td>Fa</td>\n",
       "      <td>No</td>\n",
       "      <td>Unf</td>\n",
       "      <td>Unf</td>\n",
       "    </tr>\n",
       "    <tr>\n",
       "      <th>758</th>\n",
       "      <td>NaN</td>\n",
       "      <td>TA</td>\n",
       "      <td>No</td>\n",
       "      <td>Unf</td>\n",
       "      <td>Unf</td>\n",
       "    </tr>\n",
       "    <tr>\n",
       "      <th>888</th>\n",
       "      <td>Gd</td>\n",
       "      <td>TA</td>\n",
       "      <td>NaN</td>\n",
       "      <td>Unf</td>\n",
       "      <td>Unf</td>\n",
       "    </tr>\n",
       "    <tr>\n",
       "      <th>1064</th>\n",
       "      <td>TA</td>\n",
       "      <td>NaN</td>\n",
       "      <td>Av</td>\n",
       "      <td>ALQ</td>\n",
       "      <td>Unf</td>\n",
       "    </tr>\n",
       "  </tbody>\n",
       "</table>\n",
       "</div>"
      ],
      "text/plain": [
       "     BsmtQual BsmtCond BsmtExposure BsmtFinType1 BsmtFinType2\n",
       "27         Gd       TA          NaN          Unf          Unf\n",
       "580        Gd      NaN           Mn          GLQ          Rec\n",
       "725        TA      NaN           No          BLQ          Unf\n",
       "757       NaN       Fa           No          Unf          Unf\n",
       "758       NaN       TA           No          Unf          Unf\n",
       "888        Gd       TA          NaN          Unf          Unf\n",
       "1064       TA      NaN           Av          ALQ          Unf"
      ]
     },
     "execution_count": 42,
     "metadata": {},
     "output_type": "execute_result"
    }
   ],
   "source": [
    "# Check these indices for the 5 variables\n",
    "df_test.loc[[27, 580, 725, 757, 758, 888, 1064], ['BsmtQual', 'BsmtCond', 'BsmtExposure', 'BsmtFinType1','BsmtFinType2']]"
   ]
  },
  {
   "cell_type": "code",
   "execution_count": 43,
   "metadata": {},
   "outputs": [
    {
     "data": {
      "text/plain": [
       "TA    15\n",
       "Fa     8\n",
       "Gd     1\n",
       "Name: BsmtQual, dtype: int64"
      ]
     },
     "execution_count": 43,
     "metadata": {},
     "output_type": "execute_result"
    }
   ],
   "source": [
    "# Check how many unique values we have in 'BsmtQual' for this combination of values\n",
    "df_test[(df_test['BsmtCond'] == 'Fa') & (df_test['BsmtExposure'] == 'No') & (df_test['BsmtFinType1'] == 'Unf')\n",
    "        & (df_test['BsmtFinType2'] == 'Unf')]['BsmtQual'].value_counts()"
   ]
  },
  {
   "cell_type": "code",
   "execution_count": 44,
   "metadata": {},
   "outputs": [
    {
     "data": {
      "text/plain": [
       "TA    156\n",
       "Gd    119\n",
       "Fa     21\n",
       "Ex      9\n",
       "Name: BsmtQual, dtype: int64"
      ]
     },
     "execution_count": 44,
     "metadata": {},
     "output_type": "execute_result"
    }
   ],
   "source": [
    "# Check how many unique values we have in 'BsmtQual' for this combination of values\n",
    "df_test[(df_test['BsmtCond'] == 'TA') & (df_test['BsmtExposure'] == 'No') & (df_test['BsmtFinType1'] == 'Unf')\n",
    "        & (df_test['BsmtFinType2'] == 'Unf')]['BsmtQual'].value_counts()"
   ]
  },
  {
   "cell_type": "markdown",
   "metadata": {},
   "source": [
    "Given that the mode value for both combinations is 'TA', I will fill these two values of `BsmtQual` with 'TA'."
   ]
  },
  {
   "cell_type": "code",
   "execution_count": 45,
   "metadata": {},
   "outputs": [],
   "source": [
    "df_test.loc[[757, 758], 'BsmtQual'] = 'TA'"
   ]
  },
  {
   "cell_type": "markdown",
   "metadata": {},
   "source": [
    " Now I will move on to `BsmtCond`."
   ]
  },
  {
   "cell_type": "code",
   "execution_count": 46,
   "metadata": {},
   "outputs": [
    {
     "data": {
      "text/plain": [
       "TA    1\n",
       "Name: BsmtCond, dtype: int64"
      ]
     },
     "execution_count": 46,
     "metadata": {},
     "output_type": "execute_result"
    }
   ],
   "source": [
    "# Check how many unique values we have in 'BsmtCond' for this combination of values\n",
    "df_test[(df_test['BsmtQual'] == 'Gd') & (df_test['BsmtExposure'] == 'Mn') & (df_test['BsmtFinType1'] == 'GLQ')\n",
    "        & (df_test['BsmtFinType2'] == 'Rec')]['BsmtCond'].value_counts()"
   ]
  },
  {
   "cell_type": "code",
   "execution_count": 47,
   "metadata": {},
   "outputs": [
    {
     "data": {
      "text/plain": [
       "TA    53\n",
       "Fa     4\n",
       "Name: BsmtCond, dtype: int64"
      ]
     },
     "execution_count": 47,
     "metadata": {},
     "output_type": "execute_result"
    }
   ],
   "source": [
    "# Check how many unique values we have in 'BsmtCond' for this combination of values\n",
    "df_test[(df_test['BsmtQual'] == 'TA') & (df_test['BsmtExposure'] == 'No') & (df_test['BsmtFinType1'] == 'BLQ')\n",
    "        & (df_test['BsmtFinType2'] == 'Unf')]['BsmtCond'].value_counts()"
   ]
  },
  {
   "cell_type": "code",
   "execution_count": 48,
   "metadata": {},
   "outputs": [
    {
     "data": {
      "text/plain": [
       "TA    14\n",
       "Name: BsmtCond, dtype: int64"
      ]
     },
     "execution_count": 48,
     "metadata": {},
     "output_type": "execute_result"
    }
   ],
   "source": [
    "# Check how many unique values we have in 'BsmtCond' for this combination of values\n",
    "df_test[(df_test['BsmtQual'] == 'TA') & (df_test['BsmtExposure'] == 'Av') & (df_test['BsmtFinType1'] == 'ALQ')\n",
    "        & (df_test['BsmtFinType2'] == 'Unf')]['BsmtCond'].value_counts()"
   ]
  },
  {
   "cell_type": "markdown",
   "metadata": {},
   "source": [
    "Once again the mode value for the three combinations is 'TA'. As such, I will fill these three values of `BsmtCond` with 'TA'."
   ]
  },
  {
   "cell_type": "code",
   "execution_count": 49,
   "metadata": {},
   "outputs": [],
   "source": [
    "df_test.loc[[580, 725, 1064], 'BsmtCond'] = 'TA'"
   ]
  },
  {
   "cell_type": "markdown",
   "metadata": {},
   "source": [
    "Now I will move on to `BsmtExposure`."
   ]
  },
  {
   "cell_type": "code",
   "execution_count": 50,
   "metadata": {},
   "outputs": [
    {
     "data": {
      "text/plain": [
       "No    119\n",
       "Av     32\n",
       "Mn     12\n",
       "Gd      5\n",
       "Name: BsmtExposure, dtype: int64"
      ]
     },
     "execution_count": 50,
     "metadata": {},
     "output_type": "execute_result"
    }
   ],
   "source": [
    "# Check how many unique values we have in 'BsmtExposure' for this combination of values\n",
    "df_test[(df_test['BsmtQual'] == 'Gd') & (df_test['BsmtCond'] == 'TA') & (df_test['BsmtFinType1'] == 'Unf')\n",
    "        & (df_test['BsmtFinType2'] == 'Unf')]['BsmtExposure'].value_counts()"
   ]
  },
  {
   "cell_type": "markdown",
   "metadata": {},
   "source": [
    "The mode value here is 'No' and as such I will fill the 2 missing values in this variable with 'No'."
   ]
  },
  {
   "cell_type": "code",
   "execution_count": 51,
   "metadata": {},
   "outputs": [],
   "source": [
    "df_test.loc[[27, 888], 'BsmtExposure']  = 'No'"
   ]
  },
  {
   "cell_type": "markdown",
   "metadata": {},
   "source": [
    "**Fill missing values with 'NA'**\n",
    "\n",
    "After having properly filled some missing values, I can now fill the rest of missing values with 'NA'."
   ]
  },
  {
   "cell_type": "code",
   "execution_count": 52,
   "metadata": {},
   "outputs": [],
   "source": [
    "def fill_na_values(df):\n",
    "    df['Alley'].fillna('NA', inplace=True)\n",
    "    df['PoolQC'].fillna('NA', inplace=True)\n",
    "    df['Fence'].fillna('NA', inplace=True)\n",
    "    df['MiscFeature'].fillna('NA', inplace=True)\n",
    "    df['FireplaceQu'].fillna('NA', inplace=True)\n",
    "    df['GarageType'].fillna('NA', inplace=True)\n",
    "    df['GarageYrBlt'].fillna(0, inplace=True)\n",
    "    df['GarageFinish'].fillna('NA', inplace=True)\n",
    "    df['GarageQual'].fillna('NA', inplace=True)\n",
    "    df['GarageCond'].fillna('NA', inplace=True)\n",
    "    df['BsmtQual'].fillna('NA', inplace=True)\n",
    "    df['BsmtCond'].fillna('NA', inplace=True)\n",
    "    df['BsmtExposure'].fillna('NA', inplace=True)\n",
    "    df['BsmtFinType1'].fillna('NA', inplace=True)\n",
    "    df['BsmtFinType2'].fillna('NA', inplace=True)\n",
    "\n",
    "    return df\n",
    "\n",
    "df_train = fill_na_values(df_train)\n",
    "df_test = fill_na_values(df_test)"
   ]
  },
  {
   "cell_type": "markdown",
   "metadata": {},
   "source": [
    "#### 1.2.2 MasVnrType and MasVnrArea\n",
    "\n",
    "*Training set:*\n",
    "\n",
    "These variables have only 8 missing values each. I will check if they have missing values in the same indices and if so fill them with the corresponding mode value."
   ]
  },
  {
   "cell_type": "code",
   "execution_count": 53,
   "metadata": {},
   "outputs": [
    {
     "data": {
      "text/plain": [
       "set()"
      ]
     },
     "execution_count": 53,
     "metadata": {},
     "output_type": "execute_result"
    }
   ],
   "source": [
    "# Check if the variables have missing values in the same indices\n",
    "set(df_train[df_train['MasVnrType'].isnull()].index) - set(df_train[df_train['MasVnrArea'].isnull()].index)"
   ]
  },
  {
   "cell_type": "code",
   "execution_count": 54,
   "metadata": {},
   "outputs": [
    {
     "data": {
      "text/plain": [
       "None       864\n",
       "BrkFace    445\n",
       "Stone      126\n",
       "BrkCmn      15\n",
       "Name: MasVnrType, dtype: int64"
      ]
     },
     "execution_count": 54,
     "metadata": {},
     "output_type": "execute_result"
    }
   ],
   "source": [
    "# Check how many unique values we have in 'MasVnrType'\n",
    "df_train['MasVnrType'].value_counts()"
   ]
  },
  {
   "cell_type": "code",
   "execution_count": 55,
   "metadata": {
    "scrolled": true
   },
   "outputs": [
    {
     "data": {
      "text/plain": [
       "0.0       861\n",
       "72.0        8\n",
       "180.0       8\n",
       "108.0       8\n",
       "120.0       7\n",
       "16.0        7\n",
       "80.0        6\n",
       "200.0       6\n",
       "106.0       6\n",
       "340.0       6\n",
       "170.0       5\n",
       "132.0       5\n",
       "360.0       5\n",
       "84.0        5\n",
       "320.0       5\n",
       "100.0       4\n",
       "196.0       4\n",
       "246.0       4\n",
       "216.0       4\n",
       "160.0       4\n",
       "183.0       4\n",
       "178.0       4\n",
       "270.0       4\n",
       "300.0       4\n",
       "210.0       4\n",
       "268.0       4\n",
       "252.0       4\n",
       "168.0       4\n",
       "336.0       4\n",
       "220.0       4\n",
       "76.0        4\n",
       "288.0       4\n",
       "456.0       4\n",
       "40.0        4\n",
       "50.0        3\n",
       "130.0       3\n",
       "82.0        3\n",
       "208.0       3\n",
       "90.0        3\n",
       "70.0        3\n",
       "44.0        3\n",
       "420.0       3\n",
       "99.0        3\n",
       "110.0       3\n",
       "104.0       3\n",
       "85.0        3\n",
       "272.0       3\n",
       "226.0       3\n",
       "174.0       3\n",
       "240.0       3\n",
       "186.0       3\n",
       "169.0       3\n",
       "148.0       3\n",
       "350.0       3\n",
       "128.0       3\n",
       "176.0       3\n",
       "166.0       3\n",
       "116.0       3\n",
       "136.0       3\n",
       "312.0       3\n",
       "256.0       3\n",
       "145.0       3\n",
       "74.0        3\n",
       "42.0        3\n",
       "98.0        2\n",
       "66.0        2\n",
       "660.0       2\n",
       "243.0       2\n",
       "338.0       2\n",
       "143.0       2\n",
       "285.0       2\n",
       "289.0       2\n",
       "162.0       2\n",
       "172.0       2\n",
       "245.0       2\n",
       "101.0       2\n",
       "344.0       2\n",
       "112.0       2\n",
       "147.0       2\n",
       "284.0       2\n",
       "472.0       2\n",
       "215.0       2\n",
       "212.0       2\n",
       "18.0        2\n",
       "205.0       2\n",
       "362.0       2\n",
       "140.0       2\n",
       "304.0       2\n",
       "232.0       2\n",
       "94.0        2\n",
       "125.0       2\n",
       "192.0       2\n",
       "164.0       2\n",
       "68.0        2\n",
       "54.0        2\n",
       "184.0       2\n",
       "328.0       2\n",
       "1.0         2\n",
       "30.0        2\n",
       "135.0       2\n",
       "424.0       2\n",
       "60.0        2\n",
       "92.0        2\n",
       "236.0       2\n",
       "144.0       2\n",
       "113.0       2\n",
       "45.0        2\n",
       "281.0       2\n",
       "335.0       2\n",
       "306.0       2\n",
       "480.0       2\n",
       "260.0       2\n",
       "189.0       2\n",
       "105.0       2\n",
       "305.0       2\n",
       "650.0       2\n",
       "233.0       2\n",
       "117.0       2\n",
       "442.0       2\n",
       "425.0       2\n",
       "513.0       2\n",
       "171.0       2\n",
       "298.0       2\n",
       "302.0       2\n",
       "318.0       2\n",
       "351.0       2\n",
       "158.0       2\n",
       "250.0       2\n",
       "153.0       2\n",
       "182.0       2\n",
       "266.0       2\n",
       "423.0       2\n",
       "157.0       2\n",
       "95.0        2\n",
       "206.0       2\n",
       "203.0       2\n",
       "75.0        2\n",
       "238.0       2\n",
       "149.0       2\n",
       "387.0       1\n",
       "530.0       1\n",
       "870.0       1\n",
       "248.0       1\n",
       "432.0       1\n",
       "579.0       1\n",
       "376.0       1\n",
       "224.0       1\n",
       "333.0       1\n",
       "126.0       1\n",
       "766.0       1\n",
       "399.0       1\n",
       "361.0       1\n",
       "571.0       1\n",
       "1170.0      1\n",
       "188.0       1\n",
       "396.0       1\n",
       "67.0        1\n",
       "234.0       1\n",
       "11.0        1\n",
       "38.0        1\n",
       "81.0        1\n",
       "218.0       1\n",
       "428.0       1\n",
       "65.0        1\n",
       "41.0        1\n",
       "57.0        1\n",
       "464.0       1\n",
       "528.0       1\n",
       "123.0       1\n",
       "194.0       1\n",
       "119.0       1\n",
       "156.0       1\n",
       "204.0       1\n",
       "280.0       1\n",
       "1031.0      1\n",
       "1115.0      1\n",
       "673.0       1\n",
       "31.0        1\n",
       "491.0       1\n",
       "705.0       1\n",
       "768.0       1\n",
       "28.0        1\n",
       "48.0        1\n",
       "788.0       1\n",
       "294.0       1\n",
       "22.0        1\n",
       "564.0       1\n",
       "576.0       1\n",
       "438.0       1\n",
       "287.0       1\n",
       "1378.0      1\n",
       "603.0       1\n",
       "922.0       1\n",
       "315.0       1\n",
       "473.0       1\n",
       "640.0       1\n",
       "263.0       1\n",
       "261.0       1\n",
       "630.0       1\n",
       "337.0       1\n",
       "137.0       1\n",
       "151.0       1\n",
       "223.0       1\n",
       "258.0       1\n",
       "296.0       1\n",
       "56.0        1\n",
       "1600.0      1\n",
       "34.0        1\n",
       "324.0       1\n",
       "46.0        1\n",
       "748.0       1\n",
       "459.0       1\n",
       "506.0       1\n",
       "102.0       1\n",
       "36.0        1\n",
       "64.0        1\n",
       "370.0       1\n",
       "175.0       1\n",
       "295.0       1\n",
       "255.0       1\n",
       "772.0       1\n",
       "207.0       1\n",
       "860.0       1\n",
       "816.0       1\n",
       "142.0       1\n",
       "122.0       1\n",
       "443.0       1\n",
       "1047.0      1\n",
       "975.0       1\n",
       "391.0       1\n",
       "451.0       1\n",
       "554.0       1\n",
       "894.0       1\n",
       "584.0       1\n",
       "435.0       1\n",
       "479.0       1\n",
       "297.0       1\n",
       "653.0       1\n",
       "27.0        1\n",
       "237.0       1\n",
       "310.0       1\n",
       "165.0       1\n",
       "366.0       1\n",
       "450.0       1\n",
       "163.0       1\n",
       "567.0       1\n",
       "292.0       1\n",
       "342.0       1\n",
       "466.0       1\n",
       "573.0       1\n",
       "89.0        1\n",
       "286.0       1\n",
       "380.0       1\n",
       "138.0       1\n",
       "254.0       1\n",
       "274.0       1\n",
       "348.0       1\n",
       "664.0       1\n",
       "436.0       1\n",
       "359.0       1\n",
       "410.0       1\n",
       "510.0       1\n",
       "600.0       1\n",
       "150.0       1\n",
       "388.0       1\n",
       "468.0       1\n",
       "381.0       1\n",
       "426.0       1\n",
       "262.0       1\n",
       "412.0       1\n",
       "146.0       1\n",
       "616.0       1\n",
       "500.0       1\n",
       "481.0       1\n",
       "97.0        1\n",
       "209.0       1\n",
       "452.0       1\n",
       "275.0       1\n",
       "921.0       1\n",
       "96.0        1\n",
       "448.0       1\n",
       "244.0       1\n",
       "408.0       1\n",
       "368.0       1\n",
       "88.0        1\n",
       "228.0       1\n",
       "86.0        1\n",
       "632.0       1\n",
       "114.0       1\n",
       "32.0        1\n",
       "63.0        1\n",
       "51.0        1\n",
       "760.0       1\n",
       "154.0       1\n",
       "14.0        1\n",
       "53.0        1\n",
       "24.0        1\n",
       "127.0       1\n",
       "230.0       1\n",
       "541.0       1\n",
       "365.0       1\n",
       "378.0       1\n",
       "115.0       1\n",
       "219.0       1\n",
       "161.0       1\n",
       "247.0       1\n",
       "109.0       1\n",
       "278.0       1\n",
       "375.0       1\n",
       "225.0       1\n",
       "604.0       1\n",
       "594.0       1\n",
       "290.0       1\n",
       "299.0       1\n",
       "202.0       1\n",
       "731.0       1\n",
       "167.0       1\n",
       "309.0       1\n",
       "1129.0      1\n",
       "651.0       1\n",
       "415.0       1\n",
       "293.0       1\n",
       "259.0       1\n",
       "562.0       1\n",
       "621.0       1\n",
       "Name: MasVnrArea, dtype: int64"
      ]
     },
     "execution_count": 55,
     "metadata": {},
     "output_type": "execute_result"
    }
   ],
   "source": [
    "# Check how many unique values we have in 'MasVnrArea'\n",
    "df_train['MasVnrArea'].value_counts()"
   ]
  },
  {
   "cell_type": "code",
   "execution_count": 56,
   "metadata": {},
   "outputs": [],
   "source": [
    "# Fill missing values with mode value of each variable\n",
    "df_train['MasVnrType'].fillna('None', inplace=True)\n",
    "df_train['MasVnrArea'].fillna(0.0, inplace=True)"
   ]
  },
  {
   "cell_type": "markdown",
   "metadata": {},
   "source": [
    "Test set:\n",
    "\n",
    "`MasVnrType` has one more missing value than `MasVnrArea`. I will check this missing value and fill it first with the appropriate value. After I will fill the remaining missing values with the corresponding mode value."
   ]
  },
  {
   "cell_type": "code",
   "execution_count": 57,
   "metadata": {},
   "outputs": [
    {
     "data": {
      "text/plain": [
       "{1150}"
      ]
     },
     "execution_count": 57,
     "metadata": {},
     "output_type": "execute_result"
    }
   ],
   "source": [
    "# Check if the variables have missing values in the same indices\n",
    "set(df_test[df_test['MasVnrType'].isnull()].index) - set(df_test[df_test['MasVnrArea'].isnull()].index)"
   ]
  },
  {
   "cell_type": "markdown",
   "metadata": {},
   "source": [
    "After checking the data dictionary, I think that `Exterior1st` and `Exterior2nd` are related to these variables since they refer to the material used for the covering of the house. Using these 2 variables, I will check how many unique values we have for `MasVnrType`."
   ]
  },
  {
   "cell_type": "code",
   "execution_count": 58,
   "metadata": {},
   "outputs": [
    {
     "data": {
      "text/plain": [
       "Exterior1st    Plywood\n",
       "Exterior2nd    Plywood\n",
       "MasVnrArea         198\n",
       "MasVnrType         NaN\n",
       "Name: 1150, dtype: object"
      ]
     },
     "execution_count": 58,
     "metadata": {},
     "output_type": "execute_result"
    }
   ],
   "source": [
    "# Check house with missing value that only exists in 'MasVnrType'\n",
    "df_test.loc[1150, ['Exterior1st', 'Exterior2nd', 'MasVnrArea', 'MasVnrType']]"
   ]
  },
  {
   "cell_type": "code",
   "execution_count": 59,
   "metadata": {},
   "outputs": [
    {
     "data": {
      "text/plain": [
       "None       51\n",
       "BrkFace    30\n",
       "Stone       6\n",
       "BrkCmn      2\n",
       "Name: MasVnrType, dtype: int64"
      ]
     },
     "execution_count": 59,
     "metadata": {},
     "output_type": "execute_result"
    }
   ],
   "source": [
    "# Check how many unique values we have using the variables' values of the house in question\n",
    "df_test[(df_test['Exterior1st'] == 'Plywood') & (df_test['Exterior2nd'] == 'Plywood')]['MasVnrType'].value_counts()"
   ]
  },
  {
   "cell_type": "markdown",
   "metadata": {},
   "source": [
    "Since we have a value above 0 for `MasVnrArea`, which refers to the area , it makes sense to fill the missing value with 'BrkFace' which is the second most ocurring value following 'None'."
   ]
  },
  {
   "cell_type": "code",
   "execution_count": 60,
   "metadata": {},
   "outputs": [],
   "source": [
    "# Fill missing value\n",
    "df_test.loc[1150, 'MasVnrType'] = 'BrkFace'"
   ]
  },
  {
   "cell_type": "markdown",
   "metadata": {},
   "source": [
    "Now I can fill the remaining missing values with the mode values of the two variables."
   ]
  },
  {
   "cell_type": "code",
   "execution_count": 61,
   "metadata": {},
   "outputs": [
    {
     "data": {
      "text/plain": [
       "None       878\n",
       "BrkFace    435\n",
       "Stone      121\n",
       "BrkCmn      10\n",
       "Name: MasVnrType, dtype: int64"
      ]
     },
     "execution_count": 61,
     "metadata": {},
     "output_type": "execute_result"
    }
   ],
   "source": [
    "# Check how many unique values we have in 'MasVnrType'\n",
    "df_test['MasVnrType'].value_counts()"
   ]
  },
  {
   "cell_type": "code",
   "execution_count": 62,
   "metadata": {},
   "outputs": [
    {
     "data": {
      "text/plain": [
       "0.0       877\n",
       "176.0      10\n",
       "144.0       9\n",
       "120.0       8\n",
       "216.0       8\n",
       "200.0       7\n",
       "128.0       6\n",
       "504.0       6\n",
       "302.0       6\n",
       "198.0       6\n",
       "196.0       5\n",
       "140.0       5\n",
       "203.0       5\n",
       "260.0       5\n",
       "210.0       5\n",
       "60.0        5\n",
       "256.0       5\n",
       "164.0       5\n",
       "23.0        4\n",
       "16.0        4\n",
       "112.0       4\n",
       "178.0       4\n",
       "40.0        4\n",
       "194.0       4\n",
       "174.0       4\n",
       "420.0       4\n",
       "143.0       4\n",
       "306.0       4\n",
       "50.0        4\n",
       "186.0       4\n",
       "150.0       4\n",
       "340.0       4\n",
       "242.0       4\n",
       "88.0        4\n",
       "20.0        4\n",
       "240.0       4\n",
       "180.0       4\n",
       "232.0       4\n",
       "44.0        4\n",
       "190.0       3\n",
       "172.0       3\n",
       "300.0       3\n",
       "108.0       3\n",
       "76.0        3\n",
       "68.0        3\n",
       "72.0        3\n",
       "52.0        3\n",
       "248.0       3\n",
       "145.0       3\n",
       "126.0       3\n",
       "456.0       3\n",
       "90.0        3\n",
       "182.0       3\n",
       "162.0       3\n",
       "32.0        3\n",
       "513.0       3\n",
       "130.0       3\n",
       "80.0        3\n",
       "96.0        3\n",
       "264.0       3\n",
       "270.0       3\n",
       "132.0       3\n",
       "280.0       3\n",
       "252.0       3\n",
       "170.0       3\n",
       "98.0        3\n",
       "14.0        3\n",
       "450.0       3\n",
       "206.0       3\n",
       "246.0       2\n",
       "84.0        2\n",
       "218.0       2\n",
       "525.0       2\n",
       "58.0        2\n",
       "364.0       2\n",
       "430.0       2\n",
       "161.0       2\n",
       "212.0       2\n",
       "1224.0      2\n",
       "115.0       2\n",
       "238.0       2\n",
       "360.0       2\n",
       "383.0       2\n",
       "122.0       2\n",
       "192.0       2\n",
       "402.0       2\n",
       "134.0       2\n",
       "227.0       2\n",
       "674.0       2\n",
       "356.0       2\n",
       "473.0       2\n",
       "123.0       2\n",
       "480.0       2\n",
       "288.0       2\n",
       "295.0       2\n",
       "265.0       2\n",
       "275.0       2\n",
       "136.0       2\n",
       "156.0       2\n",
       "320.0       2\n",
       "554.0       2\n",
       "165.0       2\n",
       "86.0        2\n",
       "310.0       2\n",
       "188.0       2\n",
       "82.0        2\n",
       "149.0       2\n",
       "51.0        2\n",
       "54.0        2\n",
       "148.0       2\n",
       "568.0       2\n",
       "492.0       2\n",
       "250.0       2\n",
       "272.0       2\n",
       "30.0        2\n",
       "466.0       2\n",
       "600.0       2\n",
       "422.0       2\n",
       "290.0       2\n",
       "94.0        2\n",
       "41.0        2\n",
       "352.0       2\n",
       "204.0       1\n",
       "158.0       1\n",
       "526.0       1\n",
       "28.0        1\n",
       "1.0         1\n",
       "289.0       1\n",
       "509.0       1\n",
       "283.0       1\n",
       "1050.0      1\n",
       "323.0       1\n",
       "62.0        1\n",
       "65.0        1\n",
       "104.0       1\n",
       "244.0       1\n",
       "632.0       1\n",
       "118.0       1\n",
       "18.0        1\n",
       "236.0       1\n",
       "397.0       1\n",
       "184.0       1\n",
       "327.0       1\n",
       "380.0       1\n",
       "304.0       1\n",
       "53.0        1\n",
       "74.0        1\n",
       "114.0       1\n",
       "432.0       1\n",
       "91.0        1\n",
       "47.0        1\n",
       "440.0       1\n",
       "45.0        1\n",
       "472.0       1\n",
       "372.0       1\n",
       "121.0       1\n",
       "160.0       1\n",
       "70.0        1\n",
       "3.0         1\n",
       "124.0       1\n",
       "100.0       1\n",
       "296.0       1\n",
       "56.0        1\n",
       "102.0       1\n",
       "168.0       1\n",
       "468.0       1\n",
       "368.0       1\n",
       "106.0       1\n",
       "24.0        1\n",
       "38.0        1\n",
       "355.0       1\n",
       "39.0        1\n",
       "228.0       1\n",
       "67.0        1\n",
       "400.0       1\n",
       "22.0        1\n",
       "36.0        1\n",
       "305.0       1\n",
       "1159.0      1\n",
       "1110.0      1\n",
       "423.0       1\n",
       "163.0       1\n",
       "724.0       1\n",
       "291.0       1\n",
       "470.0       1\n",
       "877.0       1\n",
       "157.0       1\n",
       "726.0       1\n",
       "1095.0      1\n",
       "945.0       1\n",
       "771.0       1\n",
       "522.0       1\n",
       "550.0       1\n",
       "514.0       1\n",
       "365.0       1\n",
       "506.0       1\n",
       "754.0       1\n",
       "657.0       1\n",
       "285.0       1\n",
       "99.0        1\n",
       "332.0       1\n",
       "142.0       1\n",
       "230.0       1\n",
       "166.0       1\n",
       "254.0       1\n",
       "214.0       1\n",
       "113.0       1\n",
       "89.0        1\n",
       "234.0       1\n",
       "385.0       1\n",
       "217.0       1\n",
       "379.0       1\n",
       "209.0       1\n",
       "647.0       1\n",
       "405.0       1\n",
       "738.0       1\n",
       "902.0       1\n",
       "309.0       1\n",
       "279.0       1\n",
       "353.0       1\n",
       "259.0       1\n",
       "730.0       1\n",
       "515.0       1\n",
       "519.0       1\n",
       "1290.0      1\n",
       "532.0       1\n",
       "382.0       1\n",
       "322.0       1\n",
       "278.0       1\n",
       "189.0       1\n",
       "652.0       1\n",
       "298.0       1\n",
       "235.0       1\n",
       "253.0       1\n",
       "510.0       1\n",
       "258.0       1\n",
       "251.0       1\n",
       "410.0       1\n",
       "179.0       1\n",
       "221.0       1\n",
       "69.0        1\n",
       "87.0        1\n",
       "202.0       1\n",
       "501.0       1\n",
       "710.0       1\n",
       "714.0       1\n",
       "359.0       1\n",
       "567.0       1\n",
       "371.0       1\n",
       "621.0       1\n",
       "692.0       1\n",
       "199.0       1\n",
       "434.0       1\n",
       "215.0       1\n",
       "342.0       1\n",
       "378.0       1\n",
       "502.0       1\n",
       "197.0       1\n",
       "668.0       1\n",
       "205.0       1\n",
       "187.0       1\n",
       "406.0       1\n",
       "261.0       1\n",
       "294.0       1\n",
       "662.0       1\n",
       "141.0       1\n",
       "970.0       1\n",
       "135.0       1\n",
       "495.0       1\n",
       "229.0       1\n",
       "425.0       1\n",
       "734.0       1\n",
       "518.0       1\n",
       "146.0       1\n",
       "257.0       1\n",
       "138.0       1\n",
       "222.0       1\n",
       "276.0       1\n",
       "125.0       1\n",
       "95.0        1\n",
       "292.0       1\n",
       "680.0       1\n",
       "119.0       1\n",
       "153.0       1\n",
       "572.0       1\n",
       "444.0       1\n",
       "394.0       1\n",
       "500.0       1\n",
       "308.0       1\n",
       "284.0       1\n",
       "101.0       1\n",
       "85.0        1\n",
       "366.0       1\n",
       "286.0       1\n",
       "886.0       1\n",
       "268.0       1\n",
       "418.0       1\n",
       "226.0       1\n",
       "634.0       1\n",
       "177.0       1\n",
       "615.0       1\n",
       "549.0       1\n",
       "442.0       1\n",
       "Name: MasVnrArea, dtype: int64"
      ]
     },
     "execution_count": 62,
     "metadata": {},
     "output_type": "execute_result"
    }
   ],
   "source": [
    "# Check how many unique values we have in 'MasVnrArea'\n",
    "df_test['MasVnrArea'].value_counts()"
   ]
  },
  {
   "cell_type": "code",
   "execution_count": 63,
   "metadata": {},
   "outputs": [],
   "source": [
    "# Fill missing values with mode value of each variable\n",
    "df_test['MasVnrType'].fillna('None', inplace=True)\n",
    "df_test['MasVnrArea'].fillna(0.0, inplace=True)"
   ]
  },
  {
   "cell_type": "markdown",
   "metadata": {},
   "source": [
    "#### 1.2.3 Electrical\n",
    "\n",
    "For this variable we only have 1 missing value in the training set. As such, I will fill it with the mode value."
   ]
  },
  {
   "cell_type": "code",
   "execution_count": 64,
   "metadata": {},
   "outputs": [
    {
     "data": {
      "text/plain": [
       "SBrkr    1332\n",
       "FuseA      94\n",
       "FuseF      27\n",
       "FuseP       3\n",
       "Mix         1\n",
       "Name: Electrical, dtype: int64"
      ]
     },
     "execution_count": 64,
     "metadata": {},
     "output_type": "execute_result"
    }
   ],
   "source": [
    "# Check how many unique values we have\n",
    "df_train['Electrical'].value_counts()"
   ]
  },
  {
   "cell_type": "code",
   "execution_count": 65,
   "metadata": {},
   "outputs": [],
   "source": [
    "# Fill missing value\n",
    "df_train['Electrical'].fillna('SBrkr', inplace=True)"
   ]
  },
  {
   "cell_type": "markdown",
   "metadata": {},
   "source": [
    "#### 1.2.4 Lot Frontage\n",
    "\n",
    "Filling the missing values in this variable using the median value for the variable or other descriptive statistic measures doesn't make much sense. As such, after doing some research, I found that grouping the houses by the `Neighborhood` variable and filling the missing values with the median of the neighborhood's `Lot Frontage` is a reasonable idea, since the area of each street connected to the house property most likely have a similar area to other houses in its neighborhood."
   ]
  },
  {
   "cell_type": "code",
   "execution_count": 66,
   "metadata": {},
   "outputs": [],
   "source": [
    "# Fill missing values\n",
    "df_train['LotFrontage'] = df_train.groupby(['Neighborhood'])['LotFrontage'].transform(lambda x: x.fillna(x.median()))\n",
    "df_test['LotFrontage'] = df_test.groupby(['Neighborhood'])['LotFrontage'].transform(lambda x: x.fillna(x.median()))"
   ]
  },
  {
   "cell_type": "markdown",
   "metadata": {},
   "source": [
    "Now all that is left is to fill the missing values that remain in the test set. All these variables have only 1 or 2 missing values so I will fill them all the same way, which is by using the mode value.\n",
    "\n",
    "#### 1.2.5 Remaining missing values in test set\n",
    "\n",
    "The remaining variables with missing values are:\n",
    "\n",
    "* GarageCars\n",
    "* GarageArea\n",
    "* SaleType\n",
    "* Functional\n",
    "* KitchenQual\n",
    "* BsmtFullBath\n",
    "* BsmtHalfBath\n",
    "* BsmtFinSF1\n",
    "* BsmtFinSF2\n",
    "* BsmtUnfSF\n",
    "* TotalBsmtSF\n",
    "* Exterior1st\n",
    "* Exterior2nd\n",
    "* MSZoning           \n",
    "* Utilities\n",
    "\n",
    "**GarageCars and GarageArea**"
   ]
  },
  {
   "cell_type": "code",
   "execution_count": 67,
   "metadata": {},
   "outputs": [
    {
     "data": {
      "text/html": [
       "<div>\n",
       "<style scoped>\n",
       "    .dataframe tbody tr th:only-of-type {\n",
       "        vertical-align: middle;\n",
       "    }\n",
       "\n",
       "    .dataframe tbody tr th {\n",
       "        vertical-align: top;\n",
       "    }\n",
       "\n",
       "    .dataframe thead th {\n",
       "        text-align: right;\n",
       "    }\n",
       "</style>\n",
       "<table border=\"1\" class=\"dataframe\">\n",
       "  <thead>\n",
       "    <tr style=\"text-align: right;\">\n",
       "      <th></th>\n",
       "      <th>GarageType</th>\n",
       "      <th>GarageYrBlt</th>\n",
       "      <th>GarageFinish</th>\n",
       "      <th>GarageQual</th>\n",
       "      <th>GarageCond</th>\n",
       "      <th>GarageArea</th>\n",
       "      <th>GarageCars</th>\n",
       "    </tr>\n",
       "  </thead>\n",
       "  <tbody>\n",
       "    <tr>\n",
       "      <th>1116</th>\n",
       "      <td>NA</td>\n",
       "      <td>0.0</td>\n",
       "      <td>NA</td>\n",
       "      <td>NA</td>\n",
       "      <td>NA</td>\n",
       "      <td>NaN</td>\n",
       "      <td>NaN</td>\n",
       "    </tr>\n",
       "  </tbody>\n",
       "</table>\n",
       "</div>"
      ],
      "text/plain": [
       "     GarageType  GarageYrBlt GarageFinish GarageQual GarageCond  GarageArea  \\\n",
       "1116         NA          0.0           NA         NA         NA         NaN   \n",
       "\n",
       "      GarageCars  \n",
       "1116         NaN  "
      ]
     },
     "execution_count": 67,
     "metadata": {},
     "output_type": "execute_result"
    }
   ],
   "source": [
    "# Check what values the other Garage related variables have in the example with missing values\n",
    "df_test[df_test['GarageArea'].isnull()][['GarageType', 'GarageYrBlt', 'GarageFinish', 'GarageQual',\n",
    "                                         'GarageCond', 'GarageArea', 'GarageCars']]"
   ]
  },
  {
   "cell_type": "markdown",
   "metadata": {},
   "source": [
    "Given that the other garage related variables have all 'NA', I will fill the missing values with the value 0.0."
   ]
  },
  {
   "cell_type": "code",
   "execution_count": 68,
   "metadata": {},
   "outputs": [],
   "source": [
    "# Fill missing values\n",
    "df_test['GarageCars'].fillna(0.0, inplace=True)\n",
    "df_test['GarageArea'].fillna(0.0, inplace=True)"
   ]
  },
  {
   "cell_type": "markdown",
   "metadata": {},
   "source": [
    "**BsmtFinSF1, BsmtFinSF2, BsmtUnfSF, TotalBsmtSF, BsmtFullBath and BsmtHalfBath**\n",
    "\n",
    "These variables are related to each other and so I will check them together."
   ]
  },
  {
   "cell_type": "code",
   "execution_count": 69,
   "metadata": {},
   "outputs": [
    {
     "data": {
      "text/html": [
       "<div>\n",
       "<style scoped>\n",
       "    .dataframe tbody tr th:only-of-type {\n",
       "        vertical-align: middle;\n",
       "    }\n",
       "\n",
       "    .dataframe tbody tr th {\n",
       "        vertical-align: top;\n",
       "    }\n",
       "\n",
       "    .dataframe thead th {\n",
       "        text-align: right;\n",
       "    }\n",
       "</style>\n",
       "<table border=\"1\" class=\"dataframe\">\n",
       "  <thead>\n",
       "    <tr style=\"text-align: right;\">\n",
       "      <th></th>\n",
       "      <th>BsmtQual</th>\n",
       "      <th>BsmtCond</th>\n",
       "      <th>BsmtExposure</th>\n",
       "      <th>BsmtFinType1</th>\n",
       "      <th>BsmtFinSF1</th>\n",
       "      <th>BsmtFinType2</th>\n",
       "      <th>BsmtFinSF2</th>\n",
       "      <th>BsmtUnfSF</th>\n",
       "      <th>TotalBsmtSF</th>\n",
       "      <th>BsmtFullBath</th>\n",
       "      <th>BsmtHalfBath</th>\n",
       "    </tr>\n",
       "  </thead>\n",
       "  <tbody>\n",
       "    <tr>\n",
       "      <th>660</th>\n",
       "      <td>NA</td>\n",
       "      <td>NA</td>\n",
       "      <td>NA</td>\n",
       "      <td>NA</td>\n",
       "      <td>NaN</td>\n",
       "      <td>NA</td>\n",
       "      <td>NaN</td>\n",
       "      <td>NaN</td>\n",
       "      <td>NaN</td>\n",
       "      <td>NaN</td>\n",
       "      <td>NaN</td>\n",
       "    </tr>\n",
       "    <tr>\n",
       "      <th>728</th>\n",
       "      <td>NA</td>\n",
       "      <td>NA</td>\n",
       "      <td>NA</td>\n",
       "      <td>NA</td>\n",
       "      <td>0.0</td>\n",
       "      <td>NA</td>\n",
       "      <td>0.0</td>\n",
       "      <td>0.0</td>\n",
       "      <td>0.0</td>\n",
       "      <td>NaN</td>\n",
       "      <td>NaN</td>\n",
       "    </tr>\n",
       "  </tbody>\n",
       "</table>\n",
       "</div>"
      ],
      "text/plain": [
       "    BsmtQual BsmtCond BsmtExposure BsmtFinType1  BsmtFinSF1 BsmtFinType2  \\\n",
       "660       NA       NA           NA           NA         NaN           NA   \n",
       "728       NA       NA           NA           NA         0.0           NA   \n",
       "\n",
       "     BsmtFinSF2  BsmtUnfSF  TotalBsmtSF  BsmtFullBath  BsmtHalfBath  \n",
       "660         NaN        NaN          NaN           NaN           NaN  \n",
       "728         0.0        0.0          0.0           NaN           NaN  "
      ]
     },
     "execution_count": 69,
     "metadata": {},
     "output_type": "execute_result"
    }
   ],
   "source": [
    "df_test[df_test['BsmtHalfBath'].isnull()][['BsmtQual', 'BsmtCond', 'BsmtExposure', 'BsmtFinType1', \n",
    "                                           'BsmtFinSF1', 'BsmtFinType2', 'BsmtFinSF2', 'BsmtUnfSF', \n",
    "                                           'TotalBsmtSF', 'BsmtFullBath', 'BsmtHalfBath']]"
   ]
  },
  {
   "cell_type": "markdown",
   "metadata": {},
   "source": [
    "As we can see other basement related variables have 'NA' as their value and so I will fill the missing value in these 3 variables with 0.0."
   ]
  },
  {
   "cell_type": "code",
   "execution_count": 70,
   "metadata": {},
   "outputs": [],
   "source": [
    "# Fill missing values\n",
    "df_test['BsmtFinSF1'].fillna(0.0, inplace=True)\n",
    "df_test['BsmtFinSF2'].fillna(0.0, inplace=True)\n",
    "df_test['BsmtUnfSF'].fillna(0.0, inplace=True)\n",
    "df_test['TotalBsmtSF'].fillna(0.0, inplace=True)\n",
    "df_test['BsmtFullBath'].fillna(0.0, inplace=True)\n",
    "df_test['BsmtHalfBath'].fillna(0.0, inplace=True)"
   ]
  },
  {
   "cell_type": "markdown",
   "metadata": {},
   "source": [
    "**MSZoning**\n",
    "\n",
    "I will fill the missing values in this variable with the mode value of `MSZoning` by the different categories in `MSSubClass`. This is because the type of house is likely linked to the general zoning classification."
   ]
  },
  {
   "cell_type": "code",
   "execution_count": 71,
   "metadata": {},
   "outputs": [],
   "source": [
    "df_test['MSZoning'] = df_test.groupby(['MSSubClass'])['MSZoning'].transform(lambda x: x.fillna(x.mode()[0]))"
   ]
  },
  {
   "cell_type": "markdown",
   "metadata": {},
   "source": [
    "**Remaining variables**\n",
    "\n",
    "I will fill these variables with the mode value."
   ]
  },
  {
   "cell_type": "code",
   "execution_count": 72,
   "metadata": {},
   "outputs": [],
   "source": [
    "# Fill missing values\n",
    "df_test['SaleType'].fillna(df_test['SaleType'].mode()[0], inplace=True)\n",
    "df_test['Functional'].fillna(df_test['Functional'].mode()[0], inplace=True)\n",
    "df_test['KitchenQual'].fillna(df_test['KitchenQual'].mode()[0], inplace=True)\n",
    "df_test['Exterior1st'].fillna(df_test['Exterior1st'].mode()[0], inplace=True)\n",
    "df_test['Exterior2nd'].fillna(df_test['Exterior2nd'].mode()[0], inplace=True)\n",
    "df_test['Utilities'].fillna(df_test['Utilities'].mode()[0], inplace=True)"
   ]
  },
  {
   "cell_type": "code",
   "execution_count": 73,
   "metadata": {
    "scrolled": true
   },
   "outputs": [
    {
     "data": {
      "text/plain": [
       "Id               0\n",
       "MSSubClass       0\n",
       "MSZoning         0\n",
       "LotFrontage      0\n",
       "LotArea          0\n",
       "Street           0\n",
       "Alley            0\n",
       "LotShape         0\n",
       "LandContour      0\n",
       "Utilities        0\n",
       "LotConfig        0\n",
       "LandSlope        0\n",
       "Neighborhood     0\n",
       "Condition1       0\n",
       "Condition2       0\n",
       "BldgType         0\n",
       "HouseStyle       0\n",
       "OverallQual      0\n",
       "OverallCond      0\n",
       "YearBuilt        0\n",
       "YearRemodAdd     0\n",
       "RoofStyle        0\n",
       "RoofMatl         0\n",
       "Exterior1st      0\n",
       "Exterior2nd      0\n",
       "MasVnrType       0\n",
       "MasVnrArea       0\n",
       "ExterQual        0\n",
       "ExterCond        0\n",
       "Foundation       0\n",
       "BsmtQual         0\n",
       "BsmtCond         0\n",
       "BsmtExposure     0\n",
       "BsmtFinType1     0\n",
       "BsmtFinSF1       0\n",
       "BsmtFinType2     0\n",
       "BsmtFinSF2       0\n",
       "BsmtUnfSF        0\n",
       "TotalBsmtSF      0\n",
       "Heating          0\n",
       "HeatingQC        0\n",
       "CentralAir       0\n",
       "Electrical       0\n",
       "1stFlrSF         0\n",
       "2ndFlrSF         0\n",
       "LowQualFinSF     0\n",
       "GrLivArea        0\n",
       "BsmtFullBath     0\n",
       "BsmtHalfBath     0\n",
       "FullBath         0\n",
       "HalfBath         0\n",
       "BedroomAbvGr     0\n",
       "KitchenAbvGr     0\n",
       "KitchenQual      0\n",
       "TotRmsAbvGrd     0\n",
       "Functional       0\n",
       "Fireplaces       0\n",
       "FireplaceQu      0\n",
       "GarageType       0\n",
       "GarageYrBlt      0\n",
       "GarageFinish     0\n",
       "GarageCars       0\n",
       "GarageArea       0\n",
       "GarageQual       0\n",
       "GarageCond       0\n",
       "PavedDrive       0\n",
       "WoodDeckSF       0\n",
       "OpenPorchSF      0\n",
       "EnclosedPorch    0\n",
       "3SsnPorch        0\n",
       "ScreenPorch      0\n",
       "PoolArea         0\n",
       "PoolQC           0\n",
       "Fence            0\n",
       "MiscFeature      0\n",
       "MiscVal          0\n",
       "MoSold           0\n",
       "YrSold           0\n",
       "SaleType         0\n",
       "SaleCondition    0\n",
       "SalePrice        0\n",
       "dtype: int64"
      ]
     },
     "execution_count": 73,
     "metadata": {},
     "output_type": "execute_result"
    }
   ],
   "source": [
    "# Check if there are any missing values left in training set\n",
    "df_train.isna().sum()"
   ]
  },
  {
   "cell_type": "code",
   "execution_count": 74,
   "metadata": {
    "scrolled": true
   },
   "outputs": [
    {
     "data": {
      "text/plain": [
       "Id               0\n",
       "MSSubClass       0\n",
       "MSZoning         0\n",
       "LotFrontage      0\n",
       "LotArea          0\n",
       "Street           0\n",
       "Alley            0\n",
       "LotShape         0\n",
       "LandContour      0\n",
       "Utilities        0\n",
       "LotConfig        0\n",
       "LandSlope        0\n",
       "Neighborhood     0\n",
       "Condition1       0\n",
       "Condition2       0\n",
       "BldgType         0\n",
       "HouseStyle       0\n",
       "OverallQual      0\n",
       "OverallCond      0\n",
       "YearBuilt        0\n",
       "YearRemodAdd     0\n",
       "RoofStyle        0\n",
       "RoofMatl         0\n",
       "Exterior1st      0\n",
       "Exterior2nd      0\n",
       "MasVnrType       0\n",
       "MasVnrArea       0\n",
       "ExterQual        0\n",
       "ExterCond        0\n",
       "Foundation       0\n",
       "BsmtQual         0\n",
       "BsmtCond         0\n",
       "BsmtExposure     0\n",
       "BsmtFinType1     0\n",
       "BsmtFinSF1       0\n",
       "BsmtFinType2     0\n",
       "BsmtFinSF2       0\n",
       "BsmtUnfSF        0\n",
       "TotalBsmtSF      0\n",
       "Heating          0\n",
       "HeatingQC        0\n",
       "CentralAir       0\n",
       "Electrical       0\n",
       "1stFlrSF         0\n",
       "2ndFlrSF         0\n",
       "LowQualFinSF     0\n",
       "GrLivArea        0\n",
       "BsmtFullBath     0\n",
       "BsmtHalfBath     0\n",
       "FullBath         0\n",
       "HalfBath         0\n",
       "BedroomAbvGr     0\n",
       "KitchenAbvGr     0\n",
       "KitchenQual      0\n",
       "TotRmsAbvGrd     0\n",
       "Functional       0\n",
       "Fireplaces       0\n",
       "FireplaceQu      0\n",
       "GarageType       0\n",
       "GarageYrBlt      0\n",
       "GarageFinish     0\n",
       "GarageCars       0\n",
       "GarageArea       0\n",
       "GarageQual       0\n",
       "GarageCond       0\n",
       "PavedDrive       0\n",
       "WoodDeckSF       0\n",
       "OpenPorchSF      0\n",
       "EnclosedPorch    0\n",
       "3SsnPorch        0\n",
       "ScreenPorch      0\n",
       "PoolArea         0\n",
       "PoolQC           0\n",
       "Fence            0\n",
       "MiscFeature      0\n",
       "MiscVal          0\n",
       "MoSold           0\n",
       "YrSold           0\n",
       "SaleType         0\n",
       "SaleCondition    0\n",
       "dtype: int64"
      ]
     },
     "execution_count": 74,
     "metadata": {},
     "output_type": "execute_result"
    }
   ],
   "source": [
    "# Check if there are any missing values left in test set\n",
    "df_test.isna().sum()"
   ]
  },
  {
   "cell_type": "markdown",
   "metadata": {},
   "source": [
    "#### 1.3 Feature Engineering\n",
    "\n",
    "I will start by creating some new features based on the existing ones.\n",
    "\n",
    "#### 1.3.1 Creating new features\n",
    "\n",
    "I will create the following features:\n",
    "* TotalSF - Total square feet of living area above and below ground\n",
    "* TotalPorchArea - Total area of porches in the house\n",
    "* TotalBathrooms - Total amount of bathrooms (basement and above ground)\n",
    "* HouseAge - Age of the house up until the year that it was sold. If the house was remodeled than that will be considered as year that it was built\n",
    "* Remodeled - Indicates if the house was remodeled or not. This should be seen as some sort of penalty parameter that indicates that if the HouseAge is based on a remodeling date, it is probably worth less than houses that were built from scratch in that same year.\n",
    "* isNew - Indicates if the house was built and sold in the same year (considered new)"
   ]
  },
  {
   "cell_type": "code",
   "execution_count": 75,
   "metadata": {},
   "outputs": [],
   "source": [
    "def create_features(df):\n",
    "    df['TotalSF'] = df['TotalBsmtSF'] + df['1stFlrSF'] + df['2ndFlrSF']\n",
    "    df['TotalPorchArea'] = df['OpenPorchSF'] + df['EnclosedPorch'] + df['3SsnPorch'] + df['ScreenPorch']\n",
    "    df['TotalBathrooms'] = df['FullBath'] + (0.5 * df['HalfBath']) + df['BsmtFullBath'] + (0.5 * df['BsmtHalfBath'])\n",
    "    df['HouseAge'] = df['YrSold'] - df['YearRemodAdd']\n",
    "    df['Remodeled'] = np.where(df['YearBuilt'] == df['YearRemodAdd'], 1, 0)\n",
    "    df['isNew'] = np.where(df['YearBuilt'] == df['YrSold'], 1, 0)\n",
    "\n",
    "# Create features in training and test sets\n",
    "create_features(df_train)\n",
    "create_features(df_test)"
   ]
  },
  {
   "cell_type": "markdown",
   "metadata": {},
   "source": [
    "#### 1.3.2 Skewed features\n",
    "\n",
    "I will check if the numerical features are skewed and if so I will normalize them using a box cox transformation of 1 + x. I will join the training and the test sets so that the same variables are normalized."
   ]
  },
  {
   "cell_type": "code",
   "execution_count": 76,
   "metadata": {},
   "outputs": [
    {
     "data": {
      "image/png": "[encoded data removed]",
      "text/plain": [
       "<Figure size 1080x432 with 1 Axes>"
      ]
     },
     "metadata": {},
     "output_type": "display_data"
    }
   ],
   "source": [
    "def skewness(df):\n",
    "    # Get labels of numerical features\n",
    "    numeric_features = df.dtypes[df.dtypes != 'object'].index\n",
    "\n",
    "    # Check the skew of all numerical features\n",
    "    skewed_features = df[numeric_features].skew().sort_values(ascending=False)\n",
    "    df_skew = pd.DataFrame(skewed_features, columns=['Skew'])\n",
    "\n",
    "    # Plot skew\n",
    "    df_skew.plot.bar(legend=None, figsize=(15, 6))\n",
    "    plt.ylabel('Skew', fontsize=14)\n",
    "    plt.title(f'Skew of numerical features in dataset', fontsize=16);\n",
    "    \n",
    "    # Get all variables with skewness above 0.5 or below -0.5\n",
    "    df_skew = df_skew[abs(df_skew) > 0.5].dropna()\n",
    "    df_skew = df_skew.drop('isNew')\n",
    "\n",
    "    # Box cox transform\n",
    "    skewed_indices = df_skew.index\n",
    "    lambda_ = 0.15\n",
    "    for feature in skewed_indices:\n",
    "        df[feature] = boxcox1p(df[feature], lambda_)\n",
    "\n",
    "# Remove 'SalePrice' from DataFrame and store it in another variable\n",
    "df = df_train.drop('SalePrice', axis=1)\n",
    "saleprice = df_train['SalePrice']\n",
    "\n",
    "# Joined datasets\n",
    "datasets = pd.concat([df, df_test], ignore_index=True)\n",
    "\n",
    "skewness(datasets)"
   ]
  },
  {
   "cell_type": "markdown",
   "metadata": {},
   "source": [
    "#### 1.3.3 Turn numerical features into categorical features\n",
    "\n",
    "There are a few numerical features that in reality are categorical. Some are already in a scale of 1 to something and their values should have some sort of ranking. But there are 3 variables that their values shouldn't have any kind of ranking and so I will turn them into categorical variablesin order to one hot encode them. The 3 variables are the following:\n",
    "* MSSubClass\n",
    "* OverallQual\n",
    "* OverallCond\n",
    "* MoSold\n",
    "* YrSold\n",
    "\n",
    "`MSSubClass` has numeric values that are categories but they don't have any relationship between them so I will one hot encode it afterwards. Since this dataset only has a span of 5 years of sales, `YrSold` can be considered a categorical variable and `MoSold` refers to the months so it is also categorical. Both these variables will be one hot encoded afterwards given that their values don't have a ranking, e.g. December is not 'better' than January."
   ]
  },
  {
   "cell_type": "code",
   "execution_count": 77,
   "metadata": {},
   "outputs": [],
   "source": [
    "def turn_num_into_cat(df):\n",
    "    df['MSSubClass'] = df['MSSubClass'].astype(str)\n",
    "    df['YrSold'] = df['YrSold'].astype(str)\n",
    "    df['MoSold'] = df['MoSold'].astype(str)\n",
    "    \n",
    "turn_num_into_cat(datasets)"
   ]
  },
  {
   "cell_type": "markdown",
   "metadata": {},
   "source": [
    "#### 1.3.4 Label and One Hot Encoding\n",
    "\n",
    "As the final step of this EDA, I will label and one hot encode the categorical variables in order to move on to modelling.\n",
    "I will join both datasets to make sure that both have the same amount of columns, given that there is a possibility that some values might not exist in the test set and one hot encoding will create a discrepancy of columns."
   ]
  },
  {
   "cell_type": "code",
   "execution_count": 78,
   "metadata": {},
   "outputs": [],
   "source": [
    "def encoding(df):\n",
    "    # Label encoding\n",
    "    label_columns = ('ExterQual', 'ExterCond', 'BsmtQual', 'BsmtCond', 'BsmtExposure', 'BsmtFinType1',\n",
    "               'BsmtFinType2', 'HeatingQC', 'KitchenQual', 'Functional', 'FireplaceQu', 'GarageFinish', \n",
    "               'GarageQual', 'GarageCond', 'PoolQC', 'Fence')\n",
    "    \n",
    "    for column in label_columns:\n",
    "        label = LabelEncoder() \n",
    "        label.fit(list(df[column].values)) \n",
    "        df[column] = label.transform(list(df[column].values))\n",
    "    \n",
    "    # Turn variable datatype to integer\n",
    "    df['GarageYrBlt'] = df['GarageYrBlt'].astype(int)\n",
    "    \n",
    "    # One hot encoding\n",
    "    one_hot_columns = df.dtypes[df.dtypes == 'object'].index\n",
    "    df[one_hot_columns] = df[one_hot_columns].astype('category')\n",
    "    df = pd.get_dummies(df)\n",
    "    \n",
    "    return df\n",
    "\n",
    "# Variable encoding\n",
    "df_encoded = encoding(datasets)"
   ]
  },
  {
   "cell_type": "markdown",
   "metadata": {},
   "source": [
    "I will delete the `ID` column since it doen't have any significance."
   ]
  },
  {
   "cell_type": "code",
   "execution_count": 79,
   "metadata": {},
   "outputs": [
    {
     "data": {
      "text/plain": [
       "((1458, 268), (1459, 268))"
      ]
     },
     "execution_count": 79,
     "metadata": {},
     "output_type": "execute_result"
    }
   ],
   "source": [
    "# Drop 'Id' column\n",
    "df_encoded.drop('Id', axis=1, inplace=True)\n",
    "\n",
    "# Split encoded DataFrame into training and test sets\n",
    "train = df_encoded.loc[:1457, :]\n",
    "test = df_encoded.loc[1458:, :]\n",
    "\n",
    "# Check dimensions of training and test sets\n",
    "train.shape, test.shape"
   ]
  },
  {
   "cell_type": "markdown",
   "metadata": {},
   "source": [
    "### 2. Modelling\n",
    "\n",
    "Since this is a regression problem, I will train the following models:\n",
    "* Linear Regression\n",
    "* Ridge Regression\n",
    "* Lasso Regression\n",
    "* Elastic Net Regression\n",
    "* Stochastic Gradient Descent\n",
    "* Support Vector Machine (Gaussian kernel)\n",
    "* Random Forest\n",
    "\n",
    "#### 2.1 Baseline models"
   ]
  },
  {
   "cell_type": "code",
   "execution_count": 80,
   "metadata": {},
   "outputs": [
    {
     "data": {
      "text/html": [
       "<div>\n",
       "<style scoped>\n",
       "    .dataframe tbody tr th:only-of-type {\n",
       "        vertical-align: middle;\n",
       "    }\n",
       "\n",
       "    .dataframe tbody tr th {\n",
       "        vertical-align: top;\n",
       "    }\n",
       "\n",
       "    .dataframe thead th {\n",
       "        text-align: right;\n",
       "    }\n",
       "</style>\n",
       "<table border=\"1\" class=\"dataframe\">\n",
       "  <thead>\n",
       "    <tr style=\"text-align: right;\">\n",
       "      <th></th>\n",
       "      <th>RMSE</th>\n",
       "    </tr>\n",
       "  </thead>\n",
       "  <tbody>\n",
       "    <tr>\n",
       "      <th>Linear Regression</th>\n",
       "      <td>-0.125852</td>\n",
       "    </tr>\n",
       "    <tr>\n",
       "      <th>Ridge Regression</th>\n",
       "      <td>-0.119342</td>\n",
       "    </tr>\n",
       "    <tr>\n",
       "      <th>Lasso Regression</th>\n",
       "      <td>-0.273140</td>\n",
       "    </tr>\n",
       "    <tr>\n",
       "      <th>Elastic Net Regression</th>\n",
       "      <td>-0.269631</td>\n",
       "    </tr>\n",
       "    <tr>\n",
       "      <th>Gaussian SVM</th>\n",
       "      <td>-0.273487</td>\n",
       "    </tr>\n",
       "    <tr>\n",
       "      <th>Random Forest</th>\n",
       "      <td>-0.137213</td>\n",
       "    </tr>\n",
       "    <tr>\n",
       "      <th>Gradient Boosting</th>\n",
       "      <td>-0.121643</td>\n",
       "    </tr>\n",
       "    <tr>\n",
       "      <th>XGBoost</th>\n",
       "      <td>-0.131097</td>\n",
       "    </tr>\n",
       "    <tr>\n",
       "      <th>LightGBM</th>\n",
       "      <td>-0.127414</td>\n",
       "    </tr>\n",
       "  </tbody>\n",
       "</table>\n",
       "</div>"
      ],
      "text/plain": [
       "                            RMSE\n",
       "Linear Regression      -0.125852\n",
       "Ridge Regression       -0.119342\n",
       "Lasso Regression       -0.273140\n",
       "Elastic Net Regression -0.269631\n",
       "Gaussian SVM           -0.273487\n",
       "Random Forest          -0.137213\n",
       "Gradient Boosting      -0.121643\n",
       "XGBoost                -0.131097\n",
       "LightGBM               -0.127414"
      ]
     },
     "execution_count": 80,
     "metadata": {},
     "output_type": "execute_result"
    }
   ],
   "source": [
    "# Assign data to X and y\n",
    "X = train\n",
    "y = saleprice\n",
    "\n",
    "from sklearn.ensemble import GradientBoostingRegressor\n",
    "import xgboost as xgb\n",
    "import lightgbm as lgb\n",
    "\n",
    "# Create a dictionary with all the models that I will use\n",
    "models = {'Linear Regression': LinearRegression(),\n",
    "          'Ridge Regression': Ridge(),\n",
    "          'Lasso Regression': Lasso(),\n",
    "          'Elastic Net Regression': ElasticNet(),\n",
    "          'Gaussian SVM': SVR(),\n",
    "          'Random Forest': RandomForestRegressor(),\n",
    "          'Gradient Boosting': GradientBoostingRegressor(),\n",
    "          'XGBoost': xgb.XGBRegressor(),\n",
    "          'LightGBM': lgb.LGBMRegressor()}\n",
    "\n",
    "# Evaluation function\n",
    "def evaluate_model(models):\n",
    "    \n",
    "    # Set random seed\n",
    "    np.random.seed(37)\n",
    "    \n",
    "    # Initialize variables\n",
    "    results = dict()\n",
    "    model_names = []\n",
    "    \n",
    "    for model_name, model in models.items():        \n",
    "        # Evaluation metric\n",
    "        rmse = np.mean(cross_val_score(model, X, y, cv=5, scoring='neg_root_mean_squared_error'))\n",
    "        \n",
    "        # Append rmse score to model key\n",
    "        results[model_name] = rmse\n",
    "        \n",
    "        # Append model name\n",
    "        model_names.append(model_name)\n",
    "        \n",
    "    # Create DataFrame with the results\n",
    "    results_df = pd.DataFrame(results.values(), index=results.keys(), columns=['RMSE'])\n",
    "        \n",
    "    return results_df\n",
    "\n",
    "# View results\n",
    "results_df = evaluate_model(models)\n",
    "results_df"
   ]
  },
  {
   "cell_type": "markdown",
   "metadata": {},
   "source": [
    "Looking at the RMSE score, I am already getting pretty good results from these baseline models. I will drop the Lasso and Elastic Net Regression models and SVM model since these perform the worst on this data and I will proceed with hyperparameter tuning of the remaining models.\n",
    "\n",
    "#### 2.2 Hyperparameter tuning\n",
    "\n",
    "I will use RandomizedSearchCV to find the best hyperparameters for each model"
   ]
  },
  {
   "cell_type": "code",
   "execution_count": 81,
   "metadata": {},
   "outputs": [
    {
     "name": "stdout",
     "output_type": "stream",
     "text": [
      "Fitting 5 folds for each of 200 candidates, totalling 1000 fits\n"
     ]
    },
    {
     "name": "stderr",
     "output_type": "stream",
     "text": [
      "[Parallel(n_jobs=-1)]: Using backend LokyBackend with 4 concurrent workers.\n",
      "[Parallel(n_jobs=-1)]: Done  42 tasks      | elapsed:    6.9s\n",
      "[Parallel(n_jobs=-1)]: Done 192 tasks      | elapsed:   37.5s\n",
      "[Parallel(n_jobs=-1)]: Done 442 tasks      | elapsed:  1.5min\n",
      "[Parallel(n_jobs=-1)]: Done 792 tasks      | elapsed:  2.6min\n",
      "[Parallel(n_jobs=-1)]: Done 1000 out of 1000 | elapsed:  3.0min finished\n"
     ]
    },
    {
     "data": {
      "text/plain": [
       "RandomizedSearchCV(cv=5, error_score=nan,\n",
       "                   estimator=RandomForestRegressor(bootstrap=True,\n",
       "                                                   ccp_alpha=0.0,\n",
       "                                                   criterion='mse',\n",
       "                                                   max_depth=None,\n",
       "                                                   max_features='auto',\n",
       "                                                   max_leaf_nodes=None,\n",
       "                                                   max_samples=None,\n",
       "                                                   min_impurity_decrease=0.0,\n",
       "                                                   min_impurity_split=None,\n",
       "                                                   min_samples_leaf=1,\n",
       "                                                   min_samples_split=2,\n",
       "                                                   min_weight_fraction_leaf=0.0,\n",
       "                                                   n_estimators=100,\n",
       "                                                   n_jobs=None, oob_score=Fals...\n",
       "                   param_distributions={'max_depth': [None, 3, 5, 10],\n",
       "                                        'max_features': [0.5, 1, 'sqrt',\n",
       "                                                         'auto'],\n",
       "                                        'min_samples_leaf': array([ 1,  3,  5,  7,  9, 11, 13, 15, 17, 19]),\n",
       "                                        'min_samples_split': array([ 2,  4,  6,  8, 10, 12, 14, 16, 18]),\n",
       "                                        'n_estimators': array([10, 20, 30, 40, 50, 60, 70, 80, 90])},\n",
       "                   pre_dispatch='2*n_jobs', random_state=37, refit=True,\n",
       "                   return_train_score=False,\n",
       "                   scoring='neg_root_mean_squared_error', verbose=True)"
      ]
     },
     "execution_count": 81,
     "metadata": {},
     "output_type": "execute_result"
    }
   ],
   "source": [
    "# Hyperparameter grid for LightGBM model\n",
    "lightgbm_grid = {'num_leaves': np.arange(6, 50, 3), \n",
    "                 'min_child_samples': np.arange(100, 500, 50), \n",
    "                 'min_child_weight': [1e-5, 1e-3, 1e-2, 1e-1, 1, 1e1, 1e2, 1e3, 1e4],\n",
    "                 'subsample': [0.6, 0.8, 1.0], \n",
    "                 'colsample_bytree': [0.3, 0.4, 0.5 , 0.7],\n",
    "                 'reg_alpha': [0, 1e-1, 1, 2, 5, 7, 10, 50, 100],\n",
    "                 'reg_lambda': [0, 1e-1, 1, 5, 10, 20, 50, 100]}\n",
    "\n",
    "# Hyperparameter grid for XGBoost model\n",
    "xgboost_grid = {\"learning_rate\": [0.05, 0.10, 0.15, 0.20, 0.25, 0.30],\n",
    "                \"max_depth\": [3, 4, 5, 6, 8, 10, 12, 15],\n",
    "                'subsample': [0.6, 0.8, 1.0],\n",
    "                \"min_child_weight\": [1, 3, 5, 7],\n",
    "                \"gamma\": [0.0, 0.1, 0.2 , 0.3, 0.4],\n",
    "                \"colsample_bytree\": [0.3, 0.4, 0.5 , 0.7]}\n",
    "\n",
    "# Hyperparameter grid for Gradient Boosting model\n",
    "gb_grid = {'learning_rate': [0.01, 0.1, 1, 10, 100],\n",
    "           'n_estimators': np.arange(10, 100, 10),\n",
    "           'max_depth': [None, 3, 5, 10],\n",
    "           'min_samples_split': np.arange(2, 20, 2),\n",
    "           'min_samples_leaf': np.arange(1, 20, 2),\n",
    "           'max_features': [0.5, 1, 'sqrt', 'auto']}\n",
    "\n",
    "# Hyperparameter grid for Ridge Regression\n",
    "ridge_grid = {'alpha': np.arange(1, 20, 0.5)}\n",
    "\n",
    "# Hyperparameter grid for Random Forest\n",
    "rf_grid = {'n_estimators': np.arange(10, 100, 10),\n",
    "           'max_depth': [None, 3, 5, 10],\n",
    "           'min_samples_split': np.arange(2, 20, 2),\n",
    "           'min_samples_leaf': np.arange(1, 20, 2),\n",
    "           'max_features': [0.5, 1, 'sqrt', 'auto']}\n",
    "\n",
    "\n",
    "\n",
    "# Instantiate RandomizedSearchCV Random Forest model\n",
    "rs_rf = RandomizedSearchCV(RandomForestRegressor(),\n",
    "                           param_distributions=rf_grid,\n",
    "                           n_iter=200,\n",
    "                           scoring='neg_root_mean_squared_error',\n",
    "                           cv=5,\n",
    "                           verbose=True,\n",
    "                           n_jobs=-1,\n",
    "                           random_state=37)\n",
    "\n",
    "# Fit Random Forest model to the data\n",
    "rs_rf.fit(X, y)"
   ]
  },
  {
   "cell_type": "code",
   "execution_count": 82,
   "metadata": {},
   "outputs": [
    {
     "data": {
      "text/plain": [
       "{'n_estimators': 70,\n",
       " 'min_samples_split': 8,\n",
       " 'min_samples_leaf': 1,\n",
       " 'max_features': 0.5,\n",
       " 'max_depth': None}"
      ]
     },
     "execution_count": 82,
     "metadata": {},
     "output_type": "execute_result"
    }
   ],
   "source": [
    "# Find best hyperparameter combination for Random Forest model\n",
    "rs_rf.best_params_"
   ]
  },
  {
   "cell_type": "code",
   "execution_count": 83,
   "metadata": {},
   "outputs": [
    {
     "name": "stderr",
     "output_type": "stream",
     "text": [
      "C:\\Users\\Barrozito\\anaconda3\\lib\\site-packages\\sklearn\\model_selection\\_search.py:281: UserWarning: The total space of parameters 38 is smaller than n_iter=100. Running 38 iterations. For exhaustive searches, use GridSearchCV.\n",
      "  % (grid_size, self.n_iter, grid_size), UserWarning)\n",
      "[Parallel(n_jobs=-1)]: Using backend LokyBackend with 4 concurrent workers.\n"
     ]
    },
    {
     "name": "stdout",
     "output_type": "stream",
     "text": [
      "Fitting 5 folds for each of 38 candidates, totalling 190 fits\n"
     ]
    },
    {
     "name": "stderr",
     "output_type": "stream",
     "text": [
      "[Parallel(n_jobs=-1)]: Done 128 tasks      | elapsed:    1.8s\n",
      "[Parallel(n_jobs=-1)]: Done 190 out of 190 | elapsed:    2.7s finished\n"
     ]
    },
    {
     "data": {
      "text/plain": [
       "RandomizedSearchCV(cv=5, error_score=nan,\n",
       "                   estimator=Ridge(alpha=1.0, copy_X=True, fit_intercept=True,\n",
       "                                   max_iter=None, normalize=False,\n",
       "                                   random_state=None, solver='auto',\n",
       "                                   tol=0.001),\n",
       "                   iid='deprecated', n_iter=100, n_jobs=-1,\n",
       "                   param_distributions={'alpha': array([ 1. ,  1.5,  2. ,  2.5,  3. ,  3.5,  4. ,  4.5,  5. ,  5.5,  6. ,\n",
       "        6.5,  7. ,  7.5,  8. ,  8.5,  9. ,  9.5, 10. , 10.5, 11. , 11.5,\n",
       "       12. , 12.5, 13. , 13.5, 14. , 14.5, 15. , 15.5, 16. , 16.5, 17. ,\n",
       "       17.5, 18. , 18.5, 19. , 19.5])},\n",
       "                   pre_dispatch='2*n_jobs', random_state=37, refit=True,\n",
       "                   return_train_score=False,\n",
       "                   scoring='neg_root_mean_squared_error', verbose=True)"
      ]
     },
     "execution_count": 83,
     "metadata": {},
     "output_type": "execute_result"
    }
   ],
   "source": [
    "# Instantiate RandomizedSearchCV Ridge Regression model\n",
    "rs_ridge = RandomizedSearchCV(Ridge(),\n",
    "                              param_distributions=ridge_grid,\n",
    "                              n_iter=100,\n",
    "                              scoring='neg_root_mean_squared_error',\n",
    "                              cv=5,\n",
    "                              verbose=True,\n",
    "                              n_jobs=-1,\n",
    "                              random_state=37)\n",
    "\n",
    "# Fit Ridge Regression model to the data\n",
    "rs_ridge.fit(X, y)"
   ]
  },
  {
   "cell_type": "code",
   "execution_count": 84,
   "metadata": {},
   "outputs": [
    {
     "data": {
      "text/plain": [
       "{'alpha': 10.5}"
      ]
     },
     "execution_count": 84,
     "metadata": {},
     "output_type": "execute_result"
    }
   ],
   "source": [
    "# Find best hyperparameter combination for Ridge Regression model\n",
    "rs_ridge.best_params_"
   ]
  },
  {
   "cell_type": "code",
   "execution_count": 85,
   "metadata": {},
   "outputs": [
    {
     "name": "stdout",
     "output_type": "stream",
     "text": [
      "Fitting 5 folds for each of 200 candidates, totalling 1000 fits\n"
     ]
    },
    {
     "name": "stderr",
     "output_type": "stream",
     "text": [
      "[Parallel(n_jobs=-1)]: Using backend LokyBackend with 4 concurrent workers.\n",
      "[Parallel(n_jobs=-1)]: Done  42 tasks      | elapsed:    8.1s\n",
      "[Parallel(n_jobs=-1)]: Done 192 tasks      | elapsed:   36.9s\n",
      "[Parallel(n_jobs=-1)]: Done 442 tasks      | elapsed:  1.5min\n",
      "[Parallel(n_jobs=-1)]: Done 792 tasks      | elapsed:  2.8min\n",
      "[Parallel(n_jobs=-1)]: Done 1000 out of 1000 | elapsed:  3.2min finished\n",
      "C:\\Users\\Barrozito\\anaconda3\\lib\\site-packages\\sklearn\\model_selection\\_search.py:788: RuntimeWarning: invalid value encountered in subtract\n",
      "  array_means[:, np.newaxis]) ** 2,\n"
     ]
    },
    {
     "data": {
      "text/plain": [
       "RandomizedSearchCV(cv=5, error_score=nan,\n",
       "                   estimator=GradientBoostingRegressor(alpha=0.9, ccp_alpha=0.0,\n",
       "                                                       criterion='friedman_mse',\n",
       "                                                       init=None,\n",
       "                                                       learning_rate=0.1,\n",
       "                                                       loss='ls', max_depth=3,\n",
       "                                                       max_features=None,\n",
       "                                                       max_leaf_nodes=None,\n",
       "                                                       min_impurity_decrease=0.0,\n",
       "                                                       min_impurity_split=None,\n",
       "                                                       min_samples_leaf=1,\n",
       "                                                       min_samples_split=2,\n",
       "                                                       min_weight_fraction_leaf=0.0,\n",
       "                                                       n_estimators=100,\n",
       "                                                       n_...\n",
       "                                                          100],\n",
       "                                        'max_depth': [None, 3, 5, 10],\n",
       "                                        'max_features': [0.5, 1, 'sqrt',\n",
       "                                                         'auto'],\n",
       "                                        'min_samples_leaf': array([ 1,  3,  5,  7,  9, 11, 13, 15, 17, 19]),\n",
       "                                        'min_samples_split': array([ 2,  4,  6,  8, 10, 12, 14, 16, 18]),\n",
       "                                        'n_estimators': array([10, 20, 30, 40, 50, 60, 70, 80, 90])},\n",
       "                   pre_dispatch='2*n_jobs', random_state=37, refit=True,\n",
       "                   return_train_score=False,\n",
       "                   scoring='neg_root_mean_squared_error', verbose=True)"
      ]
     },
     "execution_count": 85,
     "metadata": {},
     "output_type": "execute_result"
    }
   ],
   "source": [
    "# Instantiate RandomizedSearchCV Gradient Boosting model\n",
    "rs_gb = RandomizedSearchCV(GradientBoostingRegressor(),\n",
    "                           param_distributions=gb_grid,\n",
    "                           n_iter=200,\n",
    "                           scoring='neg_root_mean_squared_error',\n",
    "                           cv=5,\n",
    "                           verbose=True,\n",
    "                           n_jobs=-1,\n",
    "                           random_state=37)\n",
    "\n",
    "# Fit Gradient Boosting model to the data\n",
    "rs_gb.fit(X, y)"
   ]
  },
  {
   "cell_type": "code",
   "execution_count": 86,
   "metadata": {},
   "outputs": [
    {
     "data": {
      "text/plain": [
       "{'n_estimators': 70,\n",
       " 'min_samples_split': 2,\n",
       " 'min_samples_leaf': 1,\n",
       " 'max_features': 0.5,\n",
       " 'max_depth': 5,\n",
       " 'learning_rate': 0.1}"
      ]
     },
     "execution_count": 86,
     "metadata": {},
     "output_type": "execute_result"
    }
   ],
   "source": [
    "# Find best hyperparameter combination for Gradient Boosting model\n",
    "rs_gb.best_params_"
   ]
  },
  {
   "cell_type": "code",
   "execution_count": 87,
   "metadata": {},
   "outputs": [
    {
     "name": "stdout",
     "output_type": "stream",
     "text": [
      "Fitting 5 folds for each of 200 candidates, totalling 1000 fits\n"
     ]
    },
    {
     "name": "stderr",
     "output_type": "stream",
     "text": [
      "[Parallel(n_jobs=-1)]: Using backend LokyBackend with 4 concurrent workers.\n",
      "[Parallel(n_jobs=-1)]: Done  42 tasks      | elapsed:   30.3s\n",
      "[Parallel(n_jobs=-1)]: Done 192 tasks      | elapsed:  2.1min\n",
      "[Parallel(n_jobs=-1)]: Done 442 tasks      | elapsed:  4.8min\n",
      "[Parallel(n_jobs=-1)]: Done 792 tasks      | elapsed:  8.9min\n",
      "[Parallel(n_jobs=-1)]: Done 1000 out of 1000 | elapsed: 11.4min finished\n"
     ]
    },
    {
     "data": {
      "text/plain": [
       "RandomizedSearchCV(cv=5, error_score=nan,\n",
       "                   estimator=XGBRegressor(base_score=None, booster=None,\n",
       "                                          colsample_bylevel=None,\n",
       "                                          colsample_bynode=None,\n",
       "                                          colsample_bytree=None, gamma=None,\n",
       "                                          gpu_id=None, importance_type='gain',\n",
       "                                          interaction_constraints=None,\n",
       "                                          learning_rate=None,\n",
       "                                          max_delta_step=None, max_depth=None,\n",
       "                                          min_child_weight=None, missing=nan,\n",
       "                                          monotone_constraints=None,\n",
       "                                          n_...\n",
       "                   iid='deprecated', n_iter=200, n_jobs=-1,\n",
       "                   param_distributions={'colsample_bytree': [0.3, 0.4, 0.5,\n",
       "                                                             0.7],\n",
       "                                        'gamma': [0.0, 0.1, 0.2, 0.3, 0.4],\n",
       "                                        'learning_rate': [0.05, 0.1, 0.15, 0.2,\n",
       "                                                          0.25, 0.3],\n",
       "                                        'max_depth': [3, 4, 5, 6, 8, 10, 12,\n",
       "                                                      15],\n",
       "                                        'min_child_weight': [1, 3, 5, 7],\n",
       "                                        'subsample': [0.6, 0.8, 1.0]},\n",
       "                   pre_dispatch='2*n_jobs', random_state=37, refit=True,\n",
       "                   return_train_score=False,\n",
       "                   scoring='neg_root_mean_squared_error', verbose=True)"
      ]
     },
     "execution_count": 87,
     "metadata": {},
     "output_type": "execute_result"
    }
   ],
   "source": [
    "# Instantiate RandomizedSearchCV XGBoost model\n",
    "rs_xgboost = RandomizedSearchCV(xgb.XGBRegressor(),\n",
    "                                param_distributions=xgboost_grid,\n",
    "                                n_iter=200,\n",
    "                                scoring='neg_root_mean_squared_error',\n",
    "                                cv=5,\n",
    "                                verbose=True,\n",
    "                                n_jobs=-1,\n",
    "                                random_state=37)\n",
    "\n",
    "# Fit XGBoost model to the data\n",
    "rs_xgboost.fit(X, y)"
   ]
  },
  {
   "cell_type": "code",
   "execution_count": 88,
   "metadata": {},
   "outputs": [
    {
     "data": {
      "text/plain": [
       "{'subsample': 1.0,\n",
       " 'min_child_weight': 3,\n",
       " 'max_depth': 3,\n",
       " 'learning_rate': 0.15,\n",
       " 'gamma': 0.0,\n",
       " 'colsample_bytree': 0.4}"
      ]
     },
     "execution_count": 88,
     "metadata": {},
     "output_type": "execute_result"
    }
   ],
   "source": [
    "# Find best hyperparameter combination for XGBoost model\n",
    "rs_xgboost.best_params_"
   ]
  },
  {
   "cell_type": "code",
   "execution_count": 89,
   "metadata": {},
   "outputs": [
    {
     "name": "stdout",
     "output_type": "stream",
     "text": [
      "Fitting 5 folds for each of 200 candidates, totalling 1000 fits\n"
     ]
    },
    {
     "name": "stderr",
     "output_type": "stream",
     "text": [
      "[Parallel(n_jobs=-1)]: Using backend LokyBackend with 4 concurrent workers.\n",
      "[Parallel(n_jobs=-1)]: Done  42 tasks      | elapsed:    1.6s\n",
      "[Parallel(n_jobs=-1)]: Done 192 tasks      | elapsed:    7.8s\n",
      "[Parallel(n_jobs=-1)]: Done 442 tasks      | elapsed:   17.8s\n",
      "[Parallel(n_jobs=-1)]: Done 792 tasks      | elapsed:   32.4s\n",
      "[Parallel(n_jobs=-1)]: Done 1000 out of 1000 | elapsed:   40.4s finished\n"
     ]
    },
    {
     "data": {
      "text/plain": [
       "RandomizedSearchCV(cv=5, error_score=nan,\n",
       "                   estimator=LGBMRegressor(boosting_type='gbdt',\n",
       "                                           class_weight=None,\n",
       "                                           colsample_bytree=1.0,\n",
       "                                           importance_type='split',\n",
       "                                           learning_rate=0.1, max_depth=-1,\n",
       "                                           min_child_samples=20,\n",
       "                                           min_child_weight=0.001,\n",
       "                                           min_split_gain=0.0, n_estimators=100,\n",
       "                                           n_jobs=-1, num_leaves=31,\n",
       "                                           objective=None, random_state=None,\n",
       "                                           reg_alpha=0.0, reg_lambda=0.0,\n",
       "                                           silen...\n",
       "                                        'min_child_weight': [1e-05, 0.001, 0.01,\n",
       "                                                             0.1, 1, 10.0,\n",
       "                                                             100.0, 1000.0,\n",
       "                                                             10000.0],\n",
       "                                        'num_leaves': array([ 6,  9, 12, 15, 18, 21, 24, 27, 30, 33, 36, 39, 42, 45, 48]),\n",
       "                                        'reg_alpha': [0, 0.1, 1, 2, 5, 7, 10,\n",
       "                                                      50, 100],\n",
       "                                        'reg_lambda': [0, 0.1, 1, 5, 10, 20, 50,\n",
       "                                                       100],\n",
       "                                        'subsample': [0.6, 0.8, 1.0]},\n",
       "                   pre_dispatch='2*n_jobs', random_state=37, refit=True,\n",
       "                   return_train_score=False,\n",
       "                   scoring='neg_root_mean_squared_error', verbose=True)"
      ]
     },
     "execution_count": 89,
     "metadata": {},
     "output_type": "execute_result"
    }
   ],
   "source": [
    "# Instantiate RandomizedSearchCV LightGBM model\n",
    "rs_lightgbm = RandomizedSearchCV(lgb.LGBMRegressor(),\n",
    "                                 param_distributions=lightgbm_grid,\n",
    "                                 n_iter=200,\n",
    "                                 scoring='neg_root_mean_squared_error',\n",
    "                                 cv=5,\n",
    "                                 verbose=True,\n",
    "                                 n_jobs=-1,\n",
    "                                 random_state=37)\n",
    "\n",
    "# Fit LightGBM model to the data\n",
    "rs_lightgbm.fit(X, y)"
   ]
  },
  {
   "cell_type": "code",
   "execution_count": 90,
   "metadata": {},
   "outputs": [
    {
     "data": {
      "text/plain": [
       "{'subsample': 0.6,\n",
       " 'reg_lambda': 1,\n",
       " 'reg_alpha': 0,\n",
       " 'num_leaves': 45,\n",
       " 'min_child_weight': 0.1,\n",
       " 'min_child_samples': 100,\n",
       " 'colsample_bytree': 0.3}"
      ]
     },
     "execution_count": 90,
     "metadata": {},
     "output_type": "execute_result"
    }
   ],
   "source": [
    "# Find best hyperparameter combination for XGBoost model\n",
    "rs_lightgbm.best_params_"
   ]
  },
  {
   "cell_type": "code",
   "execution_count": 91,
   "metadata": {},
   "outputs": [
    {
     "data": {
      "text/html": [
       "<div>\n",
       "<style scoped>\n",
       "    .dataframe tbody tr th:only-of-type {\n",
       "        vertical-align: middle;\n",
       "    }\n",
       "\n",
       "    .dataframe tbody tr th {\n",
       "        vertical-align: top;\n",
       "    }\n",
       "\n",
       "    .dataframe thead th {\n",
       "        text-align: right;\n",
       "    }\n",
       "</style>\n",
       "<table border=\"1\" class=\"dataframe\">\n",
       "  <thead>\n",
       "    <tr style=\"text-align: right;\">\n",
       "      <th></th>\n",
       "      <th>RMSE</th>\n",
       "    </tr>\n",
       "  </thead>\n",
       "  <tbody>\n",
       "    <tr>\n",
       "      <th>Linear Regression</th>\n",
       "      <td>-0.125852</td>\n",
       "    </tr>\n",
       "    <tr>\n",
       "      <th>Ridge Regression</th>\n",
       "      <td>-0.115274</td>\n",
       "    </tr>\n",
       "    <tr>\n",
       "      <th>Random Forest</th>\n",
       "      <td>-0.133084</td>\n",
       "    </tr>\n",
       "    <tr>\n",
       "      <th>Gradient Boosting</th>\n",
       "      <td>-0.121901</td>\n",
       "    </tr>\n",
       "    <tr>\n",
       "      <th>XGBoost</th>\n",
       "      <td>-0.118121</td>\n",
       "    </tr>\n",
       "    <tr>\n",
       "      <th>LightGBM</th>\n",
       "      <td>-0.133467</td>\n",
       "    </tr>\n",
       "  </tbody>\n",
       "</table>\n",
       "</div>"
      ],
      "text/plain": [
       "                       RMSE\n",
       "Linear Regression -0.125852\n",
       "Ridge Regression  -0.115274\n",
       "Random Forest     -0.133084\n",
       "Gradient Boosting -0.121901\n",
       "XGBoost           -0.118121\n",
       "LightGBM          -0.133467"
      ]
     },
     "execution_count": 91,
     "metadata": {},
     "output_type": "execute_result"
    }
   ],
   "source": [
    "# Ridge Regression model with best hyperparameters found\n",
    "best_ridge = Ridge(alpha=10.5)\n",
    "\n",
    "# Random Forest model with best hyperparameters found\n",
    "best_rf = RandomForestRegressor(n_estimators= 70,\n",
    "                                min_samples_split=8,\n",
    "                                min_samples_leaf=1,\n",
    "                                max_features=0.5,\n",
    "                                max_depth=None,\n",
    "                                n_jobs=-1)\n",
    "\n",
    "# Gradient Boosting model with best hyperparameters found\n",
    "best_gb = GradientBoostingRegressor(n_estimators=70,\n",
    "                                    min_samples_split=2,\n",
    "                                    min_samples_leaf=1,\n",
    "                                    max_features=0.5,\n",
    "                                    max_depth=5,\n",
    "                                    learning_rate=0.1)\n",
    "\n",
    "# XGBoost model with best hyperparameters found\n",
    "best_xgboost = xgb.XGBRegressor(subsample=1.0,\n",
    "                                min_child_weight=3,\n",
    "                                max_depth=3,\n",
    "                                learning_rate=0.15,\n",
    "                                gamma=0.0,\n",
    "                                colsample_bytree=0.4)\n",
    "\n",
    "# LightGBM model with best hyperparameters found\n",
    "best_lightgbm = lgb.LGBMRegressor(subsample=0.6,\n",
    "                                  reg_lambda=1,\n",
    "                                  reg_alpha=0,\n",
    "                                  num_leaves=45,\n",
    "                                  min_child_weight=0.1,\n",
    "                                  min_child_samples=100,\n",
    "                                  colsample_bytree=0.3)\n",
    "\n",
    "# Dictionary with best models\n",
    "best_models = {'Linear Regression': LinearRegression(),\n",
    "               'Ridge Regression': best_ridge,\n",
    "               'Random Forest': best_rf,\n",
    "               'Gradient Boosting': best_gb,\n",
    "               'XGBoost': best_xgboost,\n",
    "               'LightGBM': best_lightgbm}\n",
    "\n",
    "# View results\n",
    "best_results_df = evaluate_model(best_models)\n",
    "best_results_df"
   ]
  },
  {
   "cell_type": "code",
   "execution_count": 92,
   "metadata": {},
   "outputs": [
    {
     "data": {
      "text/html": [
       "<div>\n",
       "<style scoped>\n",
       "    .dataframe tbody tr th:only-of-type {\n",
       "        vertical-align: middle;\n",
       "    }\n",
       "\n",
       "    .dataframe tbody tr th {\n",
       "        vertical-align: top;\n",
       "    }\n",
       "\n",
       "    .dataframe thead th {\n",
       "        text-align: right;\n",
       "    }\n",
       "</style>\n",
       "<table border=\"1\" class=\"dataframe\">\n",
       "  <thead>\n",
       "    <tr style=\"text-align: right;\">\n",
       "      <th></th>\n",
       "      <th>RMSE</th>\n",
       "      <th>Baseline RMSE</th>\n",
       "    </tr>\n",
       "  </thead>\n",
       "  <tbody>\n",
       "    <tr>\n",
       "      <th>Linear Regression</th>\n",
       "      <td>-0.125852</td>\n",
       "      <td>-0.125852</td>\n",
       "    </tr>\n",
       "    <tr>\n",
       "      <th>Ridge Regression</th>\n",
       "      <td>-0.115274</td>\n",
       "      <td>-0.119342</td>\n",
       "    </tr>\n",
       "    <tr>\n",
       "      <th>Random Forest</th>\n",
       "      <td>-0.133084</td>\n",
       "      <td>-0.137213</td>\n",
       "    </tr>\n",
       "    <tr>\n",
       "      <th>Gradient Boosting</th>\n",
       "      <td>-0.121901</td>\n",
       "      <td>-0.121643</td>\n",
       "    </tr>\n",
       "    <tr>\n",
       "      <th>XGBoost</th>\n",
       "      <td>-0.118121</td>\n",
       "      <td>-0.131097</td>\n",
       "    </tr>\n",
       "    <tr>\n",
       "      <th>LightGBM</th>\n",
       "      <td>-0.133467</td>\n",
       "      <td>-0.127414</td>\n",
       "    </tr>\n",
       "  </tbody>\n",
       "</table>\n",
       "</div>"
      ],
      "text/plain": [
       "                       RMSE  Baseline RMSE\n",
       "Linear Regression -0.125852      -0.125852\n",
       "Ridge Regression  -0.115274      -0.119342\n",
       "Random Forest     -0.133084      -0.137213\n",
       "Gradient Boosting -0.121901      -0.121643\n",
       "XGBoost           -0.118121      -0.131097\n",
       "LightGBM          -0.133467      -0.127414"
      ]
     },
     "execution_count": 92,
     "metadata": {},
     "output_type": "execute_result"
    }
   ],
   "source": [
    "# Create DataFrame to compare the RMSE scores\n",
    "compare_dfs = pd.concat([best_results_df, results_df], axis=1, ignore_index=True)\n",
    "compare_dfs.columns = ['RMSE', 'Baseline RMSE']\n",
    "compare_dfs.dropna(inplace=True)\n",
    "\n",
    "# View DataFrame\n",
    "compare_dfs"
   ]
  },
  {
   "cell_type": "markdown",
   "metadata": {},
   "source": [
    "The Linear Regression model doesn't have any hyperparameters that we can adjust so it remains the same. The rest of the models had slight improvements with exception of the Gradient Boosting and LightGBM models which have gotten a slightly worse RMSE score. \n",
    "\n",
    "The model that performs the best on this data is the Ridge Regression model and I will make my submission with this model.\n",
    "\n",
    "#### 2.4 Learning curves\n",
    "\n",
    "To check if the models fit the data well (not overfitting or underfitting) I will plot learning curves. I will only plot learning curves for the 3 models that perform the best in this dataset."
   ]
  },
  {
   "cell_type": "code",
   "execution_count": 93,
   "metadata": {},
   "outputs": [
    {
     "data": {
      "image/png": "[encoded data removed]",
      "text/plain": [
       "<Figure size 720x360 with 1 Axes>"
      ]
     },
     "metadata": {},
     "output_type": "display_data"
    }
   ],
   "source": [
    "def learning_curves(model, model_name):\n",
    "    train_sizes, train_scores, validation_scores = \\\n",
    "        learning_curve(model, X, y, cv=5, n_jobs=-1, random_state=37, scoring='neg_root_mean_squared_error')\n",
    "\n",
    "    train_scores_mean = np.mean(train_scores, axis=1)\n",
    "    validation_scores_mean = np.mean(validation_scores, axis=1)\n",
    "    train_scores_std = np.std(train_scores, axis=1)\n",
    "    validation_scores_std = np.std(validation_scores, axis=1)\n",
    "    \n",
    "    # Plot Learning Curves\n",
    "    plt.figure(figsize=(10, 5))\n",
    "    plt.plot(train_sizes, train_scores_mean, 'o-', color=\"r\", label=\"Training score\")\n",
    "    plt.plot(train_sizes, validation_scores_mean, 'o-', color=\"g\", label=\"Cross-validation score\")\n",
    "    plt.fill_between(train_sizes, train_scores_mean - train_scores_std,\n",
    "                         train_scores_mean + train_scores_std, alpha=0.1,\n",
    "                         color=\"r\")\n",
    "    plt.fill_between(train_sizes, validation_scores_mean - validation_scores_std,\n",
    "                         validation_scores_mean + validation_scores_std, alpha=0.1,\n",
    "                         color=\"g\")\n",
    "    plt.xlabel('Number of training examples', fontsize=14)\n",
    "    plt.ylabel('RMSE Score', fontsize=14)\n",
    "    plt.title(f'Learning curves - {model_name}', fontsize=16, y=1.05)\n",
    "    plt.legend()\n",
    "    plt.grid(True);\n",
    "               \n",
    "# Ridge Regression learning curves\n",
    "learning_curves(best_ridge, 'Ridge Regression')"
   ]
  },
  {
   "cell_type": "code",
   "execution_count": 94,
   "metadata": {},
   "outputs": [
    {
     "data": {
      "image/png": "[encoded data removed]",
      "text/plain": [
       "<Figure size 720x360 with 1 Axes>"
      ]
     },
     "metadata": {},
     "output_type": "display_data"
    }
   ],
   "source": [
    "# XGBoost learning curves\n",
    "learning_curves(best_xgboost, 'XGBoost')"
   ]
  },
  {
   "cell_type": "code",
   "execution_count": 95,
   "metadata": {},
   "outputs": [
    {
     "data": {
      "image/png": "[encoded data removed]",
      "text/plain": [
       "<Figure size 720x360 with 1 Axes>"
      ]
     },
     "metadata": {},
     "output_type": "display_data"
    }
   ],
   "source": [
    "# Gradient Boosting learning curves\n",
    "learning_curves(best_gb, 'Gradient Boosting')"
   ]
  },
  {
   "cell_type": "markdown",
   "metadata": {},
   "source": [
    "Ridge Regression model seems to fit the data well given that the training and cross validation scores are close to each other. XGBoost model seems to slightly overfit the data and Gradient Boosting clearly overfits the data. All models seem to benefit from having more samples since they are still converging.\n",
    "\n",
    "### 2.5 Feature importance\n",
    "\n",
    "I will check which features contributed the most for the predictions made by the Ridge Regression model."
   ]
  },
  {
   "cell_type": "code",
   "execution_count": 122,
   "metadata": {},
   "outputs": [
    {
     "data": {
      "image/png": "[encoded data removed]",
      "text/plain": [
       "<Figure size 864x504 with 1 Axes>"
      ]
     },
     "metadata": {},
     "output_type": "display_data"
    }
   ],
   "source": [
    "# Fit model to the data\n",
    "best_ridge.fit(X, y)\n",
    "\n",
    "# Create Dataframe of the top 20 features' weights\n",
    "feature_importance_1 = pd.DataFrame(best_ridge.coef_, index=X.columns).sort_values(0, ascending=False)[:10]\n",
    "feature_importance_2 = pd.DataFrame(best_ridge.coef_, index=X.columns).sort_values(0, ascending=False)[-10:]\n",
    "feature_importance = pd.concat([feature_importance_1, feature_importance_2])\n",
    "\n",
    "# Plot bar chart\n",
    "feature_importance.plot.barh(legend=False, figsize=(12, 7))\n",
    "plt.title('Feature weights', fontsize=18, y=1.03);"
   ]
  },
  {
   "cell_type": "markdown",
   "metadata": {},
   "source": [
    "### 3. Submission\n",
    "\n",
    "The last step is to create a submission file for Kaggle and check how I did in the leaderboard."
   ]
  },
  {
   "cell_type": "code",
   "execution_count": 123,
   "metadata": {},
   "outputs": [],
   "source": [
    "# Get original test dataset\n",
    "test_df = pd.read_csv('Data/test.csv')\n",
    "\n",
    "# Fit best Ridge Regression model\n",
    "best_ridge.fit(X, y)\n",
    "\n",
    "# Make predictions\n",
    "y_preds = np.expm1(best_ridge.predict(test))\n",
    "\n",
    "# Create submission DataFrame\n",
    "submission = pd.DataFrame({'Id': test_df['Id'], 'SalePrice': y_preds})\n",
    "\n",
    "submission.to_csv('submission.csv', index=False)"
   ]
  },
  {
   "cell_type": "markdown",
   "metadata": {},
   "source": [
    "I managed to get a score of 0.12149 on Kaggle and got a place in the top 1000."
   ]
  }
 ],
 "metadata": {
  "kernelspec": {
   "display_name": "Python 3",
   "language": "python",
   "name": "python3"
  },
  "language_info": {
   "codemirror_mode": {
    "name": "ipython",
    "version": 3
   },
   "file_extension": ".py",
   "mimetype": "text/x-python",
   "name": "python",
   "nbconvert_exporter": "python",
   "pygments_lexer": "ipython3",
   "version": "3.7.6"
  }
 },
 "nbformat": 4,
 "nbformat_minor": 4
}
